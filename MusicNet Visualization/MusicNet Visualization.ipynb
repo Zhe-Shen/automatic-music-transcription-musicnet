{
 "cells": [
  {
   "cell_type": "markdown",
   "metadata": {},
   "source": [
    "# Descriptive Method\n",
    "## Analyzing and visualizing the data"
   ]
  },
  {
   "cell_type": "markdown",
   "metadata": {},
   "source": [
    "### Importing the data"
   ]
  },
  {
   "cell_type": "code",
   "execution_count": 1,
   "metadata": {
    "tags": []
   },
   "outputs": [],
   "source": [
    "import os\n",
    "import pandas as pd\n",
    "\n",
    "# Read all of the CSV label files into dataframes:\n",
    "dfs = []\n",
    "for dirname, _, filenames in os.walk('test_labels'):\n",
    "    for filename in filenames:\n",
    "        df = pd.read_csv(os.path.join(dirname, filename))\n",
    "        df['id'] = int(filename[:filename.index('.')])\n",
    "        dfs.append(df)\n",
    "for dirname, _, filenames in os.walk('train_labels'):\n",
    "    for filename in filenames:\n",
    "        df = pd.read_csv(os.path.join(dirname, filename))\n",
    "        df['id'] = int(filename[:filename.index('.')])\n",
    "        dfs.append(df)"
   ]
  },
  {
   "cell_type": "markdown",
   "metadata": {},
   "source": [
    "#### The dataset provides an additional CSV file with metadata for each piece. We can use this file to filter the dataset for solo piano pieces only."
   ]
  },
  {
   "cell_type": "code",
   "execution_count": 2,
   "metadata": {
    "tags": []
   },
   "outputs": [
    {
     "data": {
      "text/html": [
       "<div>\n",
       "<style scoped>\n",
       "    .dataframe tbody tr th:only-of-type {\n",
       "        vertical-align: middle;\n",
       "    }\n",
       "\n",
       "    .dataframe tbody tr th {\n",
       "        vertical-align: top;\n",
       "    }\n",
       "\n",
       "    .dataframe thead th {\n",
       "        text-align: right;\n",
       "    }\n",
       "</style>\n",
       "<table border=\"1\" class=\"dataframe\">\n",
       "  <thead>\n",
       "    <tr style=\"text-align: right;\">\n",
       "      <th></th>\n",
       "      <th>start_time</th>\n",
       "      <th>end_time</th>\n",
       "      <th>instrument</th>\n",
       "      <th>note</th>\n",
       "      <th>start_beat</th>\n",
       "      <th>end_beat</th>\n",
       "      <th>note_value</th>\n",
       "      <th>id</th>\n",
       "      <th>composer</th>\n",
       "      <th>composition</th>\n",
       "      <th>movement</th>\n",
       "      <th>ensemble</th>\n",
       "      <th>source</th>\n",
       "      <th>transcriber</th>\n",
       "      <th>catalog_name</th>\n",
       "      <th>seconds</th>\n",
       "    </tr>\n",
       "  </thead>\n",
       "  <tbody>\n",
       "    <tr>\n",
       "      <th>0</th>\n",
       "      <td>28126</td>\n",
       "      <td>46046</td>\n",
       "      <td>72</td>\n",
       "      <td>70</td>\n",
       "      <td>11.0</td>\n",
       "      <td>0.990625</td>\n",
       "      <td>Quarter</td>\n",
       "      <td>1819</td>\n",
       "      <td>Mozart</td>\n",
       "      <td>Serenade in E-flat major</td>\n",
       "      <td>4. Menuetto</td>\n",
       "      <td>Pairs Clarinet-Horn-Bassoon</td>\n",
       "      <td>Soni Ventorum Wind Quintet</td>\n",
       "      <td>Oliver Seely</td>\n",
       "      <td>K375</td>\n",
       "      <td>177</td>\n",
       "    </tr>\n",
       "    <tr>\n",
       "      <th>1</th>\n",
       "      <td>46046</td>\n",
       "      <td>80350</td>\n",
       "      <td>71</td>\n",
       "      <td>63</td>\n",
       "      <td>12.0</td>\n",
       "      <td>2.000000</td>\n",
       "      <td>Half</td>\n",
       "      <td>1819</td>\n",
       "      <td>Mozart</td>\n",
       "      <td>Serenade in E-flat major</td>\n",
       "      <td>4. Menuetto</td>\n",
       "      <td>Pairs Clarinet-Horn-Bassoon</td>\n",
       "      <td>Soni Ventorum Wind Quintet</td>\n",
       "      <td>Oliver Seely</td>\n",
       "      <td>K375</td>\n",
       "      <td>177</td>\n",
       "    </tr>\n",
       "    <tr>\n",
       "      <th>2</th>\n",
       "      <td>46046</td>\n",
       "      <td>97758</td>\n",
       "      <td>72</td>\n",
       "      <td>67</td>\n",
       "      <td>12.0</td>\n",
       "      <td>2.990625</td>\n",
       "      <td>Dotted Half</td>\n",
       "      <td>1819</td>\n",
       "      <td>Mozart</td>\n",
       "      <td>Serenade in E-flat major</td>\n",
       "      <td>4. Menuetto</td>\n",
       "      <td>Pairs Clarinet-Horn-Bassoon</td>\n",
       "      <td>Soni Ventorum Wind Quintet</td>\n",
       "      <td>Oliver Seely</td>\n",
       "      <td>K375</td>\n",
       "      <td>177</td>\n",
       "    </tr>\n",
       "    <tr>\n",
       "      <th>3</th>\n",
       "      <td>62942</td>\n",
       "      <td>69598</td>\n",
       "      <td>72</td>\n",
       "      <td>75</td>\n",
       "      <td>13.0</td>\n",
       "      <td>0.390625</td>\n",
       "      <td>Dotted Sixteenth</td>\n",
       "      <td>1819</td>\n",
       "      <td>Mozart</td>\n",
       "      <td>Serenade in E-flat major</td>\n",
       "      <td>4. Menuetto</td>\n",
       "      <td>Pairs Clarinet-Horn-Bassoon</td>\n",
       "      <td>Soni Ventorum Wind Quintet</td>\n",
       "      <td>Oliver Seely</td>\n",
       "      <td>K375</td>\n",
       "      <td>177</td>\n",
       "    </tr>\n",
       "    <tr>\n",
       "      <th>4</th>\n",
       "      <td>80350</td>\n",
       "      <td>97758</td>\n",
       "      <td>72</td>\n",
       "      <td>70</td>\n",
       "      <td>14.0</td>\n",
       "      <td>0.990625</td>\n",
       "      <td>Quarter</td>\n",
       "      <td>1819</td>\n",
       "      <td>Mozart</td>\n",
       "      <td>Serenade in E-flat major</td>\n",
       "      <td>4. Menuetto</td>\n",
       "      <td>Pairs Clarinet-Horn-Bassoon</td>\n",
       "      <td>Soni Ventorum Wind Quintet</td>\n",
       "      <td>Oliver Seely</td>\n",
       "      <td>K375</td>\n",
       "      <td>177</td>\n",
       "    </tr>\n",
       "  </tbody>\n",
       "</table>\n",
       "</div>"
      ],
      "text/plain": [
       "   start_time  end_time  instrument  note  start_beat  end_beat  \\\n",
       "0       28126     46046          72    70        11.0  0.990625   \n",
       "1       46046     80350          71    63        12.0  2.000000   \n",
       "2       46046     97758          72    67        12.0  2.990625   \n",
       "3       62942     69598          72    75        13.0  0.390625   \n",
       "4       80350     97758          72    70        14.0  0.990625   \n",
       "\n",
       "         note_value    id composer               composition     movement  \\\n",
       "0           Quarter  1819   Mozart  Serenade in E-flat major  4. Menuetto   \n",
       "1              Half  1819   Mozart  Serenade in E-flat major  4. Menuetto   \n",
       "2       Dotted Half  1819   Mozart  Serenade in E-flat major  4. Menuetto   \n",
       "3  Dotted Sixteenth  1819   Mozart  Serenade in E-flat major  4. Menuetto   \n",
       "4           Quarter  1819   Mozart  Serenade in E-flat major  4. Menuetto   \n",
       "\n",
       "                      ensemble                      source   transcriber  \\\n",
       "0  Pairs Clarinet-Horn-Bassoon  Soni Ventorum Wind Quintet  Oliver Seely   \n",
       "1  Pairs Clarinet-Horn-Bassoon  Soni Ventorum Wind Quintet  Oliver Seely   \n",
       "2  Pairs Clarinet-Horn-Bassoon  Soni Ventorum Wind Quintet  Oliver Seely   \n",
       "3  Pairs Clarinet-Horn-Bassoon  Soni Ventorum Wind Quintet  Oliver Seely   \n",
       "4  Pairs Clarinet-Horn-Bassoon  Soni Ventorum Wind Quintet  Oliver Seely   \n",
       "\n",
       "  catalog_name  seconds  \n",
       "0         K375      177  \n",
       "1         K375      177  \n",
       "2         K375      177  \n",
       "3         K375      177  \n",
       "4         K375      177  "
      ]
     },
     "execution_count": 2,
     "metadata": {},
     "output_type": "execute_result"
    }
   ],
   "source": [
    "metadata = pd.read_csv('musicnet_metadata.csv')\n",
    "metadata = metadata\n",
    "df = pd.concat(dfs).merge(metadata,on='id')\n",
    "df.head()"
   ]
  },
  {
   "cell_type": "markdown",
   "metadata": {},
   "source": [
    "#### Now the data is ready for us to use in creating our visualizations."
   ]
  },
  {
   "cell_type": "markdown",
   "metadata": {},
   "source": [
    "### 1) First visualization: Pie & bar charts showing composer distribution"
   ]
  },
  {
   "cell_type": "markdown",
   "metadata": {},
   "source": [
    "#### Let's apply some aggregate functions to our data and see what we can learn about which composers are included in the dataset."
   ]
  },
  {
   "cell_type": "code",
   "execution_count": 3,
   "metadata": {
    "tags": []
   },
   "outputs": [
    {
     "data": {
      "text/html": [
       "<div>\n",
       "<style scoped>\n",
       "    .dataframe tbody tr th:only-of-type {\n",
       "        vertical-align: middle;\n",
       "    }\n",
       "\n",
       "    .dataframe tbody tr th {\n",
       "        vertical-align: top;\n",
       "    }\n",
       "\n",
       "    .dataframe thead th {\n",
       "        text-align: right;\n",
       "    }\n",
       "</style>\n",
       "<table border=\"1\" class=\"dataframe\">\n",
       "  <thead>\n",
       "    <tr style=\"text-align: right;\">\n",
       "      <th></th>\n",
       "      <th>composer</th>\n",
       "      <th>id</th>\n",
       "      <th>note</th>\n",
       "      <th>note-per-midi</th>\n",
       "    </tr>\n",
       "  </thead>\n",
       "  <tbody>\n",
       "    <tr>\n",
       "      <th>0</th>\n",
       "      <td>Bach</td>\n",
       "      <td>67</td>\n",
       "      <td>62776</td>\n",
       "      <td>936.955224</td>\n",
       "    </tr>\n",
       "    <tr>\n",
       "      <th>1</th>\n",
       "      <td>Beethoven</td>\n",
       "      <td>157</td>\n",
       "      <td>566159</td>\n",
       "      <td>3606.108280</td>\n",
       "    </tr>\n",
       "    <tr>\n",
       "      <th>2</th>\n",
       "      <td>Brahms</td>\n",
       "      <td>24</td>\n",
       "      <td>131899</td>\n",
       "      <td>5495.791667</td>\n",
       "    </tr>\n",
       "    <tr>\n",
       "      <th>3</th>\n",
       "      <td>Cambini</td>\n",
       "      <td>9</td>\n",
       "      <td>24820</td>\n",
       "      <td>2757.777778</td>\n",
       "    </tr>\n",
       "    <tr>\n",
       "      <th>4</th>\n",
       "      <td>Dvorak</td>\n",
       "      <td>8</td>\n",
       "      <td>31605</td>\n",
       "      <td>3950.625000</td>\n",
       "    </tr>\n",
       "    <tr>\n",
       "      <th>5</th>\n",
       "      <td>Faure</td>\n",
       "      <td>4</td>\n",
       "      <td>22349</td>\n",
       "      <td>5587.250000</td>\n",
       "    </tr>\n",
       "    <tr>\n",
       "      <th>6</th>\n",
       "      <td>Haydn</td>\n",
       "      <td>3</td>\n",
       "      <td>6292</td>\n",
       "      <td>2097.333333</td>\n",
       "    </tr>\n",
       "    <tr>\n",
       "      <th>7</th>\n",
       "      <td>Mozart</td>\n",
       "      <td>24</td>\n",
       "      <td>75930</td>\n",
       "      <td>3163.750000</td>\n",
       "    </tr>\n",
       "    <tr>\n",
       "      <th>8</th>\n",
       "      <td>Ravel</td>\n",
       "      <td>4</td>\n",
       "      <td>21134</td>\n",
       "      <td>5283.500000</td>\n",
       "    </tr>\n",
       "    <tr>\n",
       "      <th>9</th>\n",
       "      <td>Schubert</td>\n",
       "      <td>30</td>\n",
       "      <td>146576</td>\n",
       "      <td>4885.866667</td>\n",
       "    </tr>\n",
       "  </tbody>\n",
       "</table>\n",
       "</div>"
      ],
      "text/plain": [
       "    composer   id    note  note-per-midi\n",
       "0       Bach   67   62776     936.955224\n",
       "1  Beethoven  157  566159    3606.108280\n",
       "2     Brahms   24  131899    5495.791667\n",
       "3    Cambini    9   24820    2757.777778\n",
       "4     Dvorak    8   31605    3950.625000\n",
       "5      Faure    4   22349    5587.250000\n",
       "6      Haydn    3    6292    2097.333333\n",
       "7     Mozart   24   75930    3163.750000\n",
       "8      Ravel    4   21134    5283.500000\n",
       "9   Schubert   30  146576    4885.866667"
      ]
     },
     "execution_count": 3,
     "metadata": {},
     "output_type": "execute_result"
    }
   ],
   "source": [
    "# Count number of MIDI files for each composer:\n",
    "count_midis = metadata.groupby(metadata['composer']).count().reset_index()[['composer','id']]\n",
    "\n",
    "# Count number of individual notes for each composer:\n",
    "count_notes = df.groupby(df['composer']).count().reset_index()[['composer','note']]\n",
    "\n",
    "# Caculate number of individual notes per MIDI file for each composer:\n",
    "counts = count_midis.merge(count_notes,on='composer')\n",
    "counts['note-per-midi'] = counts.note / counts.id\n",
    "counts"
   ]
  },
  {
   "cell_type": "markdown",
   "metadata": {},
   "source": [
    "#### The table contains, for each composer: the number of distinct pieces, the total number of individual notes, and the number of notes per piece.\n",
    "\n",
    "#### Let's create a visualization using this table to better understand its contents."
   ]
  },
  {
   "cell_type": "code",
   "execution_count": 12,
   "metadata": {
    "tags": []
   },
   "outputs": [
    {
     "data": {
      "application/vnd.plotly.v1+json": {
       "config": {
        "plotlyServerURL": "https://plot.ly"
       },
       "data": [
        {
         "domain": {
          "x": [
           0,
           0.2888888888888889
          ],
          "y": [
           0,
           1
          ]
         },
         "labels": [
          "Bach",
          "Beethoven",
          "Brahms",
          "Cambini",
          "Dvorak",
          "Faure",
          "Haydn",
          "Mozart",
          "Ravel",
          "Schubert"
         ],
         "name": "# of MIDIs",
         "type": "pie",
         "values": [
          67,
          157,
          24,
          9,
          8,
          4,
          3,
          24,
          4,
          30
         ]
        },
        {
         "domain": {
          "x": [
           0.35555555555555557,
           0.6444444444444445
          ],
          "y": [
           0,
           1
          ]
         },
         "labels": [
          "Bach",
          "Beethoven",
          "Brahms",
          "Cambini",
          "Dvorak",
          "Faure",
          "Haydn",
          "Mozart",
          "Ravel",
          "Schubert"
         ],
         "name": "# of Notes",
         "type": "pie",
         "values": [
          62776,
          566159,
          131899,
          24820,
          31605,
          22349,
          6292,
          75930,
          21134,
          146576
         ]
        },
        {
         "name": "Notes per MIDI",
         "showlegend": false,
         "type": "bar",
         "x": [
          "Bach",
          "Beethoven",
          "Brahms",
          "Cambini",
          "Dvorak",
          "Faure",
          "Haydn",
          "Mozart",
          "Ravel",
          "Schubert"
         ],
         "xaxis": "x",
         "y": [
          936.955223880597,
          3606.108280254777,
          5495.791666666667,
          2757.777777777778,
          3950.625,
          5587.25,
          2097.3333333333335,
          3163.75,
          5283.5,
          4885.866666666667
         ],
         "yaxis": "y"
        }
       ],
       "layout": {
        "annotations": [
         {
          "font": {
           "size": 16
          },
          "showarrow": false,
          "text": "# of MIDIs per Composer",
          "x": 0.14444444444444446,
          "xanchor": "center",
          "xref": "paper",
          "y": 1,
          "yanchor": "bottom",
          "yref": "paper"
         },
         {
          "font": {
           "size": 16
          },
          "showarrow": false,
          "text": "# of Notes per Composer",
          "x": 0.5,
          "xanchor": "center",
          "xref": "paper",
          "y": 1,
          "yanchor": "bottom",
          "yref": "paper"
         },
         {
          "font": {
           "size": 16
          },
          "showarrow": false,
          "text": "Notes per MIDI",
          "x": 0.8555555555555556,
          "xanchor": "center",
          "xref": "paper",
          "y": 1,
          "yanchor": "bottom",
          "yref": "paper"
         }
        ],
        "height": 1500,
        "legend": {
         "x": -0.1,
         "xanchor": "left",
         "y": 1,
         "yanchor": "top"
        },
        "template": {
         "data": {
          "bar": [
           {
            "error_x": {
             "color": "#2a3f5f"
            },
            "error_y": {
             "color": "#2a3f5f"
            },
            "marker": {
             "line": {
              "color": "#E5ECF6",
              "width": 0.5
             },
             "pattern": {
              "fillmode": "overlay",
              "size": 10,
              "solidity": 0.2
             }
            },
            "type": "bar"
           }
          ],
          "barpolar": [
           {
            "marker": {
             "line": {
              "color": "#E5ECF6",
              "width": 0.5
             },
             "pattern": {
              "fillmode": "overlay",
              "size": 10,
              "solidity": 0.2
             }
            },
            "type": "barpolar"
           }
          ],
          "carpet": [
           {
            "aaxis": {
             "endlinecolor": "#2a3f5f",
             "gridcolor": "white",
             "linecolor": "white",
             "minorgridcolor": "white",
             "startlinecolor": "#2a3f5f"
            },
            "baxis": {
             "endlinecolor": "#2a3f5f",
             "gridcolor": "white",
             "linecolor": "white",
             "minorgridcolor": "white",
             "startlinecolor": "#2a3f5f"
            },
            "type": "carpet"
           }
          ],
          "choropleth": [
           {
            "colorbar": {
             "outlinewidth": 0,
             "ticks": ""
            },
            "type": "choropleth"
           }
          ],
          "contour": [
           {
            "colorbar": {
             "outlinewidth": 0,
             "ticks": ""
            },
            "colorscale": [
             [
              0,
              "#0d0887"
             ],
             [
              0.1111111111111111,
              "#46039f"
             ],
             [
              0.2222222222222222,
              "#7201a8"
             ],
             [
              0.3333333333333333,
              "#9c179e"
             ],
             [
              0.4444444444444444,
              "#bd3786"
             ],
             [
              0.5555555555555556,
              "#d8576b"
             ],
             [
              0.6666666666666666,
              "#ed7953"
             ],
             [
              0.7777777777777778,
              "#fb9f3a"
             ],
             [
              0.8888888888888888,
              "#fdca26"
             ],
             [
              1,
              "#f0f921"
             ]
            ],
            "type": "contour"
           }
          ],
          "contourcarpet": [
           {
            "colorbar": {
             "outlinewidth": 0,
             "ticks": ""
            },
            "type": "contourcarpet"
           }
          ],
          "heatmap": [
           {
            "colorbar": {
             "outlinewidth": 0,
             "ticks": ""
            },
            "colorscale": [
             [
              0,
              "#0d0887"
             ],
             [
              0.1111111111111111,
              "#46039f"
             ],
             [
              0.2222222222222222,
              "#7201a8"
             ],
             [
              0.3333333333333333,
              "#9c179e"
             ],
             [
              0.4444444444444444,
              "#bd3786"
             ],
             [
              0.5555555555555556,
              "#d8576b"
             ],
             [
              0.6666666666666666,
              "#ed7953"
             ],
             [
              0.7777777777777778,
              "#fb9f3a"
             ],
             [
              0.8888888888888888,
              "#fdca26"
             ],
             [
              1,
              "#f0f921"
             ]
            ],
            "type": "heatmap"
           }
          ],
          "heatmapgl": [
           {
            "colorbar": {
             "outlinewidth": 0,
             "ticks": ""
            },
            "colorscale": [
             [
              0,
              "#0d0887"
             ],
             [
              0.1111111111111111,
              "#46039f"
             ],
             [
              0.2222222222222222,
              "#7201a8"
             ],
             [
              0.3333333333333333,
              "#9c179e"
             ],
             [
              0.4444444444444444,
              "#bd3786"
             ],
             [
              0.5555555555555556,
              "#d8576b"
             ],
             [
              0.6666666666666666,
              "#ed7953"
             ],
             [
              0.7777777777777778,
              "#fb9f3a"
             ],
             [
              0.8888888888888888,
              "#fdca26"
             ],
             [
              1,
              "#f0f921"
             ]
            ],
            "type": "heatmapgl"
           }
          ],
          "histogram": [
           {
            "marker": {
             "pattern": {
              "fillmode": "overlay",
              "size": 10,
              "solidity": 0.2
             }
            },
            "type": "histogram"
           }
          ],
          "histogram2d": [
           {
            "colorbar": {
             "outlinewidth": 0,
             "ticks": ""
            },
            "colorscale": [
             [
              0,
              "#0d0887"
             ],
             [
              0.1111111111111111,
              "#46039f"
             ],
             [
              0.2222222222222222,
              "#7201a8"
             ],
             [
              0.3333333333333333,
              "#9c179e"
             ],
             [
              0.4444444444444444,
              "#bd3786"
             ],
             [
              0.5555555555555556,
              "#d8576b"
             ],
             [
              0.6666666666666666,
              "#ed7953"
             ],
             [
              0.7777777777777778,
              "#fb9f3a"
             ],
             [
              0.8888888888888888,
              "#fdca26"
             ],
             [
              1,
              "#f0f921"
             ]
            ],
            "type": "histogram2d"
           }
          ],
          "histogram2dcontour": [
           {
            "colorbar": {
             "outlinewidth": 0,
             "ticks": ""
            },
            "colorscale": [
             [
              0,
              "#0d0887"
             ],
             [
              0.1111111111111111,
              "#46039f"
             ],
             [
              0.2222222222222222,
              "#7201a8"
             ],
             [
              0.3333333333333333,
              "#9c179e"
             ],
             [
              0.4444444444444444,
              "#bd3786"
             ],
             [
              0.5555555555555556,
              "#d8576b"
             ],
             [
              0.6666666666666666,
              "#ed7953"
             ],
             [
              0.7777777777777778,
              "#fb9f3a"
             ],
             [
              0.8888888888888888,
              "#fdca26"
             ],
             [
              1,
              "#f0f921"
             ]
            ],
            "type": "histogram2dcontour"
           }
          ],
          "mesh3d": [
           {
            "colorbar": {
             "outlinewidth": 0,
             "ticks": ""
            },
            "type": "mesh3d"
           }
          ],
          "parcoords": [
           {
            "line": {
             "colorbar": {
              "outlinewidth": 0,
              "ticks": ""
             }
            },
            "type": "parcoords"
           }
          ],
          "pie": [
           {
            "automargin": true,
            "type": "pie"
           }
          ],
          "scatter": [
           {
            "fillpattern": {
             "fillmode": "overlay",
             "size": 10,
             "solidity": 0.2
            },
            "type": "scatter"
           }
          ],
          "scatter3d": [
           {
            "line": {
             "colorbar": {
              "outlinewidth": 0,
              "ticks": ""
             }
            },
            "marker": {
             "colorbar": {
              "outlinewidth": 0,
              "ticks": ""
             }
            },
            "type": "scatter3d"
           }
          ],
          "scattercarpet": [
           {
            "marker": {
             "colorbar": {
              "outlinewidth": 0,
              "ticks": ""
             }
            },
            "type": "scattercarpet"
           }
          ],
          "scattergeo": [
           {
            "marker": {
             "colorbar": {
              "outlinewidth": 0,
              "ticks": ""
             }
            },
            "type": "scattergeo"
           }
          ],
          "scattergl": [
           {
            "marker": {
             "colorbar": {
              "outlinewidth": 0,
              "ticks": ""
             }
            },
            "type": "scattergl"
           }
          ],
          "scattermapbox": [
           {
            "marker": {
             "colorbar": {
              "outlinewidth": 0,
              "ticks": ""
             }
            },
            "type": "scattermapbox"
           }
          ],
          "scatterpolar": [
           {
            "marker": {
             "colorbar": {
              "outlinewidth": 0,
              "ticks": ""
             }
            },
            "type": "scatterpolar"
           }
          ],
          "scatterpolargl": [
           {
            "marker": {
             "colorbar": {
              "outlinewidth": 0,
              "ticks": ""
             }
            },
            "type": "scatterpolargl"
           }
          ],
          "scatterternary": [
           {
            "marker": {
             "colorbar": {
              "outlinewidth": 0,
              "ticks": ""
             }
            },
            "type": "scatterternary"
           }
          ],
          "surface": [
           {
            "colorbar": {
             "outlinewidth": 0,
             "ticks": ""
            },
            "colorscale": [
             [
              0,
              "#0d0887"
             ],
             [
              0.1111111111111111,
              "#46039f"
             ],
             [
              0.2222222222222222,
              "#7201a8"
             ],
             [
              0.3333333333333333,
              "#9c179e"
             ],
             [
              0.4444444444444444,
              "#bd3786"
             ],
             [
              0.5555555555555556,
              "#d8576b"
             ],
             [
              0.6666666666666666,
              "#ed7953"
             ],
             [
              0.7777777777777778,
              "#fb9f3a"
             ],
             [
              0.8888888888888888,
              "#fdca26"
             ],
             [
              1,
              "#f0f921"
             ]
            ],
            "type": "surface"
           }
          ],
          "table": [
           {
            "cells": {
             "fill": {
              "color": "#EBF0F8"
             },
             "line": {
              "color": "white"
             }
            },
            "header": {
             "fill": {
              "color": "#C8D4E3"
             },
             "line": {
              "color": "white"
             }
            },
            "type": "table"
           }
          ]
         },
         "layout": {
          "annotationdefaults": {
           "arrowcolor": "#2a3f5f",
           "arrowhead": 0,
           "arrowwidth": 1
          },
          "autotypenumbers": "strict",
          "coloraxis": {
           "colorbar": {
            "outlinewidth": 0,
            "ticks": ""
           }
          },
          "colorscale": {
           "diverging": [
            [
             0,
             "#8e0152"
            ],
            [
             0.1,
             "#c51b7d"
            ],
            [
             0.2,
             "#de77ae"
            ],
            [
             0.3,
             "#f1b6da"
            ],
            [
             0.4,
             "#fde0ef"
            ],
            [
             0.5,
             "#f7f7f7"
            ],
            [
             0.6,
             "#e6f5d0"
            ],
            [
             0.7,
             "#b8e186"
            ],
            [
             0.8,
             "#7fbc41"
            ],
            [
             0.9,
             "#4d9221"
            ],
            [
             1,
             "#276419"
            ]
           ],
           "sequential": [
            [
             0,
             "#0d0887"
            ],
            [
             0.1111111111111111,
             "#46039f"
            ],
            [
             0.2222222222222222,
             "#7201a8"
            ],
            [
             0.3333333333333333,
             "#9c179e"
            ],
            [
             0.4444444444444444,
             "#bd3786"
            ],
            [
             0.5555555555555556,
             "#d8576b"
            ],
            [
             0.6666666666666666,
             "#ed7953"
            ],
            [
             0.7777777777777778,
             "#fb9f3a"
            ],
            [
             0.8888888888888888,
             "#fdca26"
            ],
            [
             1,
             "#f0f921"
            ]
           ],
           "sequentialminus": [
            [
             0,
             "#0d0887"
            ],
            [
             0.1111111111111111,
             "#46039f"
            ],
            [
             0.2222222222222222,
             "#7201a8"
            ],
            [
             0.3333333333333333,
             "#9c179e"
            ],
            [
             0.4444444444444444,
             "#bd3786"
            ],
            [
             0.5555555555555556,
             "#d8576b"
            ],
            [
             0.6666666666666666,
             "#ed7953"
            ],
            [
             0.7777777777777778,
             "#fb9f3a"
            ],
            [
             0.8888888888888888,
             "#fdca26"
            ],
            [
             1,
             "#f0f921"
            ]
           ]
          },
          "colorway": [
           "#636efa",
           "#EF553B",
           "#00cc96",
           "#ab63fa",
           "#FFA15A",
           "#19d3f3",
           "#FF6692",
           "#B6E880",
           "#FF97FF",
           "#FECB52"
          ],
          "font": {
           "color": "#2a3f5f"
          },
          "geo": {
           "bgcolor": "white",
           "lakecolor": "white",
           "landcolor": "#E5ECF6",
           "showlakes": true,
           "showland": true,
           "subunitcolor": "white"
          },
          "hoverlabel": {
           "align": "left"
          },
          "hovermode": "closest",
          "mapbox": {
           "style": "light"
          },
          "paper_bgcolor": "white",
          "plot_bgcolor": "#E5ECF6",
          "polar": {
           "angularaxis": {
            "gridcolor": "white",
            "linecolor": "white",
            "ticks": ""
           },
           "bgcolor": "#E5ECF6",
           "radialaxis": {
            "gridcolor": "white",
            "linecolor": "white",
            "ticks": ""
           }
          },
          "scene": {
           "xaxis": {
            "backgroundcolor": "#E5ECF6",
            "gridcolor": "white",
            "gridwidth": 2,
            "linecolor": "white",
            "showbackground": true,
            "ticks": "",
            "zerolinecolor": "white"
           },
           "yaxis": {
            "backgroundcolor": "#E5ECF6",
            "gridcolor": "white",
            "gridwidth": 2,
            "linecolor": "white",
            "showbackground": true,
            "ticks": "",
            "zerolinecolor": "white"
           },
           "zaxis": {
            "backgroundcolor": "#E5ECF6",
            "gridcolor": "white",
            "gridwidth": 2,
            "linecolor": "white",
            "showbackground": true,
            "ticks": "",
            "zerolinecolor": "white"
           }
          },
          "shapedefaults": {
           "line": {
            "color": "#2a3f5f"
           }
          },
          "ternary": {
           "aaxis": {
            "gridcolor": "white",
            "linecolor": "white",
            "ticks": ""
           },
           "baxis": {
            "gridcolor": "white",
            "linecolor": "white",
            "ticks": ""
           },
           "bgcolor": "#E5ECF6",
           "caxis": {
            "gridcolor": "white",
            "linecolor": "white",
            "ticks": ""
           }
          },
          "title": {
           "x": 0.05
          },
          "xaxis": {
           "automargin": true,
           "gridcolor": "white",
           "linecolor": "white",
           "ticks": "",
           "title": {
            "standoff": 15
           },
           "zerolinecolor": "white",
           "zerolinewidth": 2
          },
          "yaxis": {
           "automargin": true,
           "gridcolor": "white",
           "linecolor": "white",
           "ticks": "",
           "title": {
            "standoff": 15
           },
           "zerolinecolor": "white",
           "zerolinewidth": 2
          }
         }
        },
        "width": 1500,
        "xaxis": {
         "anchor": "y",
         "domain": [
          0.7111111111111111,
          1
         ],
         "title": {
          "text": "Composer"
         }
        },
        "yaxis": {
         "anchor": "x",
         "domain": [
          0,
          1
         ]
        }
       }
      },
      "text/html": [
       "<div>                            <div id=\"d0e42da2-5555-412a-abdf-a7d51baa025d\" class=\"plotly-graph-div\" style=\"height:1500px; width:1500px;\"></div>            <script type=\"text/javascript\">                require([\"plotly\"], function(Plotly) {                    window.PLOTLYENV=window.PLOTLYENV || {};                                    if (document.getElementById(\"d0e42da2-5555-412a-abdf-a7d51baa025d\")) {                    Plotly.newPlot(                        \"d0e42da2-5555-412a-abdf-a7d51baa025d\",                        [{\"labels\":[\"Bach\",\"Beethoven\",\"Brahms\",\"Cambini\",\"Dvorak\",\"Faure\",\"Haydn\",\"Mozart\",\"Ravel\",\"Schubert\"],\"name\":\"# of MIDIs\",\"values\":[67,157,24,9,8,4,3,24,4,30],\"type\":\"pie\",\"domain\":{\"x\":[0.0,0.2888888888888889],\"y\":[0.0,1.0]}},{\"labels\":[\"Bach\",\"Beethoven\",\"Brahms\",\"Cambini\",\"Dvorak\",\"Faure\",\"Haydn\",\"Mozart\",\"Ravel\",\"Schubert\"],\"name\":\"# of Notes\",\"values\":[62776,566159,131899,24820,31605,22349,6292,75930,21134,146576],\"type\":\"pie\",\"domain\":{\"x\":[0.35555555555555557,0.6444444444444445],\"y\":[0.0,1.0]}},{\"name\":\"Notes per MIDI\",\"showlegend\":false,\"x\":[\"Bach\",\"Beethoven\",\"Brahms\",\"Cambini\",\"Dvorak\",\"Faure\",\"Haydn\",\"Mozart\",\"Ravel\",\"Schubert\"],\"y\":[936.955223880597,3606.108280254777,5495.791666666667,2757.777777777778,3950.625,5587.25,2097.3333333333335,3163.75,5283.5,4885.866666666667],\"type\":\"bar\",\"xaxis\":\"x\",\"yaxis\":\"y\"}],                        {\"template\":{\"data\":{\"histogram2dcontour\":[{\"type\":\"histogram2dcontour\",\"colorbar\":{\"outlinewidth\":0,\"ticks\":\"\"},\"colorscale\":[[0.0,\"#0d0887\"],[0.1111111111111111,\"#46039f\"],[0.2222222222222222,\"#7201a8\"],[0.3333333333333333,\"#9c179e\"],[0.4444444444444444,\"#bd3786\"],[0.5555555555555556,\"#d8576b\"],[0.6666666666666666,\"#ed7953\"],[0.7777777777777778,\"#fb9f3a\"],[0.8888888888888888,\"#fdca26\"],[1.0,\"#f0f921\"]]}],\"choropleth\":[{\"type\":\"choropleth\",\"colorbar\":{\"outlinewidth\":0,\"ticks\":\"\"}}],\"histogram2d\":[{\"type\":\"histogram2d\",\"colorbar\":{\"outlinewidth\":0,\"ticks\":\"\"},\"colorscale\":[[0.0,\"#0d0887\"],[0.1111111111111111,\"#46039f\"],[0.2222222222222222,\"#7201a8\"],[0.3333333333333333,\"#9c179e\"],[0.4444444444444444,\"#bd3786\"],[0.5555555555555556,\"#d8576b\"],[0.6666666666666666,\"#ed7953\"],[0.7777777777777778,\"#fb9f3a\"],[0.8888888888888888,\"#fdca26\"],[1.0,\"#f0f921\"]]}],\"heatmap\":[{\"type\":\"heatmap\",\"colorbar\":{\"outlinewidth\":0,\"ticks\":\"\"},\"colorscale\":[[0.0,\"#0d0887\"],[0.1111111111111111,\"#46039f\"],[0.2222222222222222,\"#7201a8\"],[0.3333333333333333,\"#9c179e\"],[0.4444444444444444,\"#bd3786\"],[0.5555555555555556,\"#d8576b\"],[0.6666666666666666,\"#ed7953\"],[0.7777777777777778,\"#fb9f3a\"],[0.8888888888888888,\"#fdca26\"],[1.0,\"#f0f921\"]]}],\"heatmapgl\":[{\"type\":\"heatmapgl\",\"colorbar\":{\"outlinewidth\":0,\"ticks\":\"\"},\"colorscale\":[[0.0,\"#0d0887\"],[0.1111111111111111,\"#46039f\"],[0.2222222222222222,\"#7201a8\"],[0.3333333333333333,\"#9c179e\"],[0.4444444444444444,\"#bd3786\"],[0.5555555555555556,\"#d8576b\"],[0.6666666666666666,\"#ed7953\"],[0.7777777777777778,\"#fb9f3a\"],[0.8888888888888888,\"#fdca26\"],[1.0,\"#f0f921\"]]}],\"contourcarpet\":[{\"type\":\"contourcarpet\",\"colorbar\":{\"outlinewidth\":0,\"ticks\":\"\"}}],\"contour\":[{\"type\":\"contour\",\"colorbar\":{\"outlinewidth\":0,\"ticks\":\"\"},\"colorscale\":[[0.0,\"#0d0887\"],[0.1111111111111111,\"#46039f\"],[0.2222222222222222,\"#7201a8\"],[0.3333333333333333,\"#9c179e\"],[0.4444444444444444,\"#bd3786\"],[0.5555555555555556,\"#d8576b\"],[0.6666666666666666,\"#ed7953\"],[0.7777777777777778,\"#fb9f3a\"],[0.8888888888888888,\"#fdca26\"],[1.0,\"#f0f921\"]]}],\"surface\":[{\"type\":\"surface\",\"colorbar\":{\"outlinewidth\":0,\"ticks\":\"\"},\"colorscale\":[[0.0,\"#0d0887\"],[0.1111111111111111,\"#46039f\"],[0.2222222222222222,\"#7201a8\"],[0.3333333333333333,\"#9c179e\"],[0.4444444444444444,\"#bd3786\"],[0.5555555555555556,\"#d8576b\"],[0.6666666666666666,\"#ed7953\"],[0.7777777777777778,\"#fb9f3a\"],[0.8888888888888888,\"#fdca26\"],[1.0,\"#f0f921\"]]}],\"mesh3d\":[{\"type\":\"mesh3d\",\"colorbar\":{\"outlinewidth\":0,\"ticks\":\"\"}}],\"scatter\":[{\"fillpattern\":{\"fillmode\":\"overlay\",\"size\":10,\"solidity\":0.2},\"type\":\"scatter\"}],\"parcoords\":[{\"type\":\"parcoords\",\"line\":{\"colorbar\":{\"outlinewidth\":0,\"ticks\":\"\"}}}],\"scatterpolargl\":[{\"type\":\"scatterpolargl\",\"marker\":{\"colorbar\":{\"outlinewidth\":0,\"ticks\":\"\"}}}],\"bar\":[{\"error_x\":{\"color\":\"#2a3f5f\"},\"error_y\":{\"color\":\"#2a3f5f\"},\"marker\":{\"line\":{\"color\":\"#E5ECF6\",\"width\":0.5},\"pattern\":{\"fillmode\":\"overlay\",\"size\":10,\"solidity\":0.2}},\"type\":\"bar\"}],\"scattergeo\":[{\"type\":\"scattergeo\",\"marker\":{\"colorbar\":{\"outlinewidth\":0,\"ticks\":\"\"}}}],\"scatterpolar\":[{\"type\":\"scatterpolar\",\"marker\":{\"colorbar\":{\"outlinewidth\":0,\"ticks\":\"\"}}}],\"histogram\":[{\"marker\":{\"pattern\":{\"fillmode\":\"overlay\",\"size\":10,\"solidity\":0.2}},\"type\":\"histogram\"}],\"scattergl\":[{\"type\":\"scattergl\",\"marker\":{\"colorbar\":{\"outlinewidth\":0,\"ticks\":\"\"}}}],\"scatter3d\":[{\"type\":\"scatter3d\",\"line\":{\"colorbar\":{\"outlinewidth\":0,\"ticks\":\"\"}},\"marker\":{\"colorbar\":{\"outlinewidth\":0,\"ticks\":\"\"}}}],\"scattermapbox\":[{\"type\":\"scattermapbox\",\"marker\":{\"colorbar\":{\"outlinewidth\":0,\"ticks\":\"\"}}}],\"scatterternary\":[{\"type\":\"scatterternary\",\"marker\":{\"colorbar\":{\"outlinewidth\":0,\"ticks\":\"\"}}}],\"scattercarpet\":[{\"type\":\"scattercarpet\",\"marker\":{\"colorbar\":{\"outlinewidth\":0,\"ticks\":\"\"}}}],\"carpet\":[{\"aaxis\":{\"endlinecolor\":\"#2a3f5f\",\"gridcolor\":\"white\",\"linecolor\":\"white\",\"minorgridcolor\":\"white\",\"startlinecolor\":\"#2a3f5f\"},\"baxis\":{\"endlinecolor\":\"#2a3f5f\",\"gridcolor\":\"white\",\"linecolor\":\"white\",\"minorgridcolor\":\"white\",\"startlinecolor\":\"#2a3f5f\"},\"type\":\"carpet\"}],\"table\":[{\"cells\":{\"fill\":{\"color\":\"#EBF0F8\"},\"line\":{\"color\":\"white\"}},\"header\":{\"fill\":{\"color\":\"#C8D4E3\"},\"line\":{\"color\":\"white\"}},\"type\":\"table\"}],\"barpolar\":[{\"marker\":{\"line\":{\"color\":\"#E5ECF6\",\"width\":0.5},\"pattern\":{\"fillmode\":\"overlay\",\"size\":10,\"solidity\":0.2}},\"type\":\"barpolar\"}],\"pie\":[{\"automargin\":true,\"type\":\"pie\"}]},\"layout\":{\"autotypenumbers\":\"strict\",\"colorway\":[\"#636efa\",\"#EF553B\",\"#00cc96\",\"#ab63fa\",\"#FFA15A\",\"#19d3f3\",\"#FF6692\",\"#B6E880\",\"#FF97FF\",\"#FECB52\"],\"font\":{\"color\":\"#2a3f5f\"},\"hovermode\":\"closest\",\"hoverlabel\":{\"align\":\"left\"},\"paper_bgcolor\":\"white\",\"plot_bgcolor\":\"#E5ECF6\",\"polar\":{\"bgcolor\":\"#E5ECF6\",\"angularaxis\":{\"gridcolor\":\"white\",\"linecolor\":\"white\",\"ticks\":\"\"},\"radialaxis\":{\"gridcolor\":\"white\",\"linecolor\":\"white\",\"ticks\":\"\"}},\"ternary\":{\"bgcolor\":\"#E5ECF6\",\"aaxis\":{\"gridcolor\":\"white\",\"linecolor\":\"white\",\"ticks\":\"\"},\"baxis\":{\"gridcolor\":\"white\",\"linecolor\":\"white\",\"ticks\":\"\"},\"caxis\":{\"gridcolor\":\"white\",\"linecolor\":\"white\",\"ticks\":\"\"}},\"coloraxis\":{\"colorbar\":{\"outlinewidth\":0,\"ticks\":\"\"}},\"colorscale\":{\"sequential\":[[0.0,\"#0d0887\"],[0.1111111111111111,\"#46039f\"],[0.2222222222222222,\"#7201a8\"],[0.3333333333333333,\"#9c179e\"],[0.4444444444444444,\"#bd3786\"],[0.5555555555555556,\"#d8576b\"],[0.6666666666666666,\"#ed7953\"],[0.7777777777777778,\"#fb9f3a\"],[0.8888888888888888,\"#fdca26\"],[1.0,\"#f0f921\"]],\"sequentialminus\":[[0.0,\"#0d0887\"],[0.1111111111111111,\"#46039f\"],[0.2222222222222222,\"#7201a8\"],[0.3333333333333333,\"#9c179e\"],[0.4444444444444444,\"#bd3786\"],[0.5555555555555556,\"#d8576b\"],[0.6666666666666666,\"#ed7953\"],[0.7777777777777778,\"#fb9f3a\"],[0.8888888888888888,\"#fdca26\"],[1.0,\"#f0f921\"]],\"diverging\":[[0,\"#8e0152\"],[0.1,\"#c51b7d\"],[0.2,\"#de77ae\"],[0.3,\"#f1b6da\"],[0.4,\"#fde0ef\"],[0.5,\"#f7f7f7\"],[0.6,\"#e6f5d0\"],[0.7,\"#b8e186\"],[0.8,\"#7fbc41\"],[0.9,\"#4d9221\"],[1,\"#276419\"]]},\"xaxis\":{\"gridcolor\":\"white\",\"linecolor\":\"white\",\"ticks\":\"\",\"title\":{\"standoff\":15},\"zerolinecolor\":\"white\",\"automargin\":true,\"zerolinewidth\":2},\"yaxis\":{\"gridcolor\":\"white\",\"linecolor\":\"white\",\"ticks\":\"\",\"title\":{\"standoff\":15},\"zerolinecolor\":\"white\",\"automargin\":true,\"zerolinewidth\":2},\"scene\":{\"xaxis\":{\"backgroundcolor\":\"#E5ECF6\",\"gridcolor\":\"white\",\"linecolor\":\"white\",\"showbackground\":true,\"ticks\":\"\",\"zerolinecolor\":\"white\",\"gridwidth\":2},\"yaxis\":{\"backgroundcolor\":\"#E5ECF6\",\"gridcolor\":\"white\",\"linecolor\":\"white\",\"showbackground\":true,\"ticks\":\"\",\"zerolinecolor\":\"white\",\"gridwidth\":2},\"zaxis\":{\"backgroundcolor\":\"#E5ECF6\",\"gridcolor\":\"white\",\"linecolor\":\"white\",\"showbackground\":true,\"ticks\":\"\",\"zerolinecolor\":\"white\",\"gridwidth\":2}},\"shapedefaults\":{\"line\":{\"color\":\"#2a3f5f\"}},\"annotationdefaults\":{\"arrowcolor\":\"#2a3f5f\",\"arrowhead\":0,\"arrowwidth\":1},\"geo\":{\"bgcolor\":\"white\",\"landcolor\":\"#E5ECF6\",\"subunitcolor\":\"white\",\"showland\":true,\"showlakes\":true,\"lakecolor\":\"white\"},\"title\":{\"x\":0.05},\"mapbox\":{\"style\":\"light\"}}},\"xaxis\":{\"anchor\":\"y\",\"domain\":[0.7111111111111111,1.0],\"title\":{\"text\":\"Composer\"}},\"yaxis\":{\"anchor\":\"x\",\"domain\":[0.0,1.0]},\"annotations\":[{\"font\":{\"size\":16},\"showarrow\":false,\"text\":\"# of MIDIs per Composer\",\"x\":0.14444444444444446,\"xanchor\":\"center\",\"xref\":\"paper\",\"y\":1.0,\"yanchor\":\"bottom\",\"yref\":\"paper\"},{\"font\":{\"size\":16},\"showarrow\":false,\"text\":\"# of Notes per Composer\",\"x\":0.5,\"xanchor\":\"center\",\"xref\":\"paper\",\"y\":1.0,\"yanchor\":\"bottom\",\"yref\":\"paper\"},{\"font\":{\"size\":16},\"showarrow\":false,\"text\":\"Notes per MIDI\",\"x\":0.8555555555555556,\"xanchor\":\"center\",\"xref\":\"paper\",\"y\":1.0,\"yanchor\":\"bottom\",\"yref\":\"paper\"}],\"height\":1500,\"width\":1500,\"legend\":{\"yanchor\":\"top\",\"y\":1,\"xanchor\":\"left\",\"x\":-0.1}},                        {\"responsive\": true}                    ).then(function(){\n",
       "                            \n",
       "var gd = document.getElementById('d0e42da2-5555-412a-abdf-a7d51baa025d');\n",
       "var x = new MutationObserver(function (mutations, observer) {{\n",
       "        var display = window.getComputedStyle(gd).display;\n",
       "        if (!display || display === 'none') {{\n",
       "            console.log([gd, 'removed!']);\n",
       "            Plotly.purge(gd);\n",
       "            observer.disconnect();\n",
       "        }}\n",
       "}});\n",
       "\n",
       "// Listen for the removal of the full notebook cells\n",
       "var notebookContainer = gd.closest('#notebook-container');\n",
       "if (notebookContainer) {{\n",
       "    x.observe(notebookContainer, {childList: true});\n",
       "}}\n",
       "\n",
       "// Listen for the clearing of the current output cell\n",
       "var outputEl = gd.closest('.output');\n",
       "if (outputEl) {{\n",
       "    x.observe(outputEl, {childList: true});\n",
       "}}\n",
       "\n",
       "                        })                };                });            </script>        </div>"
      ]
     },
     "metadata": {},
     "output_type": "display_data"
    }
   ],
   "source": [
    "from plotly.subplots import make_subplots\n",
    "import plotly.graph_objects as go\n",
    "\n",
    "fig = make_subplots(\n",
    "    rows=1,\n",
    "    cols=3,\n",
    "    specs=[[{'type':'pie'},{'type':'pie'},{'type':'bar'}]],\n",
    "    subplot_titles=('# of MIDIs per Composer','# of Notes per Composer','Notes per MIDI')\n",
    ")\n",
    "\n",
    "fig.add_trace(go.Pie(labels=counts.composer.values,values=counts.id.values,name='# of MIDIs'),row=1,col=1)\n",
    "fig.add_trace(go.Pie(labels=counts.composer.values,values=counts.note.values,name='# of Notes'),row=1,col=2)\n",
    "fig.add_trace(go.Bar(x=counts.composer.values,y=counts['note-per-midi'].values,name='Notes per MIDI',showlegend=False),row=1,col=3)\n",
    "\n",
    "fig.update_layout(height=1500, width=1500)\n",
    "fig.update_layout(xaxis_title=\"Composer\")\n",
    "fig.update_layout(legend=dict(yanchor='top',y=1,xanchor='left',x=-0.1))\n",
    "fig.show()"
   ]
  },
  {
   "cell_type": "markdown",
   "metadata": {},
   "source": [
    "### 2) Second visualization: Stacked bar chart (with colorscale) showing note pitches & octaves by composer"
   ]
  },
  {
   "cell_type": "markdown",
   "metadata": {},
   "source": [
    "#### For the next visual, let's dig into the individual notes that make up the MIDI files. It should be helpful to visualize how the 3 different composers use different notes in their respective compositions.\n",
    "\n",
    "#### First, we define a couple of functions to convert the MIDI numbers from the data into their corresponding pitches and octaves."
   ]
  },
  {
   "cell_type": "code",
   "execution_count": 5,
   "metadata": {
    "tags": []
   },
   "outputs": [],
   "source": [
    "notes = ['C', 'C#', 'D', 'D#', 'E', 'F', 'F#', 'G', 'G#', 'A', 'A#', 'B'] \n",
    "def convertMIDIValueToPitch(df_row):\n",
    "    return notes[df_row['note'] % 12]\n",
    "def convertMIDIValueToOctave(df_row):\n",
    "    return df_row['note'] // 12"
   ]
  },
  {
   "cell_type": "markdown",
   "metadata": {},
   "source": [
    "#### Next, we apply these functions to the data."
   ]
  },
  {
   "cell_type": "code",
   "execution_count": 6,
   "metadata": {
    "tags": []
   },
   "outputs": [],
   "source": [
    "df['note_pitch'] = df.apply(convertMIDIValueToPitch, axis=1)\n",
    "df['note_octave'] = df.apply(convertMIDIValueToOctave, axis=1)"
   ]
  },
  {
   "cell_type": "markdown",
   "metadata": {},
   "source": [
    "#### Finally, we calculate percentages to represent the prevalence of each note, by pitch and octave, in the musical works of each composer."
   ]
  },
  {
   "cell_type": "code",
   "execution_count": 7,
   "metadata": {},
   "outputs": [
    {
     "data": {
      "text/html": [
       "<div>\n",
       "<style scoped>\n",
       "    .dataframe tbody tr th:only-of-type {\n",
       "        vertical-align: middle;\n",
       "    }\n",
       "\n",
       "    .dataframe tbody tr th {\n",
       "        vertical-align: top;\n",
       "    }\n",
       "\n",
       "    .dataframe thead th {\n",
       "        text-align: right;\n",
       "    }\n",
       "</style>\n",
       "<table border=\"1\" class=\"dataframe\">\n",
       "  <thead>\n",
       "    <tr style=\"text-align: right;\">\n",
       "      <th></th>\n",
       "      <th>Composer</th>\n",
       "      <th>Note Pitch</th>\n",
       "      <th>Note Octave</th>\n",
       "      <th>Note %</th>\n",
       "    </tr>\n",
       "  </thead>\n",
       "  <tbody>\n",
       "    <tr>\n",
       "      <th>0</th>\n",
       "      <td>Bach</td>\n",
       "      <td>A</td>\n",
       "      <td>3</td>\n",
       "      <td>0.965337</td>\n",
       "    </tr>\n",
       "    <tr>\n",
       "      <th>1</th>\n",
       "      <td>Bach</td>\n",
       "      <td>A</td>\n",
       "      <td>4</td>\n",
       "      <td>3.061680</td>\n",
       "    </tr>\n",
       "    <tr>\n",
       "      <th>2</th>\n",
       "      <td>Bach</td>\n",
       "      <td>A</td>\n",
       "      <td>5</td>\n",
       "      <td>3.458328</td>\n",
       "    </tr>\n",
       "    <tr>\n",
       "      <th>3</th>\n",
       "      <td>Bach</td>\n",
       "      <td>A</td>\n",
       "      <td>6</td>\n",
       "      <td>1.717217</td>\n",
       "    </tr>\n",
       "    <tr>\n",
       "      <th>4</th>\n",
       "      <td>Bach</td>\n",
       "      <td>A</td>\n",
       "      <td>7</td>\n",
       "      <td>0.001593</td>\n",
       "    </tr>\n",
       "  </tbody>\n",
       "</table>\n",
       "</div>"
      ],
      "text/plain": [
       "  Composer Note Pitch  Note Octave    Note %\n",
       "0     Bach          A            3  0.965337\n",
       "1     Bach          A            4  3.061680\n",
       "2     Bach          A            5  3.458328\n",
       "3     Bach          A            6  1.717217\n",
       "4     Bach          A            7  0.001593"
      ]
     },
     "execution_count": 7,
     "metadata": {},
     "output_type": "execute_result"
    }
   ],
   "source": [
    "notes = df.groupby(['composer','note_pitch','note_octave']).agg({'note':'count'})['note'] / df.groupby(['composer']).agg({'note':'count'})['note'] * 100\n",
    "notes_df = pd.DataFrame(notes).reset_index().rename({'composer':'Composer','note_pitch':'Note Pitch','note_octave':'Note Octave','note':'Note %'},axis='columns')\n",
    "notes_df.head()"
   ]
  },
  {
   "cell_type": "markdown",
   "metadata": {},
   "source": [
    "#### Let's plot this so we can visualize the results:"
   ]
  },
  {
   "cell_type": "code",
   "execution_count": 8,
   "metadata": {},
   "outputs": [
    {
     "data": {
      "application/vnd.plotly.v1+json": {
       "config": {
        "plotlyServerURL": "https://plot.ly"
       },
       "data": [
        {
         "alignmentgroup": "True",
         "hovertemplate": "Composer=Bach<br>Note Pitch=%{x}<br>Note %=%{y}<br>Note Octave=%{marker.color}<extra></extra>",
         "legendgroup": "",
         "marker": {
          "color": [
           3,
           4,
           5,
           6,
           7,
           3,
           4,
           5,
           6,
           2,
           3,
           4,
           5,
           6,
           3,
           4,
           5,
           6,
           7,
           3,
           4,
           5,
           6,
           7,
           3,
           4,
           5,
           6,
           7,
           3,
           4,
           5,
           6,
           7,
           3,
           4,
           5,
           6,
           7,
           3,
           4,
           5,
           6,
           7,
           3,
           4,
           5,
           6,
           3,
           4,
           5,
           6,
           7,
           3,
           4,
           5,
           6,
           7
          ],
          "coloraxis": "coloraxis",
          "pattern": {
           "shape": ""
          }
         },
         "name": "",
         "offsetgroup": "",
         "orientation": "v",
         "showlegend": false,
         "textposition": "auto",
         "type": "bar",
         "x": [
          "A",
          "A",
          "A",
          "A",
          "A",
          "A#",
          "A#",
          "A#",
          "A#",
          "B",
          "B",
          "B",
          "B",
          "B",
          "C",
          "C",
          "C",
          "C",
          "C",
          "C#",
          "C#",
          "C#",
          "C#",
          "C#",
          "D",
          "D",
          "D",
          "D",
          "D",
          "D#",
          "D#",
          "D#",
          "D#",
          "D#",
          "E",
          "E",
          "E",
          "E",
          "E",
          "F",
          "F",
          "F",
          "F",
          "F",
          "F#",
          "F#",
          "F#",
          "F#",
          "G",
          "G",
          "G",
          "G",
          "G",
          "G#",
          "G#",
          "G#",
          "G#",
          "G#"
         ],
         "xaxis": "x",
         "y": [
          0.96533707149229,
          3.061679622785778,
          3.4583280234484515,
          1.7172167707404102,
          0.0015929654645087294,
          1.1628647890913726,
          2.6825538422327004,
          2.7940614247483113,
          0.7024977698483497,
          0.003185930929017459,
          1.3444628520453676,
          2.601312603542755,
          3.659041671976552,
          0.9541863132407289,
          0.15292468459283803,
          1.878106282655792,
          3.338855613610297,
          3.20982541098509,
          0.36319612590799033,
          0.05097489486427934,
          1.2409200968523002,
          1.860583662546196,
          3.3611571301134195,
          0.17522620109596024,
          0.17044730470243405,
          3.174780170765898,
          3.1349560341531792,
          3.913916146297948,
          0.14177392634127692,
          0.24531668153434436,
          2.4595386772014782,
          2.230151650312221,
          2.343252198292341,
          0.017522620109596022,
          0.2325729578182745,
          2.518478399388301,
          2.378297438511533,
          3.518860711099783,
          0.07964827322543647,
          0.3679750223015165,
          3.1923027908754937,
          2.367146680259972,
          1.8860711099783358,
          0.007964827322543647,
          0.32815088568879824,
          2.190327513699503,
          2.6172422581878423,
          2.566267363323563,
          1.183573340129986,
          3.7593984962406015,
          2.8896393526188353,
          2.109086275009558,
          0.0015929654645087294,
          0.7040907353128585,
          2.6538804638715434,
          2.5280361921753536,
          1.3460558175098765,
          0.0015929654645087294
         ],
         "yaxis": "y"
        },
        {
         "alignmentgroup": "True",
         "hovertemplate": "Composer=Beethoven<br>Note Pitch=%{x}<br>Note %=%{y}<br>Note Octave=%{marker.color}<extra></extra>",
         "legendgroup": "",
         "marker": {
          "color": [
           2,
           3,
           4,
           5,
           6,
           7,
           2,
           3,
           4,
           5,
           6,
           7,
           2,
           3,
           4,
           5,
           6,
           7,
           2,
           3,
           4,
           5,
           6,
           7,
           8,
           2,
           3,
           4,
           5,
           6,
           7,
           8,
           2,
           3,
           4,
           5,
           6,
           7,
           8,
           2,
           3,
           4,
           5,
           6,
           7,
           8,
           2,
           3,
           4,
           5,
           6,
           7,
           8,
           2,
           3,
           4,
           5,
           6,
           7,
           8,
           2,
           3,
           4,
           5,
           6,
           7,
           2,
           3,
           4,
           5,
           6,
           7,
           2,
           3,
           4,
           5,
           6,
           7
          ],
          "coloraxis": "coloraxis",
          "pattern": {
           "shape": ""
          }
         },
         "name": "",
         "offsetgroup": "",
         "orientation": "v",
         "showlegend": false,
         "textposition": "auto",
         "type": "bar",
         "x": [
          "A",
          "A",
          "A",
          "A",
          "A",
          "A",
          "A#",
          "A#",
          "A#",
          "A#",
          "A#",
          "A#",
          "B",
          "B",
          "B",
          "B",
          "B",
          "B",
          "C",
          "C",
          "C",
          "C",
          "C",
          "C",
          "C",
          "C#",
          "C#",
          "C#",
          "C#",
          "C#",
          "C#",
          "C#",
          "D",
          "D",
          "D",
          "D",
          "D",
          "D",
          "D",
          "D#",
          "D#",
          "D#",
          "D#",
          "D#",
          "D#",
          "D#",
          "E",
          "E",
          "E",
          "E",
          "E",
          "E",
          "E",
          "F",
          "F",
          "F",
          "F",
          "F",
          "F",
          "F",
          "F#",
          "F#",
          "F#",
          "F#",
          "F#",
          "F#",
          "G",
          "G",
          "G",
          "G",
          "G",
          "G",
          "G#",
          "G#",
          "G#",
          "G#",
          "G#",
          "G#"
         ],
         "xaxis": "x2",
         "y": [
          0.27024210513301034,
          1.2644857716648503,
          2.79426804130995,
          2.8765770746380435,
          1.874914997377062,
          0.11427885099415534,
          0.2967364291656584,
          1.3533300715876635,
          2.7935615260024127,
          2.1569912339113215,
          1.1482640035749674,
          0.04380394906731148,
          0.3103368488357511,
          1.2812655102188608,
          2.50318373460459,
          2.4350050074272422,
          1.3172977909032622,
          0.03232307531983065,
          0.0015896594419588842,
          0.7102245129018527,
          1.9506887641104353,
          3.3100242158121658,
          3.03995873950604,
          1.408261636748687,
          0.029673642916565837,
          0.000706515307537282,
          0.3829312966852068,
          1.0463491704627146,
          1.861667835360738,
          1.7247804945253895,
          0.7125206876513488,
          0.004592349498992333,
          0.0024728035763804867,
          0.5782827792192653,
          2.0026176392144257,
          3.2748750792621864,
          3.023532258605798,
          1.100044333835548,
          0.007418410729141459,
          0.013953677323861319,
          0.6521136288569113,
          1.9980252897154334,
          2.645016682592699,
          2.115306830766622,
          0.5403075814391364,
          0.002826061230149128,
          0.010244471959290588,
          0.6975072373661816,
          2.1679422211781496,
          3.042078285428652,
          2.5040668787390112,
          0.741841072914146,
          0.004415720672108012,
          0.11427885099415534,
          0.8319217746251495,
          2.1119508830558202,
          2.822352024784557,
          2.1200758090924987,
          0.44015903659572664,
          0.0012364017881902434,
          0.06658906773538882,
          0.532359284229342,
          1.359688709355499,
          1.835703397808743,
          1.3058169171557812,
          0.16408818017553373,
          0.2776605158621518,
          1.4487096381051965,
          3.156357136422807,
          3.405227153502815,
          2.450901601846831,
          0.23933206042825425,
          0.24533744054232115,
          0.9968930989351048,
          2.216161890917569,
          2.226053105223091,
          1.3580990499135404,
          0.09732248361326058
         ],
         "yaxis": "y2"
        },
        {
         "alignmentgroup": "True",
         "hovertemplate": "Composer=Brahms<br>Note Pitch=%{x}<br>Note %=%{y}<br>Note Octave=%{marker.color}<extra></extra>",
         "legendgroup": "",
         "marker": {
          "color": [
           2,
           3,
           4,
           5,
           6,
           7,
           2,
           3,
           4,
           5,
           6,
           7,
           1,
           2,
           3,
           4,
           5,
           6,
           7,
           2,
           3,
           4,
           5,
           6,
           7,
           8,
           2,
           3,
           4,
           5,
           6,
           7,
           8,
           2,
           3,
           4,
           5,
           6,
           7,
           8,
           2,
           3,
           4,
           5,
           6,
           7,
           8,
           2,
           3,
           4,
           5,
           6,
           7,
           8,
           2,
           3,
           4,
           5,
           6,
           7,
           2,
           3,
           4,
           5,
           6,
           7,
           8,
           2,
           3,
           4,
           5,
           6,
           7,
           8,
           2,
           3,
           4,
           5,
           6,
           7
          ],
          "coloraxis": "coloraxis",
          "pattern": {
           "shape": ""
          }
         },
         "name": "",
         "offsetgroup": "",
         "orientation": "v",
         "showlegend": false,
         "textposition": "auto",
         "type": "bar",
         "x": [
          "A",
          "A",
          "A",
          "A",
          "A",
          "A",
          "A#",
          "A#",
          "A#",
          "A#",
          "A#",
          "A#",
          "B",
          "B",
          "B",
          "B",
          "B",
          "B",
          "B",
          "C",
          "C",
          "C",
          "C",
          "C",
          "C",
          "C",
          "C#",
          "C#",
          "C#",
          "C#",
          "C#",
          "C#",
          "C#",
          "D",
          "D",
          "D",
          "D",
          "D",
          "D",
          "D",
          "D#",
          "D#",
          "D#",
          "D#",
          "D#",
          "D#",
          "D#",
          "E",
          "E",
          "E",
          "E",
          "E",
          "E",
          "E",
          "F",
          "F",
          "F",
          "F",
          "F",
          "F",
          "F#",
          "F#",
          "F#",
          "F#",
          "F#",
          "F#",
          "F#",
          "G",
          "G",
          "G",
          "G",
          "G",
          "G",
          "G",
          "G#",
          "G#",
          "G#",
          "G#",
          "G#",
          "G#"
         ],
         "xaxis": "x3",
         "y": [
          0.1940879005906034,
          1.071274232556729,
          2.7293611020553605,
          3.502680080971046,
          1.595159932979022,
          0.1584545750915473,
          0.3987899832447555,
          1.3677131744744084,
          2.6308008400366947,
          2.8862993654235436,
          1.2047096642127688,
          0.07429927444484037,
          0.0022744675850461336,
          0.29871340950272557,
          1.0159288546539398,
          1.868096043184558,
          2.187279660952699,
          0.8188083306166081,
          0.04624750756260472,
          0.012888649648594758,
          1.0015238932819808,
          1.8294300942387736,
          3.3260297651991295,
          3.352565220358001,
          1.0970515318539185,
          0.03335885791400996,
          0.007581558616820446,
          0.2797595129606745,
          0.8354877595736131,
          1.8605144845677375,
          1.6050159591808884,
          0.41167863289335016,
          0.01667942895700498,
          0.0833971447850249,
          0.7937891871811006,
          2.105398827891038,
          4.232784175770854,
          3.4549162616850775,
          1.0424643098128112,
          0.020470208265415204,
          0.08870423581679922,
          0.8241154216483825,
          1.428365643408972,
          2.738458972395545,
          1.9151017066088447,
          0.476121881136324,
          0.0060652468934563565,
          0.059894313072881525,
          0.5640679610914412,
          1.4738549951098947,
          2.9477099902197894,
          2.2115406485265243,
          0.5034154921568776,
          0.005307091031774312,
          0.15087301647472687,
          1.0796139470352315,
          2.120561945124679,
          3.464772287886944,
          2.2115406485265243,
          0.43290699702044744,
          0.12433756131585531,
          0.6542885086316045,
          1.3282890696669423,
          2.3464923919059277,
          1.4147188378986952,
          0.2683871750354438,
          0.006823402755138401,
          0.21000917368592634,
          1.6512634667434931,
          3.091001448077696,
          4.305567138492331,
          2.4738625766685116,
          0.3957573597980273,
          0.00985602620186658,
          0.15238932819809098,
          0.680823963790476,
          1.4950833592369919,
          2.142548465113458,
          0.9651324119212428,
          0.12661202890090145
         ],
         "yaxis": "y3"
        },
        {
         "alignmentgroup": "True",
         "hovertemplate": "Composer=Cambini<br>Note Pitch=%{x}<br>Note %=%{y}<br>Note Octave=%{marker.color}<extra></extra>",
         "legendgroup": "",
         "marker": {
          "color": [
           3,
           4,
           5,
           6,
           3,
           4,
           5,
           6,
           3,
           4,
           5,
           6,
           3,
           4,
           5,
           6,
           7,
           4,
           5,
           6,
           7,
           3,
           4,
           5,
           6,
           7,
           3,
           4,
           5,
           6,
           7,
           3,
           4,
           5,
           6,
           7,
           3,
           4,
           5,
           6,
           7,
           4,
           5,
           6,
           7,
           3,
           4,
           5,
           6,
           7,
           3,
           4,
           5,
           6
          ],
          "coloraxis": "coloraxis",
          "pattern": {
           "shape": ""
          }
         },
         "name": "",
         "offsetgroup": "",
         "orientation": "v",
         "showlegend": false,
         "textposition": "auto",
         "type": "bar",
         "x": [
          "A",
          "A",
          "A",
          "A",
          "A#",
          "A#",
          "A#",
          "A#",
          "B",
          "B",
          "B",
          "B",
          "C",
          "C",
          "C",
          "C",
          "C",
          "C#",
          "C#",
          "C#",
          "C#",
          "D",
          "D",
          "D",
          "D",
          "D",
          "D#",
          "D#",
          "D#",
          "D#",
          "D#",
          "E",
          "E",
          "E",
          "E",
          "E",
          "F",
          "F",
          "F",
          "F",
          "F",
          "F#",
          "F#",
          "F#",
          "F#",
          "G",
          "G",
          "G",
          "G",
          "G",
          "G#",
          "G#",
          "G#",
          "G#"
         ],
         "xaxis": "x4",
         "y": [
          0.5922643029814666,
          2.514101531023368,
          5.346494762288477,
          5.302175664786462,
          1.5189363416599515,
          2.860596293311845,
          5.459307010475423,
          3.0056406124093473,
          0.14101531023368252,
          0.3706688154713941,
          0.838033843674456,
          0.3988718775181305,
          0.008058017727639002,
          1.2933118452860597,
          3.2352941176470593,
          5.688960515713134,
          1.9057211925866235,
          0.209508460918614,
          0.24174053182917005,
          1.0676873489121674,
          0.3021756647864625,
          0.18130539887187752,
          1.3174858984689766,
          2.199838839645447,
          6.69621273166801,
          1.1361804995970992,
          0.09669621273166801,
          0.7775987107171636,
          1.4625302175664787,
          2.3368251410153102,
          0.23368251410153104,
          0.020145044319097503,
          0.7332796132151491,
          1.2288477034649476,
          4.508460918614022,
          0.11684125705076552,
          0.628525382755842,
          2.5221595487510076,
          6.958098307816277,
          7.534246575342466,
          0.12087026591458502,
          0.3263497179693795,
          0.23771152296535053,
          1.0072522159548751,
          0.012087026591458501,
          0.33440773569701854,
          2.1958098307816276,
          5.157131345688961,
          6.1804995970991135,
          0.024174053182917002,
          0.12489927477840451,
          0.30620467365028203,
          0.43513295729250606,
          0.547945205479452
         ],
         "yaxis": "y4"
        },
        {
         "alignmentgroup": "True",
         "hovertemplate": "Composer=Dvorak<br>Note Pitch=%{x}<br>Note %=%{y}<br>Note Octave=%{marker.color}<extra></extra>",
         "legendgroup": "",
         "marker": {
          "color": [
           3,
           4,
           5,
           6,
           7,
           3,
           4,
           5,
           6,
           7,
           3,
           4,
           5,
           6,
           7,
           3,
           4,
           5,
           6,
           7,
           8,
           3,
           4,
           5,
           6,
           7,
           3,
           4,
           5,
           6,
           7,
           3,
           4,
           5,
           6,
           7,
           3,
           4,
           5,
           6,
           7,
           3,
           4,
           5,
           6,
           7,
           3,
           4,
           5,
           6,
           7,
           3,
           4,
           5,
           6,
           7,
           3,
           4,
           5,
           6,
           7
          ],
          "coloraxis": "coloraxis",
          "pattern": {
           "shape": ""
          }
         },
         "name": "",
         "offsetgroup": "",
         "orientation": "v",
         "showlegend": false,
         "textposition": "auto",
         "type": "bar",
         "x": [
          "A",
          "A",
          "A",
          "A",
          "A",
          "A#",
          "A#",
          "A#",
          "A#",
          "A#",
          "B",
          "B",
          "B",
          "B",
          "B",
          "C",
          "C",
          "C",
          "C",
          "C",
          "C",
          "C#",
          "C#",
          "C#",
          "C#",
          "C#",
          "D",
          "D",
          "D",
          "D",
          "D",
          "D#",
          "D#",
          "D#",
          "D#",
          "D#",
          "E",
          "E",
          "E",
          "E",
          "E",
          "F",
          "F",
          "F",
          "F",
          "F",
          "F#",
          "F#",
          "F#",
          "F#",
          "F#",
          "G",
          "G",
          "G",
          "G",
          "G",
          "G#",
          "G#",
          "G#",
          "G#",
          "G#"
         ],
         "xaxis": "x5",
         "y": [
          0.6549596582819175,
          3.4646416706217367,
          3.281126404049992,
          1.2592944154405947,
          0.120234140167695,
          1.8414807783578548,
          3.7082740072773297,
          3.2178452776459423,
          1.5662078785002371,
          0.0601170700838475,
          0.42714760322733747,
          1.271950640721405,
          1.2118335706375574,
          0.5885144755576649,
          0.012656225280809999,
          0.37968675842429994,
          1.8414807783578548,
          4.629014396456257,
          3.6323366555924697,
          1.8035121025154248,
          0.028476506881822496,
          0.1740230976111375,
          0.7308970099667774,
          1.1200759373516849,
          0.9492168960607499,
          0.35437430786268,
          0.4841006169909824,
          2.9077677582660972,
          4.4803037494067395,
          3.7462426831197595,
          1.335231767125455,
          0.6581237146021199,
          1.9775352001265623,
          3.1292517006802725,
          2.1483942414174972,
          0.6707799398829299,
          0.38917892738490745,
          0.8068343616516375,
          1.3289036544850499,
          1.0852713178294573,
          0.23414016769498497,
          1.7528872013921848,
          4.255655750672362,
          5.897800980857459,
          3.515266571744977,
          0.7435532352475874,
          0.1487106470495175,
          0.5410536307546274,
          1.158044613194115,
          0.6169909824394874,
          0.10441385856668249,
          1.0884353741496597,
          3.913937668090492,
          4.03733586457839,
          2.0566366081316247,
          0.33222591362126247,
          0.6929283341243474,
          2.2623002689447875,
          2.0629647207720296,
          1.0219901914254073,
          0.0854295206454675
         ],
         "yaxis": "y5"
        },
        {
         "alignmentgroup": "True",
         "hovertemplate": "Composer=Faure<br>Note Pitch=%{x}<br>Note %=%{y}<br>Note Octave=%{marker.color}<extra></extra>",
         "legendgroup": "",
         "marker": {
          "color": [
           1,
           2,
           3,
           4,
           5,
           6,
           7,
           2,
           3,
           4,
           5,
           6,
           7,
           1,
           2,
           3,
           4,
           5,
           6,
           7,
           2,
           3,
           4,
           5,
           6,
           7,
           8,
           2,
           3,
           4,
           5,
           6,
           7,
           8,
           2,
           3,
           4,
           5,
           6,
           7,
           8,
           2,
           3,
           4,
           5,
           6,
           7,
           8,
           2,
           3,
           4,
           5,
           6,
           7,
           8,
           2,
           3,
           4,
           5,
           6,
           7,
           8,
           2,
           3,
           4,
           5,
           6,
           7,
           2,
           3,
           4,
           5,
           6,
           7,
           8,
           2,
           3,
           4,
           5,
           6,
           7,
           8
          ],
          "coloraxis": "coloraxis",
          "pattern": {
           "shape": ""
          }
         },
         "name": "",
         "offsetgroup": "",
         "orientation": "v",
         "showlegend": false,
         "textposition": "auto",
         "type": "bar",
         "x": [
          "A",
          "A",
          "A",
          "A",
          "A",
          "A",
          "A",
          "A#",
          "A#",
          "A#",
          "A#",
          "A#",
          "A#",
          "B",
          "B",
          "B",
          "B",
          "B",
          "B",
          "B",
          "C",
          "C",
          "C",
          "C",
          "C",
          "C",
          "C",
          "C#",
          "C#",
          "C#",
          "C#",
          "C#",
          "C#",
          "C#",
          "D",
          "D",
          "D",
          "D",
          "D",
          "D",
          "D",
          "D#",
          "D#",
          "D#",
          "D#",
          "D#",
          "D#",
          "D#",
          "E",
          "E",
          "E",
          "E",
          "E",
          "E",
          "E",
          "F",
          "F",
          "F",
          "F",
          "F",
          "F",
          "F",
          "F#",
          "F#",
          "F#",
          "F#",
          "F#",
          "F#",
          "G",
          "G",
          "G",
          "G",
          "G",
          "G",
          "G",
          "G#",
          "G#",
          "G#",
          "G#",
          "G#",
          "G#",
          "G#"
         ],
         "xaxis": "x6",
         "y": [
          0.00447447313078885,
          0.4608707324712515,
          1.0515011857353798,
          2.7249541366504095,
          2.4206899637567676,
          0.9709606693811804,
          0.1252852476620878,
          0.37138126985547454,
          1.0291288200814355,
          3.879368204393933,
          2.434113383149134,
          0.9127925186809253,
          0.12081077453129895,
          0.0178978925231554,
          0.2729428609781198,
          1.0380777663430132,
          3.3379569555684814,
          2.613092308380688,
          0.8501498948498813,
          0.040270258177099644,
          0.02237236565394425,
          0.4832430981251958,
          1.306546154190344,
          3.154503557206139,
          2.026936328247349,
          0.7785583247572598,
          0.0715915700926216,
          0.0089489462615777,
          0.23714707593180903,
          0.6980178084030606,
          2.0000894894626158,
          1.1723119602666785,
          0.5145644100407177,
          0.0089489462615777,
          0.21477471027786477,
          1.4273569287216432,
          2.196966307217325,
          6.188196339880979,
          3.3334824824376925,
          0.7964562172804153,
          0.040270258177099644,
          0.17450445210076515,
          0.7472370128417379,
          2.3177770817486243,
          4.1612600116336305,
          1.7987381985771176,
          0.536936775694662,
          0.0178978925231554,
          0.23267260280102017,
          0.6890688621414829,
          1.3870866705445435,
          2.6041433621191103,
          1.100720390174057,
          0.3490089042015303,
          0.00447447313078885,
          0.1700299789699763,
          0.7517114859725268,
          1.7002997896997627,
          3.0336927826748403,
          1.3289185198442883,
          0.4206004742941518,
          0.013423419392366548,
          0.19240234462392053,
          0.7696093784956821,
          1.8927021343236834,
          2.639939147165421,
          1.0828224976509018,
          0.24609602219338675,
          0.3803302161170522,
          1.2036332721822005,
          4.3849836681730725,
          4.367085775649917,
          1.5257953375989977,
          0.30426417289364177,
          0.0089489462615777,
          0.10738735513893238,
          0.6711709696183275,
          1.9866660700702494,
          2.2238131460020583,
          0.9306904112040807,
          0.178978925231554,
          0.00447447313078885
         ],
         "yaxis": "y6"
        },
        {
         "alignmentgroup": "True",
         "hovertemplate": "Composer=Haydn<br>Note Pitch=%{x}<br>Note %=%{y}<br>Note Octave=%{marker.color}<extra></extra>",
         "legendgroup": "",
         "marker": {
          "color": [
           3,
           4,
           5,
           6,
           3,
           4,
           5,
           6,
           3,
           4,
           5,
           6,
           3,
           4,
           5,
           6,
           7,
           3,
           4,
           5,
           6,
           7,
           3,
           4,
           5,
           6,
           7,
           3,
           4,
           5,
           6,
           7,
           3,
           4,
           5,
           6,
           7,
           3,
           4,
           5,
           6,
           3,
           4,
           5,
           6,
           7,
           3,
           4,
           5,
           6,
           7,
           3,
           4,
           5,
           6
          ],
          "coloraxis": "coloraxis",
          "pattern": {
           "shape": ""
          }
         },
         "name": "",
         "offsetgroup": "",
         "orientation": "v",
         "showlegend": false,
         "textposition": "auto",
         "type": "bar",
         "x": [
          "A",
          "A",
          "A",
          "A",
          "A#",
          "A#",
          "A#",
          "A#",
          "B",
          "B",
          "B",
          "B",
          "C",
          "C",
          "C",
          "C",
          "C",
          "C#",
          "C#",
          "C#",
          "C#",
          "C#",
          "D",
          "D",
          "D",
          "D",
          "D",
          "D#",
          "D#",
          "D#",
          "D#",
          "D#",
          "E",
          "E",
          "E",
          "E",
          "E",
          "F",
          "F",
          "F",
          "F",
          "F#",
          "F#",
          "F#",
          "F#",
          "F#",
          "G",
          "G",
          "G",
          "G",
          "G",
          "G#",
          "G#",
          "G#",
          "G#"
         ],
         "xaxis": "x7",
         "y": [
          2.097902097902098,
          4.020979020979021,
          6.563890654799747,
          3.3693579148124604,
          0.4291163382072473,
          0.6675143038779402,
          0.7151938970120788,
          0.3337571519389701,
          0.5562619198982834,
          2.638270820089002,
          3.9574062301335027,
          1.1443102352193262,
          0.04767959313413859,
          0.3337571519389701,
          1.1919898283534647,
          1.2078830260648443,
          0.17482517482517482,
          0.12714558169103624,
          0.9694850603941513,
          2.590591226954863,
          3.9415130324221233,
          0.8423394787031151,
          0.7628734901462174,
          2.70184361093452,
          5.801017164653528,
          5.292434837889384,
          1.048951048951049,
          0.09535918626827718,
          0.270184361093452,
          0.6675143038779402,
          0.7946598855689765,
          0.11125238397965671,
          0.6198347107438017,
          2.5588048315321044,
          6.516211061665607,
          5.308328035600763,
          0.8264462809917356,
          0.34965034965034963,
          1.0648442466624286,
          1.4144945963127782,
          1.1760966306420853,
          0.5721551176096631,
          1.5734265734265735,
          5.244755244755245,
          3.337571519389701,
          0.39732994278448824,
          0.6993006993006993,
          2.256834075015893,
          3.9732994278448825,
          2.161474888747616,
          0.07946598855689765,
          0.22250476795931343,
          1.2555626191989828,
          1.621106166560712,
          1.3032422123331213
         ],
         "yaxis": "y7"
        },
        {
         "alignmentgroup": "True",
         "hovertemplate": "Composer=Mozart<br>Note Pitch=%{x}<br>Note %=%{y}<br>Note Octave=%{marker.color}<extra></extra>",
         "legendgroup": "",
         "marker": {
          "color": [
           2,
           3,
           4,
           5,
           6,
           7,
           2,
           3,
           4,
           5,
           6,
           2,
           3,
           4,
           5,
           6,
           3,
           4,
           5,
           6,
           7,
           3,
           4,
           5,
           6,
           7,
           3,
           4,
           5,
           6,
           7,
           3,
           4,
           5,
           6,
           7,
           3,
           4,
           5,
           6,
           7,
           2,
           3,
           4,
           5,
           6,
           7,
           3,
           4,
           5,
           6,
           7,
           2,
           3,
           4,
           5,
           6,
           7,
           2,
           3,
           4,
           5,
           6
          ],
          "coloraxis": "coloraxis",
          "pattern": {
           "shape": ""
          }
         },
         "name": "",
         "offsetgroup": "",
         "orientation": "v",
         "showlegend": false,
         "textposition": "auto",
         "type": "bar",
         "x": [
          "A",
          "A",
          "A",
          "A",
          "A",
          "A",
          "A#",
          "A#",
          "A#",
          "A#",
          "A#",
          "B",
          "B",
          "B",
          "B",
          "B",
          "C",
          "C",
          "C",
          "C",
          "C",
          "C#",
          "C#",
          "C#",
          "C#",
          "C#",
          "D",
          "D",
          "D",
          "D",
          "D",
          "D#",
          "D#",
          "D#",
          "D#",
          "D#",
          "E",
          "E",
          "E",
          "E",
          "E",
          "F",
          "F",
          "F",
          "F",
          "F",
          "F",
          "F#",
          "F#",
          "F#",
          "F#",
          "F#",
          "G",
          "G",
          "G",
          "G",
          "G",
          "G",
          "G#",
          "G#",
          "G#",
          "G#",
          "G#"
         ],
         "xaxis": "x8",
         "y": [
          0.009219017516133281,
          0.8191755564335571,
          3.3306993283287243,
          4.851837218490715,
          2.3034373765310154,
          0.002634005004609509,
          0.06585012511523772,
          0.7164493612537863,
          2.1625181087844068,
          2.049255893586198,
          0.879757671539576,
          0.025023047543790335,
          0.7269853812722245,
          2.7683392598445935,
          3.7521401290662455,
          1.082576056894508,
          0.25418148294481757,
          1.7134202554984854,
          3.67311997892796,
          3.760042144080074,
          1.243250362175688,
          0.02634005004609509,
          0.44646384828131175,
          2.0031608060055315,
          2.0940339786645596,
          0.32925062557618856,
          0.2752535229816937,
          1.5369419201896484,
          4.887396286052943,
          4.422494402739365,
          0.6466482286316344,
          0.21335440537337022,
          0.8283945739496905,
          2.365336494139339,
          1.642302120374029,
          0.1672593177927038,
          0.4530488607928355,
          1.741077308046885,
          4.966416436191229,
          3.64546292637956,
          0.18042934281575135,
          0.002634005004609509,
          0.5742130910048728,
          1.5158698801527724,
          3.779797181614645,
          2.4087975767153957,
          0.09087317265902806,
          0.22915843540102726,
          0.8876596865534044,
          2.3666534966416437,
          1.7661003555906756,
          0.014487027525352298,
          0.015804030027657054,
          1.1997892795996312,
          3.1397339654945347,
          4.764915053338601,
          2.934281575134993,
          0.028974055050704595,
          0.0065850125115237725,
          0.375345713156855,
          1.1997892795996312,
          2.392993546687739,
          1.244567364677993
         ],
         "yaxis": "y8"
        },
        {
         "alignmentgroup": "True",
         "hovertemplate": "Composer=Ravel<br>Note Pitch=%{x}<br>Note %=%{y}<br>Note Octave=%{marker.color}<extra></extra>",
         "legendgroup": "",
         "marker": {
          "color": [
           3,
           4,
           5,
           6,
           7,
           3,
           4,
           5,
           6,
           7,
           3,
           4,
           5,
           6,
           3,
           4,
           5,
           6,
           7,
           3,
           4,
           5,
           6,
           7,
           3,
           4,
           5,
           6,
           7,
           3,
           4,
           5,
           6,
           7,
           3,
           4,
           5,
           6,
           7,
           3,
           4,
           5,
           6,
           7,
           3,
           4,
           5,
           6,
           7,
           3,
           4,
           5,
           6,
           7,
           3,
           4,
           5,
           6,
           7
          ],
          "coloraxis": "coloraxis",
          "pattern": {
           "shape": ""
          }
         },
         "name": "",
         "offsetgroup": "",
         "orientation": "v",
         "showlegend": false,
         "textposition": "auto",
         "type": "bar",
         "x": [
          "A",
          "A",
          "A",
          "A",
          "A",
          "A#",
          "A#",
          "A#",
          "A#",
          "A#",
          "B",
          "B",
          "B",
          "B",
          "C",
          "C",
          "C",
          "C",
          "C",
          "C#",
          "C#",
          "C#",
          "C#",
          "C#",
          "D",
          "D",
          "D",
          "D",
          "D",
          "D#",
          "D#",
          "D#",
          "D#",
          "D#",
          "E",
          "E",
          "E",
          "E",
          "E",
          "F",
          "F",
          "F",
          "F",
          "F",
          "F#",
          "F#",
          "F#",
          "F#",
          "F#",
          "G",
          "G",
          "G",
          "G",
          "G",
          "G#",
          "G#",
          "G#",
          "G#",
          "G#"
         ],
         "xaxis": "x9",
         "y": [
          0.7901958928740418,
          3.198637266963187,
          5.465127283051007,
          1.547269802214441,
          0.2460490205356298,
          0.5961957036055645,
          4.130784517838554,
          3.742784139301599,
          0.8659032838080817,
          0.018926847733509982,
          0.3548783950033122,
          3.170246995362922,
          2.318538847354973,
          0.629317687139207,
          0.38326866660357717,
          0.9605375224756317,
          2.7775149048925902,
          2.053562979085833,
          0.7050250780732469,
          0.3359515472698022,
          0.7239519258067569,
          3.4304911516986842,
          2.394246238289013,
          0.610390839405697,
          0.7097567900066244,
          1.059903473076559,
          4.409955521907826,
          1.821709094350336,
          0.7712690451405319,
          0.18453676540172234,
          0.6529762468060945,
          2.9715150941610675,
          1.6135137692817263,
          0.534683448471657,
          0.2791710040692723,
          1.9967824358853032,
          4.7648339169111384,
          3.316930065297625,
          1.0835620327434465,
          0.4211223620705971,
          1.6324406170152361,
          4.840541307845178,
          2.2286363206208004,
          0.41639065013721965,
          0.572537143938677,
          0.8185861644743069,
          3.1371250118292795,
          1.670294312482256,
          0.44951263367086214,
          0.8375130122078168,
          3.009368789628087,
          2.56931957982398,
          1.5046843948140436,
          0.13721964606794737,
          0.4069272262704647,
          3.6765401722343145,
          2.96678338222769,
          1.0788303208100691,
          0.0047317119333774955
         ],
         "yaxis": "y9"
        },
        {
         "alignmentgroup": "True",
         "hovertemplate": "Composer=Schubert<br>Note Pitch=%{x}<br>Note %=%{y}<br>Note Octave=%{marker.color}<extra></extra>",
         "legendgroup": "",
         "marker": {
          "color": [
           2,
           3,
           4,
           5,
           6,
           7,
           2,
           3,
           4,
           5,
           6,
           7,
           2,
           3,
           4,
           5,
           6,
           7,
           2,
           3,
           4,
           5,
           6,
           7,
           8,
           3,
           4,
           5,
           6,
           7,
           8,
           2,
           3,
           4,
           5,
           6,
           7,
           8,
           2,
           3,
           4,
           5,
           6,
           7,
           8,
           2,
           3,
           4,
           5,
           6,
           7,
           8,
           2,
           3,
           4,
           5,
           6,
           7,
           8,
           2,
           3,
           4,
           5,
           6,
           7,
           8,
           2,
           3,
           4,
           5,
           6,
           7,
           2,
           3,
           4,
           5,
           6,
           7,
           8
          ],
          "coloraxis": "coloraxis",
          "pattern": {
           "shape": ""
          }
         },
         "name": "",
         "offsetgroup": "",
         "orientation": "v",
         "showlegend": false,
         "textposition": "auto",
         "type": "bar",
         "x": [
          "A",
          "A",
          "A",
          "A",
          "A",
          "A",
          "A#",
          "A#",
          "A#",
          "A#",
          "A#",
          "A#",
          "B",
          "B",
          "B",
          "B",
          "B",
          "B",
          "C",
          "C",
          "C",
          "C",
          "C",
          "C",
          "C",
          "C#",
          "C#",
          "C#",
          "C#",
          "C#",
          "C#",
          "D",
          "D",
          "D",
          "D",
          "D",
          "D",
          "D",
          "D#",
          "D#",
          "D#",
          "D#",
          "D#",
          "D#",
          "D#",
          "E",
          "E",
          "E",
          "E",
          "E",
          "E",
          "E",
          "F",
          "F",
          "F",
          "F",
          "F",
          "F",
          "F",
          "F#",
          "F#",
          "F#",
          "F#",
          "F#",
          "F#",
          "F#",
          "G",
          "G",
          "G",
          "G",
          "G",
          "G",
          "G#",
          "G#",
          "G#",
          "G#",
          "G#",
          "G#",
          "G#"
         ],
         "xaxis": "x10",
         "y": [
          0.3956991594804061,
          1.5091147254666522,
          3.288396463268202,
          3.519675799585198,
          1.9341502019430195,
          0.29472764981988864,
          0.2346905359676891,
          1.1147800458465233,
          2.3919331950660405,
          2.376923916602991,
          1.1400229232616526,
          0.1575974238620238,
          0.24014845540879817,
          0.9974347778626788,
          1.919823163410108,
          2.1763453771422334,
          1.1993777971837136,
          0.12553214714550814,
          0.012280318742495362,
          0.4878015500491213,
          1.820216133609868,
          3.5285449186770004,
          3.039378888767602,
          1.2143870756467634,
          0.1384947058181421,
          0.36363388276389036,
          1.4026852963650256,
          2.5645398973911147,
          2.3114288833096825,
          0.9237528654077065,
          0.06958847287414038,
          0.01842047811374304,
          0.5410162645999345,
          1.820216133609868,
          3.471919004475494,
          3.0516592075100974,
          1.0445093330422444,
          0.05662591420150638,
          0.0020467197904158936,
          0.32269948695557255,
          1.55004912127497,
          2.2998308044973257,
          1.8686551686497108,
          0.4823436306080123,
          0.030700796856238402,
          0.014327038532911254,
          0.7688844012662374,
          2.0712804279008843,
          3.079631044645781,
          2.5242877415129352,
          0.7354546446894444,
          0.028654077065822507,
          0.12757886693592402,
          0.7838936797292871,
          2.1483735400065496,
          3.1812847942364373,
          2.2370647309245717,
          0.4789324309573191,
          0.01773823818360441,
          0.09346687042899247,
          0.639941054470036,
          1.3863115380416984,
          2.1797565767929266,
          1.4804606484008296,
          0.301550049121275,
          0.0013644798602772622,
          0.20057853946075757,
          1.017219735836699,
          2.5665866171815304,
          3.213350070952953,
          1.9334679620128807,
          0.403203798711931,
          0.16373758323327148,
          0.8002674380526144,
          1.9102718043881675,
          2.388521995415348,
          1.4511243314048685,
          0.21627005785394607,
          0.0013644798602772622
         ],
         "yaxis": "y10"
        }
       ],
       "layout": {
        "annotations": [
         {
          "font": {},
          "showarrow": false,
          "text": "Composer=Bach",
          "x": 0.04100000000000001,
          "xanchor": "center",
          "xref": "paper",
          "y": 1,
          "yanchor": "bottom",
          "yref": "paper"
         },
         {
          "font": {},
          "showarrow": false,
          "text": "Composer=Beethoven",
          "x": 0.14300000000000004,
          "xanchor": "center",
          "xref": "paper",
          "y": 1,
          "yanchor": "bottom",
          "yref": "paper"
         },
         {
          "font": {},
          "showarrow": false,
          "text": "Composer=Brahms",
          "x": 0.24500000000000005,
          "xanchor": "center",
          "xref": "paper",
          "y": 1,
          "yanchor": "bottom",
          "yref": "paper"
         },
         {
          "font": {},
          "showarrow": false,
          "text": "Composer=Cambini",
          "x": 0.3470000000000001,
          "xanchor": "center",
          "xref": "paper",
          "y": 1,
          "yanchor": "bottom",
          "yref": "paper"
         },
         {
          "font": {},
          "showarrow": false,
          "text": "Composer=Dvorak",
          "x": 0.44900000000000007,
          "xanchor": "center",
          "xref": "paper",
          "y": 1,
          "yanchor": "bottom",
          "yref": "paper"
         },
         {
          "font": {},
          "showarrow": false,
          "text": "Composer=Faure",
          "x": 0.5510000000000002,
          "xanchor": "center",
          "xref": "paper",
          "y": 1,
          "yanchor": "bottom",
          "yref": "paper"
         },
         {
          "font": {},
          "showarrow": false,
          "text": "Composer=Haydn",
          "x": 0.6530000000000001,
          "xanchor": "center",
          "xref": "paper",
          "y": 1,
          "yanchor": "bottom",
          "yref": "paper"
         },
         {
          "font": {},
          "showarrow": false,
          "text": "Composer=Mozart",
          "x": 0.7550000000000001,
          "xanchor": "center",
          "xref": "paper",
          "y": 1,
          "yanchor": "bottom",
          "yref": "paper"
         },
         {
          "font": {},
          "showarrow": false,
          "text": "Composer=Ravel",
          "x": 0.8570000000000002,
          "xanchor": "center",
          "xref": "paper",
          "y": 1,
          "yanchor": "bottom",
          "yref": "paper"
         },
         {
          "font": {},
          "showarrow": false,
          "text": "Composer=Schubert",
          "x": 0.9590000000000002,
          "xanchor": "center",
          "xref": "paper",
          "y": 1,
          "yanchor": "bottom",
          "yref": "paper"
         }
        ],
        "barmode": "relative",
        "coloraxis": {
         "colorbar": {
          "title": {
           "text": "Note Octave"
          }
         },
         "colorscale": [
          [
           0,
           "#0d0887"
          ],
          [
           0.1111111111111111,
           "#46039f"
          ],
          [
           0.2222222222222222,
           "#7201a8"
          ],
          [
           0.3333333333333333,
           "#9c179e"
          ],
          [
           0.4444444444444444,
           "#bd3786"
          ],
          [
           0.5555555555555556,
           "#d8576b"
          ],
          [
           0.6666666666666666,
           "#ed7953"
          ],
          [
           0.7777777777777778,
           "#fb9f3a"
          ],
          [
           0.8888888888888888,
           "#fdca26"
          ],
          [
           1,
           "#f0f921"
          ]
         ]
        },
        "height": 1500,
        "legend": {
         "tracegroupgap": 0
        },
        "margin": {
         "t": 60
        },
        "template": {
         "data": {
          "bar": [
           {
            "error_x": {
             "color": "#2a3f5f"
            },
            "error_y": {
             "color": "#2a3f5f"
            },
            "marker": {
             "line": {
              "color": "#E5ECF6",
              "width": 0.5
             },
             "pattern": {
              "fillmode": "overlay",
              "size": 10,
              "solidity": 0.2
             }
            },
            "type": "bar"
           }
          ],
          "barpolar": [
           {
            "marker": {
             "line": {
              "color": "#E5ECF6",
              "width": 0.5
             },
             "pattern": {
              "fillmode": "overlay",
              "size": 10,
              "solidity": 0.2
             }
            },
            "type": "barpolar"
           }
          ],
          "carpet": [
           {
            "aaxis": {
             "endlinecolor": "#2a3f5f",
             "gridcolor": "white",
             "linecolor": "white",
             "minorgridcolor": "white",
             "startlinecolor": "#2a3f5f"
            },
            "baxis": {
             "endlinecolor": "#2a3f5f",
             "gridcolor": "white",
             "linecolor": "white",
             "minorgridcolor": "white",
             "startlinecolor": "#2a3f5f"
            },
            "type": "carpet"
           }
          ],
          "choropleth": [
           {
            "colorbar": {
             "outlinewidth": 0,
             "ticks": ""
            },
            "type": "choropleth"
           }
          ],
          "contour": [
           {
            "colorbar": {
             "outlinewidth": 0,
             "ticks": ""
            },
            "colorscale": [
             [
              0,
              "#0d0887"
             ],
             [
              0.1111111111111111,
              "#46039f"
             ],
             [
              0.2222222222222222,
              "#7201a8"
             ],
             [
              0.3333333333333333,
              "#9c179e"
             ],
             [
              0.4444444444444444,
              "#bd3786"
             ],
             [
              0.5555555555555556,
              "#d8576b"
             ],
             [
              0.6666666666666666,
              "#ed7953"
             ],
             [
              0.7777777777777778,
              "#fb9f3a"
             ],
             [
              0.8888888888888888,
              "#fdca26"
             ],
             [
              1,
              "#f0f921"
             ]
            ],
            "type": "contour"
           }
          ],
          "contourcarpet": [
           {
            "colorbar": {
             "outlinewidth": 0,
             "ticks": ""
            },
            "type": "contourcarpet"
           }
          ],
          "heatmap": [
           {
            "colorbar": {
             "outlinewidth": 0,
             "ticks": ""
            },
            "colorscale": [
             [
              0,
              "#0d0887"
             ],
             [
              0.1111111111111111,
              "#46039f"
             ],
             [
              0.2222222222222222,
              "#7201a8"
             ],
             [
              0.3333333333333333,
              "#9c179e"
             ],
             [
              0.4444444444444444,
              "#bd3786"
             ],
             [
              0.5555555555555556,
              "#d8576b"
             ],
             [
              0.6666666666666666,
              "#ed7953"
             ],
             [
              0.7777777777777778,
              "#fb9f3a"
             ],
             [
              0.8888888888888888,
              "#fdca26"
             ],
             [
              1,
              "#f0f921"
             ]
            ],
            "type": "heatmap"
           }
          ],
          "heatmapgl": [
           {
            "colorbar": {
             "outlinewidth": 0,
             "ticks": ""
            },
            "colorscale": [
             [
              0,
              "#0d0887"
             ],
             [
              0.1111111111111111,
              "#46039f"
             ],
             [
              0.2222222222222222,
              "#7201a8"
             ],
             [
              0.3333333333333333,
              "#9c179e"
             ],
             [
              0.4444444444444444,
              "#bd3786"
             ],
             [
              0.5555555555555556,
              "#d8576b"
             ],
             [
              0.6666666666666666,
              "#ed7953"
             ],
             [
              0.7777777777777778,
              "#fb9f3a"
             ],
             [
              0.8888888888888888,
              "#fdca26"
             ],
             [
              1,
              "#f0f921"
             ]
            ],
            "type": "heatmapgl"
           }
          ],
          "histogram": [
           {
            "marker": {
             "pattern": {
              "fillmode": "overlay",
              "size": 10,
              "solidity": 0.2
             }
            },
            "type": "histogram"
           }
          ],
          "histogram2d": [
           {
            "colorbar": {
             "outlinewidth": 0,
             "ticks": ""
            },
            "colorscale": [
             [
              0,
              "#0d0887"
             ],
             [
              0.1111111111111111,
              "#46039f"
             ],
             [
              0.2222222222222222,
              "#7201a8"
             ],
             [
              0.3333333333333333,
              "#9c179e"
             ],
             [
              0.4444444444444444,
              "#bd3786"
             ],
             [
              0.5555555555555556,
              "#d8576b"
             ],
             [
              0.6666666666666666,
              "#ed7953"
             ],
             [
              0.7777777777777778,
              "#fb9f3a"
             ],
             [
              0.8888888888888888,
              "#fdca26"
             ],
             [
              1,
              "#f0f921"
             ]
            ],
            "type": "histogram2d"
           }
          ],
          "histogram2dcontour": [
           {
            "colorbar": {
             "outlinewidth": 0,
             "ticks": ""
            },
            "colorscale": [
             [
              0,
              "#0d0887"
             ],
             [
              0.1111111111111111,
              "#46039f"
             ],
             [
              0.2222222222222222,
              "#7201a8"
             ],
             [
              0.3333333333333333,
              "#9c179e"
             ],
             [
              0.4444444444444444,
              "#bd3786"
             ],
             [
              0.5555555555555556,
              "#d8576b"
             ],
             [
              0.6666666666666666,
              "#ed7953"
             ],
             [
              0.7777777777777778,
              "#fb9f3a"
             ],
             [
              0.8888888888888888,
              "#fdca26"
             ],
             [
              1,
              "#f0f921"
             ]
            ],
            "type": "histogram2dcontour"
           }
          ],
          "mesh3d": [
           {
            "colorbar": {
             "outlinewidth": 0,
             "ticks": ""
            },
            "type": "mesh3d"
           }
          ],
          "parcoords": [
           {
            "line": {
             "colorbar": {
              "outlinewidth": 0,
              "ticks": ""
             }
            },
            "type": "parcoords"
           }
          ],
          "pie": [
           {
            "automargin": true,
            "type": "pie"
           }
          ],
          "scatter": [
           {
            "fillpattern": {
             "fillmode": "overlay",
             "size": 10,
             "solidity": 0.2
            },
            "type": "scatter"
           }
          ],
          "scatter3d": [
           {
            "line": {
             "colorbar": {
              "outlinewidth": 0,
              "ticks": ""
             }
            },
            "marker": {
             "colorbar": {
              "outlinewidth": 0,
              "ticks": ""
             }
            },
            "type": "scatter3d"
           }
          ],
          "scattercarpet": [
           {
            "marker": {
             "colorbar": {
              "outlinewidth": 0,
              "ticks": ""
             }
            },
            "type": "scattercarpet"
           }
          ],
          "scattergeo": [
           {
            "marker": {
             "colorbar": {
              "outlinewidth": 0,
              "ticks": ""
             }
            },
            "type": "scattergeo"
           }
          ],
          "scattergl": [
           {
            "marker": {
             "colorbar": {
              "outlinewidth": 0,
              "ticks": ""
             }
            },
            "type": "scattergl"
           }
          ],
          "scattermapbox": [
           {
            "marker": {
             "colorbar": {
              "outlinewidth": 0,
              "ticks": ""
             }
            },
            "type": "scattermapbox"
           }
          ],
          "scatterpolar": [
           {
            "marker": {
             "colorbar": {
              "outlinewidth": 0,
              "ticks": ""
             }
            },
            "type": "scatterpolar"
           }
          ],
          "scatterpolargl": [
           {
            "marker": {
             "colorbar": {
              "outlinewidth": 0,
              "ticks": ""
             }
            },
            "type": "scatterpolargl"
           }
          ],
          "scatterternary": [
           {
            "marker": {
             "colorbar": {
              "outlinewidth": 0,
              "ticks": ""
             }
            },
            "type": "scatterternary"
           }
          ],
          "surface": [
           {
            "colorbar": {
             "outlinewidth": 0,
             "ticks": ""
            },
            "colorscale": [
             [
              0,
              "#0d0887"
             ],
             [
              0.1111111111111111,
              "#46039f"
             ],
             [
              0.2222222222222222,
              "#7201a8"
             ],
             [
              0.3333333333333333,
              "#9c179e"
             ],
             [
              0.4444444444444444,
              "#bd3786"
             ],
             [
              0.5555555555555556,
              "#d8576b"
             ],
             [
              0.6666666666666666,
              "#ed7953"
             ],
             [
              0.7777777777777778,
              "#fb9f3a"
             ],
             [
              0.8888888888888888,
              "#fdca26"
             ],
             [
              1,
              "#f0f921"
             ]
            ],
            "type": "surface"
           }
          ],
          "table": [
           {
            "cells": {
             "fill": {
              "color": "#EBF0F8"
             },
             "line": {
              "color": "white"
             }
            },
            "header": {
             "fill": {
              "color": "#C8D4E3"
             },
             "line": {
              "color": "white"
             }
            },
            "type": "table"
           }
          ]
         },
         "layout": {
          "annotationdefaults": {
           "arrowcolor": "#2a3f5f",
           "arrowhead": 0,
           "arrowwidth": 1
          },
          "autotypenumbers": "strict",
          "coloraxis": {
           "colorbar": {
            "outlinewidth": 0,
            "ticks": ""
           }
          },
          "colorscale": {
           "diverging": [
            [
             0,
             "#8e0152"
            ],
            [
             0.1,
             "#c51b7d"
            ],
            [
             0.2,
             "#de77ae"
            ],
            [
             0.3,
             "#f1b6da"
            ],
            [
             0.4,
             "#fde0ef"
            ],
            [
             0.5,
             "#f7f7f7"
            ],
            [
             0.6,
             "#e6f5d0"
            ],
            [
             0.7,
             "#b8e186"
            ],
            [
             0.8,
             "#7fbc41"
            ],
            [
             0.9,
             "#4d9221"
            ],
            [
             1,
             "#276419"
            ]
           ],
           "sequential": [
            [
             0,
             "#0d0887"
            ],
            [
             0.1111111111111111,
             "#46039f"
            ],
            [
             0.2222222222222222,
             "#7201a8"
            ],
            [
             0.3333333333333333,
             "#9c179e"
            ],
            [
             0.4444444444444444,
             "#bd3786"
            ],
            [
             0.5555555555555556,
             "#d8576b"
            ],
            [
             0.6666666666666666,
             "#ed7953"
            ],
            [
             0.7777777777777778,
             "#fb9f3a"
            ],
            [
             0.8888888888888888,
             "#fdca26"
            ],
            [
             1,
             "#f0f921"
            ]
           ],
           "sequentialminus": [
            [
             0,
             "#0d0887"
            ],
            [
             0.1111111111111111,
             "#46039f"
            ],
            [
             0.2222222222222222,
             "#7201a8"
            ],
            [
             0.3333333333333333,
             "#9c179e"
            ],
            [
             0.4444444444444444,
             "#bd3786"
            ],
            [
             0.5555555555555556,
             "#d8576b"
            ],
            [
             0.6666666666666666,
             "#ed7953"
            ],
            [
             0.7777777777777778,
             "#fb9f3a"
            ],
            [
             0.8888888888888888,
             "#fdca26"
            ],
            [
             1,
             "#f0f921"
            ]
           ]
          },
          "colorway": [
           "#636efa",
           "#EF553B",
           "#00cc96",
           "#ab63fa",
           "#FFA15A",
           "#19d3f3",
           "#FF6692",
           "#B6E880",
           "#FF97FF",
           "#FECB52"
          ],
          "font": {
           "color": "#2a3f5f"
          },
          "geo": {
           "bgcolor": "white",
           "lakecolor": "white",
           "landcolor": "#E5ECF6",
           "showlakes": true,
           "showland": true,
           "subunitcolor": "white"
          },
          "hoverlabel": {
           "align": "left"
          },
          "hovermode": "closest",
          "mapbox": {
           "style": "light"
          },
          "paper_bgcolor": "white",
          "plot_bgcolor": "#E5ECF6",
          "polar": {
           "angularaxis": {
            "gridcolor": "white",
            "linecolor": "white",
            "ticks": ""
           },
           "bgcolor": "#E5ECF6",
           "radialaxis": {
            "gridcolor": "white",
            "linecolor": "white",
            "ticks": ""
           }
          },
          "scene": {
           "xaxis": {
            "backgroundcolor": "#E5ECF6",
            "gridcolor": "white",
            "gridwidth": 2,
            "linecolor": "white",
            "showbackground": true,
            "ticks": "",
            "zerolinecolor": "white"
           },
           "yaxis": {
            "backgroundcolor": "#E5ECF6",
            "gridcolor": "white",
            "gridwidth": 2,
            "linecolor": "white",
            "showbackground": true,
            "ticks": "",
            "zerolinecolor": "white"
           },
           "zaxis": {
            "backgroundcolor": "#E5ECF6",
            "gridcolor": "white",
            "gridwidth": 2,
            "linecolor": "white",
            "showbackground": true,
            "ticks": "",
            "zerolinecolor": "white"
           }
          },
          "shapedefaults": {
           "line": {
            "color": "#2a3f5f"
           }
          },
          "ternary": {
           "aaxis": {
            "gridcolor": "white",
            "linecolor": "white",
            "ticks": ""
           },
           "baxis": {
            "gridcolor": "white",
            "linecolor": "white",
            "ticks": ""
           },
           "bgcolor": "#E5ECF6",
           "caxis": {
            "gridcolor": "white",
            "linecolor": "white",
            "ticks": ""
           }
          },
          "title": {
           "x": 0.05
          },
          "xaxis": {
           "automargin": true,
           "gridcolor": "white",
           "linecolor": "white",
           "ticks": "",
           "title": {
            "standoff": 15
           },
           "zerolinecolor": "white",
           "zerolinewidth": 2
          },
          "yaxis": {
           "automargin": true,
           "gridcolor": "white",
           "linecolor": "white",
           "ticks": "",
           "title": {
            "standoff": 15
           },
           "zerolinecolor": "white",
           "zerolinewidth": 2
          }
         }
        },
        "width": 1500,
        "xaxis": {
         "anchor": "y",
         "domain": [
          0,
          0.08200000000000002
         ],
         "title": {
          "text": "Note Pitch"
         }
        },
        "xaxis10": {
         "anchor": "y10",
         "domain": [
          0.9180000000000001,
          1
         ],
         "matches": "x",
         "title": {
          "text": "Note Pitch"
         }
        },
        "xaxis2": {
         "anchor": "y2",
         "domain": [
          0.10200000000000002,
          0.18400000000000005
         ],
         "matches": "x",
         "title": {
          "text": "Note Pitch"
         }
        },
        "xaxis3": {
         "anchor": "y3",
         "domain": [
          0.20400000000000004,
          0.28600000000000003
         ],
         "matches": "x",
         "title": {
          "text": "Note Pitch"
         }
        },
        "xaxis4": {
         "anchor": "y4",
         "domain": [
          0.30600000000000005,
          0.38800000000000007
         ],
         "matches": "x",
         "title": {
          "text": "Note Pitch"
         }
        },
        "xaxis5": {
         "anchor": "y5",
         "domain": [
          0.4080000000000001,
          0.4900000000000001
         ],
         "matches": "x",
         "title": {
          "text": "Note Pitch"
         }
        },
        "xaxis6": {
         "anchor": "y6",
         "domain": [
          0.5100000000000001,
          0.5920000000000001
         ],
         "matches": "x",
         "title": {
          "text": "Note Pitch"
         }
        },
        "xaxis7": {
         "anchor": "y7",
         "domain": [
          0.6120000000000001,
          0.6940000000000002
         ],
         "matches": "x",
         "title": {
          "text": "Note Pitch"
         }
        },
        "xaxis8": {
         "anchor": "y8",
         "domain": [
          0.7140000000000001,
          0.796
         ],
         "matches": "x",
         "title": {
          "text": "Note Pitch"
         }
        },
        "xaxis9": {
         "anchor": "y9",
         "domain": [
          0.8160000000000002,
          0.8980000000000001
         ],
         "matches": "x",
         "title": {
          "text": "Note Pitch"
         }
        },
        "yaxis": {
         "anchor": "x",
         "domain": [
          0,
          1
         ],
         "title": {
          "text": "Note %"
         }
        },
        "yaxis10": {
         "anchor": "x10",
         "domain": [
          0,
          1
         ],
         "matches": "y",
         "showticklabels": false
        },
        "yaxis2": {
         "anchor": "x2",
         "domain": [
          0,
          1
         ],
         "matches": "y",
         "showticklabels": false
        },
        "yaxis3": {
         "anchor": "x3",
         "domain": [
          0,
          1
         ],
         "matches": "y",
         "showticklabels": false
        },
        "yaxis4": {
         "anchor": "x4",
         "domain": [
          0,
          1
         ],
         "matches": "y",
         "showticklabels": false
        },
        "yaxis5": {
         "anchor": "x5",
         "domain": [
          0,
          1
         ],
         "matches": "y",
         "showticklabels": false
        },
        "yaxis6": {
         "anchor": "x6",
         "domain": [
          0,
          1
         ],
         "matches": "y",
         "showticklabels": false
        },
        "yaxis7": {
         "anchor": "x7",
         "domain": [
          0,
          1
         ],
         "matches": "y",
         "showticklabels": false
        },
        "yaxis8": {
         "anchor": "x8",
         "domain": [
          0,
          1
         ],
         "matches": "y",
         "showticklabels": false
        },
        "yaxis9": {
         "anchor": "x9",
         "domain": [
          0,
          1
         ],
         "matches": "y",
         "showticklabels": false
        }
       }
      },
      "text/html": [
       "<div>                            <div id=\"84dfcc2e-d066-4cf9-882f-df1be104fd5c\" class=\"plotly-graph-div\" style=\"height:1500px; width:1500px;\"></div>            <script type=\"text/javascript\">                require([\"plotly\"], function(Plotly) {                    window.PLOTLYENV=window.PLOTLYENV || {};                                    if (document.getElementById(\"84dfcc2e-d066-4cf9-882f-df1be104fd5c\")) {                    Plotly.newPlot(                        \"84dfcc2e-d066-4cf9-882f-df1be104fd5c\",                        [{\"alignmentgroup\":\"True\",\"hovertemplate\":\"Composer=Bach<br>Note Pitch=%{x}<br>Note %=%{y}<br>Note Octave=%{marker.color}<extra></extra>\",\"legendgroup\":\"\",\"marker\":{\"color\":[3,4,5,6,7,3,4,5,6,2,3,4,5,6,3,4,5,6,7,3,4,5,6,7,3,4,5,6,7,3,4,5,6,7,3,4,5,6,7,3,4,5,6,7,3,4,5,6,3,4,5,6,7,3,4,5,6,7],\"coloraxis\":\"coloraxis\",\"pattern\":{\"shape\":\"\"}},\"name\":\"\",\"offsetgroup\":\"\",\"orientation\":\"v\",\"showlegend\":false,\"textposition\":\"auto\",\"x\":[\"A\",\"A\",\"A\",\"A\",\"A\",\"A#\",\"A#\",\"A#\",\"A#\",\"B\",\"B\",\"B\",\"B\",\"B\",\"C\",\"C\",\"C\",\"C\",\"C\",\"C#\",\"C#\",\"C#\",\"C#\",\"C#\",\"D\",\"D\",\"D\",\"D\",\"D\",\"D#\",\"D#\",\"D#\",\"D#\",\"D#\",\"E\",\"E\",\"E\",\"E\",\"E\",\"F\",\"F\",\"F\",\"F\",\"F\",\"F#\",\"F#\",\"F#\",\"F#\",\"G\",\"G\",\"G\",\"G\",\"G\",\"G#\",\"G#\",\"G#\",\"G#\",\"G#\"],\"xaxis\":\"x\",\"y\":[0.96533707149229,3.061679622785778,3.4583280234484515,1.7172167707404102,0.0015929654645087294,1.1628647890913726,2.6825538422327004,2.7940614247483113,0.7024977698483497,0.003185930929017459,1.3444628520453676,2.601312603542755,3.659041671976552,0.9541863132407289,0.15292468459283803,1.878106282655792,3.338855613610297,3.20982541098509,0.36319612590799033,0.05097489486427934,1.2409200968523002,1.860583662546196,3.3611571301134195,0.17522620109596024,0.17044730470243405,3.174780170765898,3.1349560341531792,3.913916146297948,0.14177392634127692,0.24531668153434436,2.4595386772014782,2.230151650312221,2.343252198292341,0.017522620109596022,0.2325729578182745,2.518478399388301,2.378297438511533,3.518860711099783,0.07964827322543647,0.3679750223015165,3.1923027908754937,2.367146680259972,1.8860711099783358,0.007964827322543647,0.32815088568879824,2.190327513699503,2.6172422581878423,2.566267363323563,1.183573340129986,3.7593984962406015,2.8896393526188353,2.109086275009558,0.0015929654645087294,0.7040907353128585,2.6538804638715434,2.5280361921753536,1.3460558175098765,0.0015929654645087294],\"yaxis\":\"y\",\"type\":\"bar\"},{\"alignmentgroup\":\"True\",\"hovertemplate\":\"Composer=Beethoven<br>Note Pitch=%{x}<br>Note %=%{y}<br>Note Octave=%{marker.color}<extra></extra>\",\"legendgroup\":\"\",\"marker\":{\"color\":[2,3,4,5,6,7,2,3,4,5,6,7,2,3,4,5,6,7,2,3,4,5,6,7,8,2,3,4,5,6,7,8,2,3,4,5,6,7,8,2,3,4,5,6,7,8,2,3,4,5,6,7,8,2,3,4,5,6,7,8,2,3,4,5,6,7,2,3,4,5,6,7,2,3,4,5,6,7],\"coloraxis\":\"coloraxis\",\"pattern\":{\"shape\":\"\"}},\"name\":\"\",\"offsetgroup\":\"\",\"orientation\":\"v\",\"showlegend\":false,\"textposition\":\"auto\",\"x\":[\"A\",\"A\",\"A\",\"A\",\"A\",\"A\",\"A#\",\"A#\",\"A#\",\"A#\",\"A#\",\"A#\",\"B\",\"B\",\"B\",\"B\",\"B\",\"B\",\"C\",\"C\",\"C\",\"C\",\"C\",\"C\",\"C\",\"C#\",\"C#\",\"C#\",\"C#\",\"C#\",\"C#\",\"C#\",\"D\",\"D\",\"D\",\"D\",\"D\",\"D\",\"D\",\"D#\",\"D#\",\"D#\",\"D#\",\"D#\",\"D#\",\"D#\",\"E\",\"E\",\"E\",\"E\",\"E\",\"E\",\"E\",\"F\",\"F\",\"F\",\"F\",\"F\",\"F\",\"F\",\"F#\",\"F#\",\"F#\",\"F#\",\"F#\",\"F#\",\"G\",\"G\",\"G\",\"G\",\"G\",\"G\",\"G#\",\"G#\",\"G#\",\"G#\",\"G#\",\"G#\"],\"xaxis\":\"x2\",\"y\":[0.27024210513301034,1.2644857716648503,2.79426804130995,2.8765770746380435,1.874914997377062,0.11427885099415534,0.2967364291656584,1.3533300715876635,2.7935615260024127,2.1569912339113215,1.1482640035749674,0.04380394906731148,0.3103368488357511,1.2812655102188608,2.50318373460459,2.4350050074272422,1.3172977909032622,0.03232307531983065,0.0015896594419588842,0.7102245129018527,1.9506887641104353,3.3100242158121658,3.03995873950604,1.408261636748687,0.029673642916565837,0.000706515307537282,0.3829312966852068,1.0463491704627146,1.861667835360738,1.7247804945253895,0.7125206876513488,0.004592349498992333,0.0024728035763804867,0.5782827792192653,2.0026176392144257,3.2748750792621864,3.023532258605798,1.100044333835548,0.007418410729141459,0.013953677323861319,0.6521136288569113,1.9980252897154334,2.645016682592699,2.115306830766622,0.5403075814391364,0.002826061230149128,0.010244471959290588,0.6975072373661816,2.1679422211781496,3.042078285428652,2.5040668787390112,0.741841072914146,0.004415720672108012,0.11427885099415534,0.8319217746251495,2.1119508830558202,2.822352024784557,2.1200758090924987,0.44015903659572664,0.0012364017881902434,0.06658906773538882,0.532359284229342,1.359688709355499,1.835703397808743,1.3058169171557812,0.16408818017553373,0.2776605158621518,1.4487096381051965,3.156357136422807,3.405227153502815,2.450901601846831,0.23933206042825425,0.24533744054232115,0.9968930989351048,2.216161890917569,2.226053105223091,1.3580990499135404,0.09732248361326058],\"yaxis\":\"y2\",\"type\":\"bar\"},{\"alignmentgroup\":\"True\",\"hovertemplate\":\"Composer=Brahms<br>Note Pitch=%{x}<br>Note %=%{y}<br>Note Octave=%{marker.color}<extra></extra>\",\"legendgroup\":\"\",\"marker\":{\"color\":[2,3,4,5,6,7,2,3,4,5,6,7,1,2,3,4,5,6,7,2,3,4,5,6,7,8,2,3,4,5,6,7,8,2,3,4,5,6,7,8,2,3,4,5,6,7,8,2,3,4,5,6,7,8,2,3,4,5,6,7,2,3,4,5,6,7,8,2,3,4,5,6,7,8,2,3,4,5,6,7],\"coloraxis\":\"coloraxis\",\"pattern\":{\"shape\":\"\"}},\"name\":\"\",\"offsetgroup\":\"\",\"orientation\":\"v\",\"showlegend\":false,\"textposition\":\"auto\",\"x\":[\"A\",\"A\",\"A\",\"A\",\"A\",\"A\",\"A#\",\"A#\",\"A#\",\"A#\",\"A#\",\"A#\",\"B\",\"B\",\"B\",\"B\",\"B\",\"B\",\"B\",\"C\",\"C\",\"C\",\"C\",\"C\",\"C\",\"C\",\"C#\",\"C#\",\"C#\",\"C#\",\"C#\",\"C#\",\"C#\",\"D\",\"D\",\"D\",\"D\",\"D\",\"D\",\"D\",\"D#\",\"D#\",\"D#\",\"D#\",\"D#\",\"D#\",\"D#\",\"E\",\"E\",\"E\",\"E\",\"E\",\"E\",\"E\",\"F\",\"F\",\"F\",\"F\",\"F\",\"F\",\"F#\",\"F#\",\"F#\",\"F#\",\"F#\",\"F#\",\"F#\",\"G\",\"G\",\"G\",\"G\",\"G\",\"G\",\"G\",\"G#\",\"G#\",\"G#\",\"G#\",\"G#\",\"G#\"],\"xaxis\":\"x3\",\"y\":[0.1940879005906034,1.071274232556729,2.7293611020553605,3.502680080971046,1.595159932979022,0.1584545750915473,0.3987899832447555,1.3677131744744084,2.6308008400366947,2.8862993654235436,1.2047096642127688,0.07429927444484037,0.0022744675850461336,0.29871340950272557,1.0159288546539398,1.868096043184558,2.187279660952699,0.8188083306166081,0.04624750756260472,0.012888649648594758,1.0015238932819808,1.8294300942387736,3.3260297651991295,3.352565220358001,1.0970515318539185,0.03335885791400996,0.007581558616820446,0.2797595129606745,0.8354877595736131,1.8605144845677375,1.6050159591808884,0.41167863289335016,0.01667942895700498,0.0833971447850249,0.7937891871811006,2.105398827891038,4.232784175770854,3.4549162616850775,1.0424643098128112,0.020470208265415204,0.08870423581679922,0.8241154216483825,1.428365643408972,2.738458972395545,1.9151017066088447,0.476121881136324,0.0060652468934563565,0.059894313072881525,0.5640679610914412,1.4738549951098947,2.9477099902197894,2.2115406485265243,0.5034154921568776,0.005307091031774312,0.15087301647472687,1.0796139470352315,2.120561945124679,3.464772287886944,2.2115406485265243,0.43290699702044744,0.12433756131585531,0.6542885086316045,1.3282890696669423,2.3464923919059277,1.4147188378986952,0.2683871750354438,0.006823402755138401,0.21000917368592634,1.6512634667434931,3.091001448077696,4.305567138492331,2.4738625766685116,0.3957573597980273,0.00985602620186658,0.15238932819809098,0.680823963790476,1.4950833592369919,2.142548465113458,0.9651324119212428,0.12661202890090145],\"yaxis\":\"y3\",\"type\":\"bar\"},{\"alignmentgroup\":\"True\",\"hovertemplate\":\"Composer=Cambini<br>Note Pitch=%{x}<br>Note %=%{y}<br>Note Octave=%{marker.color}<extra></extra>\",\"legendgroup\":\"\",\"marker\":{\"color\":[3,4,5,6,3,4,5,6,3,4,5,6,3,4,5,6,7,4,5,6,7,3,4,5,6,7,3,4,5,6,7,3,4,5,6,7,3,4,5,6,7,4,5,6,7,3,4,5,6,7,3,4,5,6],\"coloraxis\":\"coloraxis\",\"pattern\":{\"shape\":\"\"}},\"name\":\"\",\"offsetgroup\":\"\",\"orientation\":\"v\",\"showlegend\":false,\"textposition\":\"auto\",\"x\":[\"A\",\"A\",\"A\",\"A\",\"A#\",\"A#\",\"A#\",\"A#\",\"B\",\"B\",\"B\",\"B\",\"C\",\"C\",\"C\",\"C\",\"C\",\"C#\",\"C#\",\"C#\",\"C#\",\"D\",\"D\",\"D\",\"D\",\"D\",\"D#\",\"D#\",\"D#\",\"D#\",\"D#\",\"E\",\"E\",\"E\",\"E\",\"E\",\"F\",\"F\",\"F\",\"F\",\"F\",\"F#\",\"F#\",\"F#\",\"F#\",\"G\",\"G\",\"G\",\"G\",\"G\",\"G#\",\"G#\",\"G#\",\"G#\"],\"xaxis\":\"x4\",\"y\":[0.5922643029814666,2.514101531023368,5.346494762288477,5.302175664786462,1.5189363416599515,2.860596293311845,5.459307010475423,3.0056406124093473,0.14101531023368252,0.3706688154713941,0.838033843674456,0.3988718775181305,0.008058017727639002,1.2933118452860597,3.2352941176470593,5.688960515713134,1.9057211925866235,0.209508460918614,0.24174053182917005,1.0676873489121674,0.3021756647864625,0.18130539887187752,1.3174858984689766,2.199838839645447,6.69621273166801,1.1361804995970992,0.09669621273166801,0.7775987107171636,1.4625302175664787,2.3368251410153102,0.23368251410153104,0.020145044319097503,0.7332796132151491,1.2288477034649476,4.508460918614022,0.11684125705076552,0.628525382755842,2.5221595487510076,6.958098307816277,7.534246575342466,0.12087026591458502,0.3263497179693795,0.23771152296535053,1.0072522159548751,0.012087026591458501,0.33440773569701854,2.1958098307816276,5.157131345688961,6.1804995970991135,0.024174053182917002,0.12489927477840451,0.30620467365028203,0.43513295729250606,0.547945205479452],\"yaxis\":\"y4\",\"type\":\"bar\"},{\"alignmentgroup\":\"True\",\"hovertemplate\":\"Composer=Dvorak<br>Note Pitch=%{x}<br>Note %=%{y}<br>Note Octave=%{marker.color}<extra></extra>\",\"legendgroup\":\"\",\"marker\":{\"color\":[3,4,5,6,7,3,4,5,6,7,3,4,5,6,7,3,4,5,6,7,8,3,4,5,6,7,3,4,5,6,7,3,4,5,6,7,3,4,5,6,7,3,4,5,6,7,3,4,5,6,7,3,4,5,6,7,3,4,5,6,7],\"coloraxis\":\"coloraxis\",\"pattern\":{\"shape\":\"\"}},\"name\":\"\",\"offsetgroup\":\"\",\"orientation\":\"v\",\"showlegend\":false,\"textposition\":\"auto\",\"x\":[\"A\",\"A\",\"A\",\"A\",\"A\",\"A#\",\"A#\",\"A#\",\"A#\",\"A#\",\"B\",\"B\",\"B\",\"B\",\"B\",\"C\",\"C\",\"C\",\"C\",\"C\",\"C\",\"C#\",\"C#\",\"C#\",\"C#\",\"C#\",\"D\",\"D\",\"D\",\"D\",\"D\",\"D#\",\"D#\",\"D#\",\"D#\",\"D#\",\"E\",\"E\",\"E\",\"E\",\"E\",\"F\",\"F\",\"F\",\"F\",\"F\",\"F#\",\"F#\",\"F#\",\"F#\",\"F#\",\"G\",\"G\",\"G\",\"G\",\"G\",\"G#\",\"G#\",\"G#\",\"G#\",\"G#\"],\"xaxis\":\"x5\",\"y\":[0.6549596582819175,3.4646416706217367,3.281126404049992,1.2592944154405947,0.120234140167695,1.8414807783578548,3.7082740072773297,3.2178452776459423,1.5662078785002371,0.0601170700838475,0.42714760322733747,1.271950640721405,1.2118335706375574,0.5885144755576649,0.012656225280809999,0.37968675842429994,1.8414807783578548,4.629014396456257,3.6323366555924697,1.8035121025154248,0.028476506881822496,0.1740230976111375,0.7308970099667774,1.1200759373516849,0.9492168960607499,0.35437430786268,0.4841006169909824,2.9077677582660972,4.4803037494067395,3.7462426831197595,1.335231767125455,0.6581237146021199,1.9775352001265623,3.1292517006802725,2.1483942414174972,0.6707799398829299,0.38917892738490745,0.8068343616516375,1.3289036544850499,1.0852713178294573,0.23414016769498497,1.7528872013921848,4.255655750672362,5.897800980857459,3.515266571744977,0.7435532352475874,0.1487106470495175,0.5410536307546274,1.158044613194115,0.6169909824394874,0.10441385856668249,1.0884353741496597,3.913937668090492,4.03733586457839,2.0566366081316247,0.33222591362126247,0.6929283341243474,2.2623002689447875,2.0629647207720296,1.0219901914254073,0.0854295206454675],\"yaxis\":\"y5\",\"type\":\"bar\"},{\"alignmentgroup\":\"True\",\"hovertemplate\":\"Composer=Faure<br>Note Pitch=%{x}<br>Note %=%{y}<br>Note Octave=%{marker.color}<extra></extra>\",\"legendgroup\":\"\",\"marker\":{\"color\":[1,2,3,4,5,6,7,2,3,4,5,6,7,1,2,3,4,5,6,7,2,3,4,5,6,7,8,2,3,4,5,6,7,8,2,3,4,5,6,7,8,2,3,4,5,6,7,8,2,3,4,5,6,7,8,2,3,4,5,6,7,8,2,3,4,5,6,7,2,3,4,5,6,7,8,2,3,4,5,6,7,8],\"coloraxis\":\"coloraxis\",\"pattern\":{\"shape\":\"\"}},\"name\":\"\",\"offsetgroup\":\"\",\"orientation\":\"v\",\"showlegend\":false,\"textposition\":\"auto\",\"x\":[\"A\",\"A\",\"A\",\"A\",\"A\",\"A\",\"A\",\"A#\",\"A#\",\"A#\",\"A#\",\"A#\",\"A#\",\"B\",\"B\",\"B\",\"B\",\"B\",\"B\",\"B\",\"C\",\"C\",\"C\",\"C\",\"C\",\"C\",\"C\",\"C#\",\"C#\",\"C#\",\"C#\",\"C#\",\"C#\",\"C#\",\"D\",\"D\",\"D\",\"D\",\"D\",\"D\",\"D\",\"D#\",\"D#\",\"D#\",\"D#\",\"D#\",\"D#\",\"D#\",\"E\",\"E\",\"E\",\"E\",\"E\",\"E\",\"E\",\"F\",\"F\",\"F\",\"F\",\"F\",\"F\",\"F\",\"F#\",\"F#\",\"F#\",\"F#\",\"F#\",\"F#\",\"G\",\"G\",\"G\",\"G\",\"G\",\"G\",\"G\",\"G#\",\"G#\",\"G#\",\"G#\",\"G#\",\"G#\",\"G#\"],\"xaxis\":\"x6\",\"y\":[0.00447447313078885,0.4608707324712515,1.0515011857353798,2.7249541366504095,2.4206899637567676,0.9709606693811804,0.1252852476620878,0.37138126985547454,1.0291288200814355,3.879368204393933,2.434113383149134,0.9127925186809253,0.12081077453129895,0.0178978925231554,0.2729428609781198,1.0380777663430132,3.3379569555684814,2.613092308380688,0.8501498948498813,0.040270258177099644,0.02237236565394425,0.4832430981251958,1.306546154190344,3.154503557206139,2.026936328247349,0.7785583247572598,0.0715915700926216,0.0089489462615777,0.23714707593180903,0.6980178084030606,2.0000894894626158,1.1723119602666785,0.5145644100407177,0.0089489462615777,0.21477471027786477,1.4273569287216432,2.196966307217325,6.188196339880979,3.3334824824376925,0.7964562172804153,0.040270258177099644,0.17450445210076515,0.7472370128417379,2.3177770817486243,4.1612600116336305,1.7987381985771176,0.536936775694662,0.0178978925231554,0.23267260280102017,0.6890688621414829,1.3870866705445435,2.6041433621191103,1.100720390174057,0.3490089042015303,0.00447447313078885,0.1700299789699763,0.7517114859725268,1.7002997896997627,3.0336927826748403,1.3289185198442883,0.4206004742941518,0.013423419392366548,0.19240234462392053,0.7696093784956821,1.8927021343236834,2.639939147165421,1.0828224976509018,0.24609602219338675,0.3803302161170522,1.2036332721822005,4.3849836681730725,4.367085775649917,1.5257953375989977,0.30426417289364177,0.0089489462615777,0.10738735513893238,0.6711709696183275,1.9866660700702494,2.2238131460020583,0.9306904112040807,0.178978925231554,0.00447447313078885],\"yaxis\":\"y6\",\"type\":\"bar\"},{\"alignmentgroup\":\"True\",\"hovertemplate\":\"Composer=Haydn<br>Note Pitch=%{x}<br>Note %=%{y}<br>Note Octave=%{marker.color}<extra></extra>\",\"legendgroup\":\"\",\"marker\":{\"color\":[3,4,5,6,3,4,5,6,3,4,5,6,3,4,5,6,7,3,4,5,6,7,3,4,5,6,7,3,4,5,6,7,3,4,5,6,7,3,4,5,6,3,4,5,6,7,3,4,5,6,7,3,4,5,6],\"coloraxis\":\"coloraxis\",\"pattern\":{\"shape\":\"\"}},\"name\":\"\",\"offsetgroup\":\"\",\"orientation\":\"v\",\"showlegend\":false,\"textposition\":\"auto\",\"x\":[\"A\",\"A\",\"A\",\"A\",\"A#\",\"A#\",\"A#\",\"A#\",\"B\",\"B\",\"B\",\"B\",\"C\",\"C\",\"C\",\"C\",\"C\",\"C#\",\"C#\",\"C#\",\"C#\",\"C#\",\"D\",\"D\",\"D\",\"D\",\"D\",\"D#\",\"D#\",\"D#\",\"D#\",\"D#\",\"E\",\"E\",\"E\",\"E\",\"E\",\"F\",\"F\",\"F\",\"F\",\"F#\",\"F#\",\"F#\",\"F#\",\"F#\",\"G\",\"G\",\"G\",\"G\",\"G\",\"G#\",\"G#\",\"G#\",\"G#\"],\"xaxis\":\"x7\",\"y\":[2.097902097902098,4.020979020979021,6.563890654799747,3.3693579148124604,0.4291163382072473,0.6675143038779402,0.7151938970120788,0.3337571519389701,0.5562619198982834,2.638270820089002,3.9574062301335027,1.1443102352193262,0.04767959313413859,0.3337571519389701,1.1919898283534647,1.2078830260648443,0.17482517482517482,0.12714558169103624,0.9694850603941513,2.590591226954863,3.9415130324221233,0.8423394787031151,0.7628734901462174,2.70184361093452,5.801017164653528,5.292434837889384,1.048951048951049,0.09535918626827718,0.270184361093452,0.6675143038779402,0.7946598855689765,0.11125238397965671,0.6198347107438017,2.5588048315321044,6.516211061665607,5.308328035600763,0.8264462809917356,0.34965034965034963,1.0648442466624286,1.4144945963127782,1.1760966306420853,0.5721551176096631,1.5734265734265735,5.244755244755245,3.337571519389701,0.39732994278448824,0.6993006993006993,2.256834075015893,3.9732994278448825,2.161474888747616,0.07946598855689765,0.22250476795931343,1.2555626191989828,1.621106166560712,1.3032422123331213],\"yaxis\":\"y7\",\"type\":\"bar\"},{\"alignmentgroup\":\"True\",\"hovertemplate\":\"Composer=Mozart<br>Note Pitch=%{x}<br>Note %=%{y}<br>Note Octave=%{marker.color}<extra></extra>\",\"legendgroup\":\"\",\"marker\":{\"color\":[2,3,4,5,6,7,2,3,4,5,6,2,3,4,5,6,3,4,5,6,7,3,4,5,6,7,3,4,5,6,7,3,4,5,6,7,3,4,5,6,7,2,3,4,5,6,7,3,4,5,6,7,2,3,4,5,6,7,2,3,4,5,6],\"coloraxis\":\"coloraxis\",\"pattern\":{\"shape\":\"\"}},\"name\":\"\",\"offsetgroup\":\"\",\"orientation\":\"v\",\"showlegend\":false,\"textposition\":\"auto\",\"x\":[\"A\",\"A\",\"A\",\"A\",\"A\",\"A\",\"A#\",\"A#\",\"A#\",\"A#\",\"A#\",\"B\",\"B\",\"B\",\"B\",\"B\",\"C\",\"C\",\"C\",\"C\",\"C\",\"C#\",\"C#\",\"C#\",\"C#\",\"C#\",\"D\",\"D\",\"D\",\"D\",\"D\",\"D#\",\"D#\",\"D#\",\"D#\",\"D#\",\"E\",\"E\",\"E\",\"E\",\"E\",\"F\",\"F\",\"F\",\"F\",\"F\",\"F\",\"F#\",\"F#\",\"F#\",\"F#\",\"F#\",\"G\",\"G\",\"G\",\"G\",\"G\",\"G\",\"G#\",\"G#\",\"G#\",\"G#\",\"G#\"],\"xaxis\":\"x8\",\"y\":[0.009219017516133281,0.8191755564335571,3.3306993283287243,4.851837218490715,2.3034373765310154,0.002634005004609509,0.06585012511523772,0.7164493612537863,2.1625181087844068,2.049255893586198,0.879757671539576,0.025023047543790335,0.7269853812722245,2.7683392598445935,3.7521401290662455,1.082576056894508,0.25418148294481757,1.7134202554984854,3.67311997892796,3.760042144080074,1.243250362175688,0.02634005004609509,0.44646384828131175,2.0031608060055315,2.0940339786645596,0.32925062557618856,0.2752535229816937,1.5369419201896484,4.887396286052943,4.422494402739365,0.6466482286316344,0.21335440537337022,0.8283945739496905,2.365336494139339,1.642302120374029,0.1672593177927038,0.4530488607928355,1.741077308046885,4.966416436191229,3.64546292637956,0.18042934281575135,0.002634005004609509,0.5742130910048728,1.5158698801527724,3.779797181614645,2.4087975767153957,0.09087317265902806,0.22915843540102726,0.8876596865534044,2.3666534966416437,1.7661003555906756,0.014487027525352298,0.015804030027657054,1.1997892795996312,3.1397339654945347,4.764915053338601,2.934281575134993,0.028974055050704595,0.0065850125115237725,0.375345713156855,1.1997892795996312,2.392993546687739,1.244567364677993],\"yaxis\":\"y8\",\"type\":\"bar\"},{\"alignmentgroup\":\"True\",\"hovertemplate\":\"Composer=Ravel<br>Note Pitch=%{x}<br>Note %=%{y}<br>Note Octave=%{marker.color}<extra></extra>\",\"legendgroup\":\"\",\"marker\":{\"color\":[3,4,5,6,7,3,4,5,6,7,3,4,5,6,3,4,5,6,7,3,4,5,6,7,3,4,5,6,7,3,4,5,6,7,3,4,5,6,7,3,4,5,6,7,3,4,5,6,7,3,4,5,6,7,3,4,5,6,7],\"coloraxis\":\"coloraxis\",\"pattern\":{\"shape\":\"\"}},\"name\":\"\",\"offsetgroup\":\"\",\"orientation\":\"v\",\"showlegend\":false,\"textposition\":\"auto\",\"x\":[\"A\",\"A\",\"A\",\"A\",\"A\",\"A#\",\"A#\",\"A#\",\"A#\",\"A#\",\"B\",\"B\",\"B\",\"B\",\"C\",\"C\",\"C\",\"C\",\"C\",\"C#\",\"C#\",\"C#\",\"C#\",\"C#\",\"D\",\"D\",\"D\",\"D\",\"D\",\"D#\",\"D#\",\"D#\",\"D#\",\"D#\",\"E\",\"E\",\"E\",\"E\",\"E\",\"F\",\"F\",\"F\",\"F\",\"F\",\"F#\",\"F#\",\"F#\",\"F#\",\"F#\",\"G\",\"G\",\"G\",\"G\",\"G\",\"G#\",\"G#\",\"G#\",\"G#\",\"G#\"],\"xaxis\":\"x9\",\"y\":[0.7901958928740418,3.198637266963187,5.465127283051007,1.547269802214441,0.2460490205356298,0.5961957036055645,4.130784517838554,3.742784139301599,0.8659032838080817,0.018926847733509982,0.3548783950033122,3.170246995362922,2.318538847354973,0.629317687139207,0.38326866660357717,0.9605375224756317,2.7775149048925902,2.053562979085833,0.7050250780732469,0.3359515472698022,0.7239519258067569,3.4304911516986842,2.394246238289013,0.610390839405697,0.7097567900066244,1.059903473076559,4.409955521907826,1.821709094350336,0.7712690451405319,0.18453676540172234,0.6529762468060945,2.9715150941610675,1.6135137692817263,0.534683448471657,0.2791710040692723,1.9967824358853032,4.7648339169111384,3.316930065297625,1.0835620327434465,0.4211223620705971,1.6324406170152361,4.840541307845178,2.2286363206208004,0.41639065013721965,0.572537143938677,0.8185861644743069,3.1371250118292795,1.670294312482256,0.44951263367086214,0.8375130122078168,3.009368789628087,2.56931957982398,1.5046843948140436,0.13721964606794737,0.4069272262704647,3.6765401722343145,2.96678338222769,1.0788303208100691,0.0047317119333774955],\"yaxis\":\"y9\",\"type\":\"bar\"},{\"alignmentgroup\":\"True\",\"hovertemplate\":\"Composer=Schubert<br>Note Pitch=%{x}<br>Note %=%{y}<br>Note Octave=%{marker.color}<extra></extra>\",\"legendgroup\":\"\",\"marker\":{\"color\":[2,3,4,5,6,7,2,3,4,5,6,7,2,3,4,5,6,7,2,3,4,5,6,7,8,3,4,5,6,7,8,2,3,4,5,6,7,8,2,3,4,5,6,7,8,2,3,4,5,6,7,8,2,3,4,5,6,7,8,2,3,4,5,6,7,8,2,3,4,5,6,7,2,3,4,5,6,7,8],\"coloraxis\":\"coloraxis\",\"pattern\":{\"shape\":\"\"}},\"name\":\"\",\"offsetgroup\":\"\",\"orientation\":\"v\",\"showlegend\":false,\"textposition\":\"auto\",\"x\":[\"A\",\"A\",\"A\",\"A\",\"A\",\"A\",\"A#\",\"A#\",\"A#\",\"A#\",\"A#\",\"A#\",\"B\",\"B\",\"B\",\"B\",\"B\",\"B\",\"C\",\"C\",\"C\",\"C\",\"C\",\"C\",\"C\",\"C#\",\"C#\",\"C#\",\"C#\",\"C#\",\"C#\",\"D\",\"D\",\"D\",\"D\",\"D\",\"D\",\"D\",\"D#\",\"D#\",\"D#\",\"D#\",\"D#\",\"D#\",\"D#\",\"E\",\"E\",\"E\",\"E\",\"E\",\"E\",\"E\",\"F\",\"F\",\"F\",\"F\",\"F\",\"F\",\"F\",\"F#\",\"F#\",\"F#\",\"F#\",\"F#\",\"F#\",\"F#\",\"G\",\"G\",\"G\",\"G\",\"G\",\"G\",\"G#\",\"G#\",\"G#\",\"G#\",\"G#\",\"G#\",\"G#\"],\"xaxis\":\"x10\",\"y\":[0.3956991594804061,1.5091147254666522,3.288396463268202,3.519675799585198,1.9341502019430195,0.29472764981988864,0.2346905359676891,1.1147800458465233,2.3919331950660405,2.376923916602991,1.1400229232616526,0.1575974238620238,0.24014845540879817,0.9974347778626788,1.919823163410108,2.1763453771422334,1.1993777971837136,0.12553214714550814,0.012280318742495362,0.4878015500491213,1.820216133609868,3.5285449186770004,3.039378888767602,1.2143870756467634,0.1384947058181421,0.36363388276389036,1.4026852963650256,2.5645398973911147,2.3114288833096825,0.9237528654077065,0.06958847287414038,0.01842047811374304,0.5410162645999345,1.820216133609868,3.471919004475494,3.0516592075100974,1.0445093330422444,0.05662591420150638,0.0020467197904158936,0.32269948695557255,1.55004912127497,2.2998308044973257,1.8686551686497108,0.4823436306080123,0.030700796856238402,0.014327038532911254,0.7688844012662374,2.0712804279008843,3.079631044645781,2.5242877415129352,0.7354546446894444,0.028654077065822507,0.12757886693592402,0.7838936797292871,2.1483735400065496,3.1812847942364373,2.2370647309245717,0.4789324309573191,0.01773823818360441,0.09346687042899247,0.639941054470036,1.3863115380416984,2.1797565767929266,1.4804606484008296,0.301550049121275,0.0013644798602772622,0.20057853946075757,1.017219735836699,2.5665866171815304,3.213350070952953,1.9334679620128807,0.403203798711931,0.16373758323327148,0.8002674380526144,1.9102718043881675,2.388521995415348,1.4511243314048685,0.21627005785394607,0.0013644798602772622],\"yaxis\":\"y10\",\"type\":\"bar\"}],                        {\"template\":{\"data\":{\"histogram2dcontour\":[{\"type\":\"histogram2dcontour\",\"colorbar\":{\"outlinewidth\":0,\"ticks\":\"\"},\"colorscale\":[[0.0,\"#0d0887\"],[0.1111111111111111,\"#46039f\"],[0.2222222222222222,\"#7201a8\"],[0.3333333333333333,\"#9c179e\"],[0.4444444444444444,\"#bd3786\"],[0.5555555555555556,\"#d8576b\"],[0.6666666666666666,\"#ed7953\"],[0.7777777777777778,\"#fb9f3a\"],[0.8888888888888888,\"#fdca26\"],[1.0,\"#f0f921\"]]}],\"choropleth\":[{\"type\":\"choropleth\",\"colorbar\":{\"outlinewidth\":0,\"ticks\":\"\"}}],\"histogram2d\":[{\"type\":\"histogram2d\",\"colorbar\":{\"outlinewidth\":0,\"ticks\":\"\"},\"colorscale\":[[0.0,\"#0d0887\"],[0.1111111111111111,\"#46039f\"],[0.2222222222222222,\"#7201a8\"],[0.3333333333333333,\"#9c179e\"],[0.4444444444444444,\"#bd3786\"],[0.5555555555555556,\"#d8576b\"],[0.6666666666666666,\"#ed7953\"],[0.7777777777777778,\"#fb9f3a\"],[0.8888888888888888,\"#fdca26\"],[1.0,\"#f0f921\"]]}],\"heatmap\":[{\"type\":\"heatmap\",\"colorbar\":{\"outlinewidth\":0,\"ticks\":\"\"},\"colorscale\":[[0.0,\"#0d0887\"],[0.1111111111111111,\"#46039f\"],[0.2222222222222222,\"#7201a8\"],[0.3333333333333333,\"#9c179e\"],[0.4444444444444444,\"#bd3786\"],[0.5555555555555556,\"#d8576b\"],[0.6666666666666666,\"#ed7953\"],[0.7777777777777778,\"#fb9f3a\"],[0.8888888888888888,\"#fdca26\"],[1.0,\"#f0f921\"]]}],\"heatmapgl\":[{\"type\":\"heatmapgl\",\"colorbar\":{\"outlinewidth\":0,\"ticks\":\"\"},\"colorscale\":[[0.0,\"#0d0887\"],[0.1111111111111111,\"#46039f\"],[0.2222222222222222,\"#7201a8\"],[0.3333333333333333,\"#9c179e\"],[0.4444444444444444,\"#bd3786\"],[0.5555555555555556,\"#d8576b\"],[0.6666666666666666,\"#ed7953\"],[0.7777777777777778,\"#fb9f3a\"],[0.8888888888888888,\"#fdca26\"],[1.0,\"#f0f921\"]]}],\"contourcarpet\":[{\"type\":\"contourcarpet\",\"colorbar\":{\"outlinewidth\":0,\"ticks\":\"\"}}],\"contour\":[{\"type\":\"contour\",\"colorbar\":{\"outlinewidth\":0,\"ticks\":\"\"},\"colorscale\":[[0.0,\"#0d0887\"],[0.1111111111111111,\"#46039f\"],[0.2222222222222222,\"#7201a8\"],[0.3333333333333333,\"#9c179e\"],[0.4444444444444444,\"#bd3786\"],[0.5555555555555556,\"#d8576b\"],[0.6666666666666666,\"#ed7953\"],[0.7777777777777778,\"#fb9f3a\"],[0.8888888888888888,\"#fdca26\"],[1.0,\"#f0f921\"]]}],\"surface\":[{\"type\":\"surface\",\"colorbar\":{\"outlinewidth\":0,\"ticks\":\"\"},\"colorscale\":[[0.0,\"#0d0887\"],[0.1111111111111111,\"#46039f\"],[0.2222222222222222,\"#7201a8\"],[0.3333333333333333,\"#9c179e\"],[0.4444444444444444,\"#bd3786\"],[0.5555555555555556,\"#d8576b\"],[0.6666666666666666,\"#ed7953\"],[0.7777777777777778,\"#fb9f3a\"],[0.8888888888888888,\"#fdca26\"],[1.0,\"#f0f921\"]]}],\"mesh3d\":[{\"type\":\"mesh3d\",\"colorbar\":{\"outlinewidth\":0,\"ticks\":\"\"}}],\"scatter\":[{\"fillpattern\":{\"fillmode\":\"overlay\",\"size\":10,\"solidity\":0.2},\"type\":\"scatter\"}],\"parcoords\":[{\"type\":\"parcoords\",\"line\":{\"colorbar\":{\"outlinewidth\":0,\"ticks\":\"\"}}}],\"scatterpolargl\":[{\"type\":\"scatterpolargl\",\"marker\":{\"colorbar\":{\"outlinewidth\":0,\"ticks\":\"\"}}}],\"bar\":[{\"error_x\":{\"color\":\"#2a3f5f\"},\"error_y\":{\"color\":\"#2a3f5f\"},\"marker\":{\"line\":{\"color\":\"#E5ECF6\",\"width\":0.5},\"pattern\":{\"fillmode\":\"overlay\",\"size\":10,\"solidity\":0.2}},\"type\":\"bar\"}],\"scattergeo\":[{\"type\":\"scattergeo\",\"marker\":{\"colorbar\":{\"outlinewidth\":0,\"ticks\":\"\"}}}],\"scatterpolar\":[{\"type\":\"scatterpolar\",\"marker\":{\"colorbar\":{\"outlinewidth\":0,\"ticks\":\"\"}}}],\"histogram\":[{\"marker\":{\"pattern\":{\"fillmode\":\"overlay\",\"size\":10,\"solidity\":0.2}},\"type\":\"histogram\"}],\"scattergl\":[{\"type\":\"scattergl\",\"marker\":{\"colorbar\":{\"outlinewidth\":0,\"ticks\":\"\"}}}],\"scatter3d\":[{\"type\":\"scatter3d\",\"line\":{\"colorbar\":{\"outlinewidth\":0,\"ticks\":\"\"}},\"marker\":{\"colorbar\":{\"outlinewidth\":0,\"ticks\":\"\"}}}],\"scattermapbox\":[{\"type\":\"scattermapbox\",\"marker\":{\"colorbar\":{\"outlinewidth\":0,\"ticks\":\"\"}}}],\"scatterternary\":[{\"type\":\"scatterternary\",\"marker\":{\"colorbar\":{\"outlinewidth\":0,\"ticks\":\"\"}}}],\"scattercarpet\":[{\"type\":\"scattercarpet\",\"marker\":{\"colorbar\":{\"outlinewidth\":0,\"ticks\":\"\"}}}],\"carpet\":[{\"aaxis\":{\"endlinecolor\":\"#2a3f5f\",\"gridcolor\":\"white\",\"linecolor\":\"white\",\"minorgridcolor\":\"white\",\"startlinecolor\":\"#2a3f5f\"},\"baxis\":{\"endlinecolor\":\"#2a3f5f\",\"gridcolor\":\"white\",\"linecolor\":\"white\",\"minorgridcolor\":\"white\",\"startlinecolor\":\"#2a3f5f\"},\"type\":\"carpet\"}],\"table\":[{\"cells\":{\"fill\":{\"color\":\"#EBF0F8\"},\"line\":{\"color\":\"white\"}},\"header\":{\"fill\":{\"color\":\"#C8D4E3\"},\"line\":{\"color\":\"white\"}},\"type\":\"table\"}],\"barpolar\":[{\"marker\":{\"line\":{\"color\":\"#E5ECF6\",\"width\":0.5},\"pattern\":{\"fillmode\":\"overlay\",\"size\":10,\"solidity\":0.2}},\"type\":\"barpolar\"}],\"pie\":[{\"automargin\":true,\"type\":\"pie\"}]},\"layout\":{\"autotypenumbers\":\"strict\",\"colorway\":[\"#636efa\",\"#EF553B\",\"#00cc96\",\"#ab63fa\",\"#FFA15A\",\"#19d3f3\",\"#FF6692\",\"#B6E880\",\"#FF97FF\",\"#FECB52\"],\"font\":{\"color\":\"#2a3f5f\"},\"hovermode\":\"closest\",\"hoverlabel\":{\"align\":\"left\"},\"paper_bgcolor\":\"white\",\"plot_bgcolor\":\"#E5ECF6\",\"polar\":{\"bgcolor\":\"#E5ECF6\",\"angularaxis\":{\"gridcolor\":\"white\",\"linecolor\":\"white\",\"ticks\":\"\"},\"radialaxis\":{\"gridcolor\":\"white\",\"linecolor\":\"white\",\"ticks\":\"\"}},\"ternary\":{\"bgcolor\":\"#E5ECF6\",\"aaxis\":{\"gridcolor\":\"white\",\"linecolor\":\"white\",\"ticks\":\"\"},\"baxis\":{\"gridcolor\":\"white\",\"linecolor\":\"white\",\"ticks\":\"\"},\"caxis\":{\"gridcolor\":\"white\",\"linecolor\":\"white\",\"ticks\":\"\"}},\"coloraxis\":{\"colorbar\":{\"outlinewidth\":0,\"ticks\":\"\"}},\"colorscale\":{\"sequential\":[[0.0,\"#0d0887\"],[0.1111111111111111,\"#46039f\"],[0.2222222222222222,\"#7201a8\"],[0.3333333333333333,\"#9c179e\"],[0.4444444444444444,\"#bd3786\"],[0.5555555555555556,\"#d8576b\"],[0.6666666666666666,\"#ed7953\"],[0.7777777777777778,\"#fb9f3a\"],[0.8888888888888888,\"#fdca26\"],[1.0,\"#f0f921\"]],\"sequentialminus\":[[0.0,\"#0d0887\"],[0.1111111111111111,\"#46039f\"],[0.2222222222222222,\"#7201a8\"],[0.3333333333333333,\"#9c179e\"],[0.4444444444444444,\"#bd3786\"],[0.5555555555555556,\"#d8576b\"],[0.6666666666666666,\"#ed7953\"],[0.7777777777777778,\"#fb9f3a\"],[0.8888888888888888,\"#fdca26\"],[1.0,\"#f0f921\"]],\"diverging\":[[0,\"#8e0152\"],[0.1,\"#c51b7d\"],[0.2,\"#de77ae\"],[0.3,\"#f1b6da\"],[0.4,\"#fde0ef\"],[0.5,\"#f7f7f7\"],[0.6,\"#e6f5d0\"],[0.7,\"#b8e186\"],[0.8,\"#7fbc41\"],[0.9,\"#4d9221\"],[1,\"#276419\"]]},\"xaxis\":{\"gridcolor\":\"white\",\"linecolor\":\"white\",\"ticks\":\"\",\"title\":{\"standoff\":15},\"zerolinecolor\":\"white\",\"automargin\":true,\"zerolinewidth\":2},\"yaxis\":{\"gridcolor\":\"white\",\"linecolor\":\"white\",\"ticks\":\"\",\"title\":{\"standoff\":15},\"zerolinecolor\":\"white\",\"automargin\":true,\"zerolinewidth\":2},\"scene\":{\"xaxis\":{\"backgroundcolor\":\"#E5ECF6\",\"gridcolor\":\"white\",\"linecolor\":\"white\",\"showbackground\":true,\"ticks\":\"\",\"zerolinecolor\":\"white\",\"gridwidth\":2},\"yaxis\":{\"backgroundcolor\":\"#E5ECF6\",\"gridcolor\":\"white\",\"linecolor\":\"white\",\"showbackground\":true,\"ticks\":\"\",\"zerolinecolor\":\"white\",\"gridwidth\":2},\"zaxis\":{\"backgroundcolor\":\"#E5ECF6\",\"gridcolor\":\"white\",\"linecolor\":\"white\",\"showbackground\":true,\"ticks\":\"\",\"zerolinecolor\":\"white\",\"gridwidth\":2}},\"shapedefaults\":{\"line\":{\"color\":\"#2a3f5f\"}},\"annotationdefaults\":{\"arrowcolor\":\"#2a3f5f\",\"arrowhead\":0,\"arrowwidth\":1},\"geo\":{\"bgcolor\":\"white\",\"landcolor\":\"#E5ECF6\",\"subunitcolor\":\"white\",\"showland\":true,\"showlakes\":true,\"lakecolor\":\"white\"},\"title\":{\"x\":0.05},\"mapbox\":{\"style\":\"light\"}}},\"xaxis\":{\"anchor\":\"y\",\"domain\":[0.0,0.08200000000000002],\"title\":{\"text\":\"Note Pitch\"}},\"yaxis\":{\"anchor\":\"x\",\"domain\":[0.0,1.0],\"title\":{\"text\":\"Note %\"}},\"xaxis2\":{\"anchor\":\"y2\",\"domain\":[0.10200000000000002,0.18400000000000005],\"matches\":\"x\",\"title\":{\"text\":\"Note Pitch\"}},\"yaxis2\":{\"anchor\":\"x2\",\"domain\":[0.0,1.0],\"matches\":\"y\",\"showticklabels\":false},\"xaxis3\":{\"anchor\":\"y3\",\"domain\":[0.20400000000000004,0.28600000000000003],\"matches\":\"x\",\"title\":{\"text\":\"Note Pitch\"}},\"yaxis3\":{\"anchor\":\"x3\",\"domain\":[0.0,1.0],\"matches\":\"y\",\"showticklabels\":false},\"xaxis4\":{\"anchor\":\"y4\",\"domain\":[0.30600000000000005,0.38800000000000007],\"matches\":\"x\",\"title\":{\"text\":\"Note Pitch\"}},\"yaxis4\":{\"anchor\":\"x4\",\"domain\":[0.0,1.0],\"matches\":\"y\",\"showticklabels\":false},\"xaxis5\":{\"anchor\":\"y5\",\"domain\":[0.4080000000000001,0.4900000000000001],\"matches\":\"x\",\"title\":{\"text\":\"Note Pitch\"}},\"yaxis5\":{\"anchor\":\"x5\",\"domain\":[0.0,1.0],\"matches\":\"y\",\"showticklabels\":false},\"xaxis6\":{\"anchor\":\"y6\",\"domain\":[0.5100000000000001,0.5920000000000001],\"matches\":\"x\",\"title\":{\"text\":\"Note Pitch\"}},\"yaxis6\":{\"anchor\":\"x6\",\"domain\":[0.0,1.0],\"matches\":\"y\",\"showticklabels\":false},\"xaxis7\":{\"anchor\":\"y7\",\"domain\":[0.6120000000000001,0.6940000000000002],\"matches\":\"x\",\"title\":{\"text\":\"Note Pitch\"}},\"yaxis7\":{\"anchor\":\"x7\",\"domain\":[0.0,1.0],\"matches\":\"y\",\"showticklabels\":false},\"xaxis8\":{\"anchor\":\"y8\",\"domain\":[0.7140000000000001,0.796],\"matches\":\"x\",\"title\":{\"text\":\"Note Pitch\"}},\"yaxis8\":{\"anchor\":\"x8\",\"domain\":[0.0,1.0],\"matches\":\"y\",\"showticklabels\":false},\"xaxis9\":{\"anchor\":\"y9\",\"domain\":[0.8160000000000002,0.8980000000000001],\"matches\":\"x\",\"title\":{\"text\":\"Note Pitch\"}},\"yaxis9\":{\"anchor\":\"x9\",\"domain\":[0.0,1.0],\"matches\":\"y\",\"showticklabels\":false},\"xaxis10\":{\"anchor\":\"y10\",\"domain\":[0.9180000000000001,1.0],\"matches\":\"x\",\"title\":{\"text\":\"Note Pitch\"}},\"yaxis10\":{\"anchor\":\"x10\",\"domain\":[0.0,1.0],\"matches\":\"y\",\"showticklabels\":false},\"annotations\":[{\"font\":{},\"showarrow\":false,\"text\":\"Composer=Bach\",\"x\":0.04100000000000001,\"xanchor\":\"center\",\"xref\":\"paper\",\"y\":1.0,\"yanchor\":\"bottom\",\"yref\":\"paper\"},{\"font\":{},\"showarrow\":false,\"text\":\"Composer=Beethoven\",\"x\":0.14300000000000004,\"xanchor\":\"center\",\"xref\":\"paper\",\"y\":1.0,\"yanchor\":\"bottom\",\"yref\":\"paper\"},{\"font\":{},\"showarrow\":false,\"text\":\"Composer=Brahms\",\"x\":0.24500000000000005,\"xanchor\":\"center\",\"xref\":\"paper\",\"y\":1.0,\"yanchor\":\"bottom\",\"yref\":\"paper\"},{\"font\":{},\"showarrow\":false,\"text\":\"Composer=Cambini\",\"x\":0.3470000000000001,\"xanchor\":\"center\",\"xref\":\"paper\",\"y\":1.0,\"yanchor\":\"bottom\",\"yref\":\"paper\"},{\"font\":{},\"showarrow\":false,\"text\":\"Composer=Dvorak\",\"x\":0.44900000000000007,\"xanchor\":\"center\",\"xref\":\"paper\",\"y\":1.0,\"yanchor\":\"bottom\",\"yref\":\"paper\"},{\"font\":{},\"showarrow\":false,\"text\":\"Composer=Faure\",\"x\":0.5510000000000002,\"xanchor\":\"center\",\"xref\":\"paper\",\"y\":1.0,\"yanchor\":\"bottom\",\"yref\":\"paper\"},{\"font\":{},\"showarrow\":false,\"text\":\"Composer=Haydn\",\"x\":0.6530000000000001,\"xanchor\":\"center\",\"xref\":\"paper\",\"y\":1.0,\"yanchor\":\"bottom\",\"yref\":\"paper\"},{\"font\":{},\"showarrow\":false,\"text\":\"Composer=Mozart\",\"x\":0.7550000000000001,\"xanchor\":\"center\",\"xref\":\"paper\",\"y\":1.0,\"yanchor\":\"bottom\",\"yref\":\"paper\"},{\"font\":{},\"showarrow\":false,\"text\":\"Composer=Ravel\",\"x\":0.8570000000000002,\"xanchor\":\"center\",\"xref\":\"paper\",\"y\":1.0,\"yanchor\":\"bottom\",\"yref\":\"paper\"},{\"font\":{},\"showarrow\":false,\"text\":\"Composer=Schubert\",\"x\":0.9590000000000002,\"xanchor\":\"center\",\"xref\":\"paper\",\"y\":1.0,\"yanchor\":\"bottom\",\"yref\":\"paper\"}],\"coloraxis\":{\"colorbar\":{\"title\":{\"text\":\"Note Octave\"}},\"colorscale\":[[0.0,\"#0d0887\"],[0.1111111111111111,\"#46039f\"],[0.2222222222222222,\"#7201a8\"],[0.3333333333333333,\"#9c179e\"],[0.4444444444444444,\"#bd3786\"],[0.5555555555555556,\"#d8576b\"],[0.6666666666666666,\"#ed7953\"],[0.7777777777777778,\"#fb9f3a\"],[0.8888888888888888,\"#fdca26\"],[1.0,\"#f0f921\"]]},\"legend\":{\"tracegroupgap\":0},\"margin\":{\"t\":60},\"barmode\":\"relative\",\"height\":1500,\"width\":1500},                        {\"responsive\": true}                    ).then(function(){\n",
       "                            \n",
       "var gd = document.getElementById('84dfcc2e-d066-4cf9-882f-df1be104fd5c');\n",
       "var x = new MutationObserver(function (mutations, observer) {{\n",
       "        var display = window.getComputedStyle(gd).display;\n",
       "        if (!display || display === 'none') {{\n",
       "            console.log([gd, 'removed!']);\n",
       "            Plotly.purge(gd);\n",
       "            observer.disconnect();\n",
       "        }}\n",
       "}});\n",
       "\n",
       "// Listen for the removal of the full notebook cells\n",
       "var notebookContainer = gd.closest('#notebook-container');\n",
       "if (notebookContainer) {{\n",
       "    x.observe(notebookContainer, {childList: true});\n",
       "}}\n",
       "\n",
       "// Listen for the clearing of the current output cell\n",
       "var outputEl = gd.closest('.output');\n",
       "if (outputEl) {{\n",
       "    x.observe(outputEl, {childList: true});\n",
       "}}\n",
       "\n",
       "                        })                };                });            </script>        </div>"
      ]
     },
     "metadata": {},
     "output_type": "display_data"
    }
   ],
   "source": [
    "import plotly_express as px\n",
    "\n",
    "fig = px.bar(notes_df, x='Note Pitch', y='Note %', facet_col='Composer', color='Note Octave')\n",
    "fig.update_layout(height=1500, width=1500)\n",
    "fig.show()"
   ]
  },
  {
   "cell_type": "markdown",
   "metadata": {},
   "source": [
    "#### The above figure makes it clearer to see how the 3 different composers utilized different notes when writing their music.\n",
    "\n",
    "#### For example, it appears Beethoven and Schubert wrote in higher and lower octaves than Bach did, and Beethoven seems to have favored G."
   ]
  },
  {
   "cell_type": "markdown",
   "metadata": {},
   "source": [
    "### 3) Third visualization: Stacked bar chart showing note types/durations by composer"
   ]
  },
  {
   "cell_type": "code",
   "execution_count": 9,
   "metadata": {},
   "outputs": [
    {
     "data": {
      "text/html": [
       "<div>\n",
       "<style scoped>\n",
       "    .dataframe tbody tr th:only-of-type {\n",
       "        vertical-align: middle;\n",
       "    }\n",
       "\n",
       "    .dataframe tbody tr th {\n",
       "        vertical-align: top;\n",
       "    }\n",
       "\n",
       "    .dataframe thead th {\n",
       "        text-align: right;\n",
       "    }\n",
       "</style>\n",
       "<table border=\"1\" class=\"dataframe\">\n",
       "  <thead>\n",
       "    <tr style=\"text-align: right;\">\n",
       "      <th></th>\n",
       "      <th>Composer</th>\n",
       "      <th>Note Type</th>\n",
       "      <th>Note %</th>\n",
       "    </tr>\n",
       "  </thead>\n",
       "  <tbody>\n",
       "    <tr>\n",
       "      <th>0</th>\n",
       "      <td>Bach</td>\n",
       "      <td>Dotted Eighth</td>\n",
       "      <td>1.183573</td>\n",
       "    </tr>\n",
       "    <tr>\n",
       "      <th>1</th>\n",
       "      <td>Bach</td>\n",
       "      <td>Dotted Half</td>\n",
       "      <td>0.584618</td>\n",
       "    </tr>\n",
       "    <tr>\n",
       "      <th>2</th>\n",
       "      <td>Bach</td>\n",
       "      <td>Dotted Quarter</td>\n",
       "      <td>0.849051</td>\n",
       "    </tr>\n",
       "    <tr>\n",
       "      <th>3</th>\n",
       "      <td>Bach</td>\n",
       "      <td>Dotted Sixteenth</td>\n",
       "      <td>0.108322</td>\n",
       "    </tr>\n",
       "    <tr>\n",
       "      <th>4</th>\n",
       "      <td>Bach</td>\n",
       "      <td>Eighth</td>\n",
       "      <td>31.623550</td>\n",
       "    </tr>\n",
       "  </tbody>\n",
       "</table>\n",
       "</div>"
      ],
      "text/plain": [
       "  Composer         Note Type     Note %\n",
       "0     Bach     Dotted Eighth   1.183573\n",
       "1     Bach       Dotted Half   0.584618\n",
       "2     Bach    Dotted Quarter   0.849051\n",
       "3     Bach  Dotted Sixteenth   0.108322\n",
       "4     Bach            Eighth  31.623550"
      ]
     },
     "execution_count": 9,
     "metadata": {},
     "output_type": "execute_result"
    }
   ],
   "source": [
    "note_types = df.groupby(['composer','note_value']).agg({'note':'count'})['note'] / df.groupby(['composer']).agg({'note':'count'})['note'] * 100\n",
    "note_types_df = pd.DataFrame(note_types).reset_index().rename({'composer':'Composer','note_value':'Note Type','note':'Note %'},axis='columns')\n",
    "note_types_df.head()"
   ]
  },
  {
   "cell_type": "code",
   "execution_count": 10,
   "metadata": {
    "tags": []
   },
   "outputs": [
    {
     "data": {
      "application/vnd.plotly.v1+json": {
       "config": {
        "plotlyServerURL": "https://plot.ly"
       },
       "data": [
        {
         "alignmentgroup": "True",
         "hovertemplate": "Composer=Bach<br>Note Type=%{x}<br>Note %=%{y}<extra></extra>",
         "legendgroup": "Bach",
         "marker": {
          "color": "#636efa",
          "pattern": {
           "shape": ""
          }
         },
         "name": "Bach",
         "offsetgroup": "Bach",
         "orientation": "v",
         "showlegend": true,
         "textposition": "auto",
         "type": "bar",
         "x": [
          "Dotted Eighth",
          "Dotted Half",
          "Dotted Quarter",
          "Dotted Sixteenth",
          "Eighth",
          "Half",
          "Quarter",
          "Sixteenth",
          "Sixty Fourth",
          "Thirty Second",
          "Tied Quarter-Sixteenth",
          "Tied Quarter-Thirty Second",
          "Triplet",
          "Triplet Sixteenth",
          "Triplet Sixty Fourth",
          "Triplet Thirty Second",
          "Unknown",
          "Whole"
         ],
         "xaxis": "x",
         "y": [
          1.183573340129986,
          0.5846183254747037,
          0.8490505925831529,
          0.1083216515865936,
          31.6235504014273,
          2.308206958073149,
          6.580540333885561,
          47.98649165286097,
          0.4109850898432522,
          4.052504141710208,
          0.4699248120300752,
          0.03823117114820951,
          0.3727539186950427,
          1.1357843761947242,
          0.17044730470243405,
          1.478271951064101,
          0.2723970944309927,
          0.3743468841595514
         ],
         "yaxis": "y"
        },
        {
         "alignmentgroup": "True",
         "hovertemplate": "Composer=Beethoven<br>Note Type=%{x}<br>Note %=%{y}<extra></extra>",
         "legendgroup": "Beethoven",
         "marker": {
          "color": "#EF553B",
          "pattern": {
           "shape": ""
          }
         },
         "name": "Beethoven",
         "offsetgroup": "Beethoven",
         "orientation": "v",
         "showlegend": true,
         "textposition": "auto",
         "type": "bar",
         "x": [
          "Dotted Eighth",
          "Dotted Half",
          "Dotted Quarter",
          "Dotted Sixteenth",
          "Eighth",
          "Half",
          "Quarter",
          "Sixteenth",
          "Sixty Fourth",
          "Thirty Second",
          "Tied Quarter-Sixteenth",
          "Tied Quarter-Thirty Second",
          "Triplet",
          "Triplet Sixteenth",
          "Triplet Sixty Fourth",
          "Triplet Thirty Second",
          "Unknown",
          "Whole"
         ],
         "xaxis": "x",
         "y": [
          5.129301132720667,
          1.2222714820394978,
          1.901939207890363,
          3.341110889343806,
          31.045872272630127,
          2.865272829717447,
          13.513694916092476,
          23.12071343915755,
          0.7706315716962903,
          4.461997424751704,
          0.4491671067668269,
          0.037798568953244585,
          3.909149196603781,
          5.6927470904816495,
          0.19605799784159572,
          1.2754367589316782,
          0.37304008237968483,
          0.6937980320016109
         ],
         "yaxis": "y"
        },
        {
         "alignmentgroup": "True",
         "hovertemplate": "Composer=Brahms<br>Note Type=%{x}<br>Note %=%{y}<extra></extra>",
         "legendgroup": "Brahms",
         "marker": {
          "color": "#00cc96",
          "pattern": {
           "shape": ""
          }
         },
         "name": "Brahms",
         "offsetgroup": "Brahms",
         "orientation": "v",
         "showlegend": true,
         "textposition": "auto",
         "type": "bar",
         "x": [
          "Dotted Eighth",
          "Dotted Half",
          "Dotted Quarter",
          "Dotted Sixteenth",
          "Eighth",
          "Half",
          "Quarter",
          "Sixteenth",
          "Sixty Fourth",
          "Thirty Second",
          "Tied Quarter-Sixteenth",
          "Tied Quarter-Thirty Second",
          "Triplet",
          "Triplet Sixteenth",
          "Triplet Sixty Fourth",
          "Triplet Thirty Second",
          "Unknown",
          "Whole"
         ],
         "xaxis": "x",
         "y": [
          10.939430928210221,
          2.095542801689171,
          3.3631794024215496,
          6.986406265400041,
          26.144246734243627,
          3.963638844873729,
          11.179008180501746,
          16.856079272776896,
          0.12054678200744508,
          2.398805146361989,
          2.0333740210312437,
          0.49507577767837513,
          6.119834115497464,
          6.028097256233936,
          0.014404961371958848,
          0.2994715653644076,
          0.3457190729270123,
          0.6171388714091843
         ],
         "yaxis": "y"
        },
        {
         "alignmentgroup": "True",
         "hovertemplate": "Composer=Cambini<br>Note Type=%{x}<br>Note %=%{y}<extra></extra>",
         "legendgroup": "Cambini",
         "marker": {
          "color": "#ab63fa",
          "pattern": {
           "shape": ""
          }
         },
         "name": "Cambini",
         "offsetgroup": "Cambini",
         "orientation": "v",
         "showlegend": true,
         "textposition": "auto",
         "type": "bar",
         "x": [
          "Dotted Eighth",
          "Dotted Half",
          "Dotted Quarter",
          "Dotted Sixteenth",
          "Eighth",
          "Half",
          "Quarter",
          "Sixteenth",
          "Sixty Fourth",
          "Thirty Second",
          "Tied Quarter-Sixteenth",
          "Triplet",
          "Triplet Sixteenth",
          "Triplet Thirty Second",
          "Unknown",
          "Whole"
         ],
         "xaxis": "x",
         "y": [
          6.69621273166801,
          1.3577759871071717,
          1.0273972602739725,
          0.547945205479452,
          18.984689766317487,
          3.4730056406124095,
          3.6623690572119263,
          44.31506849315068,
          1.8694601128122483,
          10.717163577759871,
          1.0233682514101532,
          2.735697018533441,
          2.3327961321514907,
          0.298146655922643,
          0.4431909750201451,
          0.5157131345688961
         ],
         "yaxis": "y"
        },
        {
         "alignmentgroup": "True",
         "hovertemplate": "Composer=Dvorak<br>Note Type=%{x}<br>Note %=%{y}<extra></extra>",
         "legendgroup": "Dvorak",
         "marker": {
          "color": "#FFA15A",
          "pattern": {
           "shape": ""
          }
         },
         "name": "Dvorak",
         "offsetgroup": "Dvorak",
         "orientation": "v",
         "showlegend": true,
         "textposition": "auto",
         "type": "bar",
         "x": [
          "Dotted Eighth",
          "Dotted Half",
          "Dotted Quarter",
          "Dotted Sixteenth",
          "Eighth",
          "Half",
          "Quarter",
          "Sixteenth",
          "Sixty Fourth",
          "Thirty Second",
          "Tied Quarter-Sixteenth",
          "Tied Quarter-Thirty Second",
          "Triplet",
          "Triplet Sixteenth",
          "Triplet Sixty Fourth",
          "Triplet Thirty Second",
          "Unknown",
          "Whole"
         ],
         "xaxis": "x",
         "y": [
          3.838000316405632,
          0.6138269261192849,
          1.5693719348204398,
          15.446922955228604,
          15.21278278753362,
          2.600854295206455,
          8.726467331118494,
          33.32067710805252,
          0.31956968834045246,
          0.9966777408637874,
          0.45562411010915993,
          0.006328112640404999,
          6.578073089700996,
          7.248853029583927,
          0.7657016294890049,
          1.7212466381901597,
          0.33538996994146497,
          0.24363233665559247
         ],
         "yaxis": "y"
        },
        {
         "alignmentgroup": "True",
         "hovertemplate": "Composer=Faure<br>Note Type=%{x}<br>Note %=%{y}<extra></extra>",
         "legendgroup": "Faure",
         "marker": {
          "color": "#19d3f3",
          "pattern": {
           "shape": ""
          }
         },
         "name": "Faure",
         "offsetgroup": "Faure",
         "orientation": "v",
         "showlegend": true,
         "textposition": "auto",
         "type": "bar",
         "x": [
          "Dotted Eighth",
          "Dotted Half",
          "Dotted Quarter",
          "Dotted Sixteenth",
          "Eighth",
          "Half",
          "Quarter",
          "Sixteenth",
          "Thirty Second",
          "Tied Quarter-Sixteenth",
          "Tied Quarter-Thirty Second",
          "Triplet",
          "Triplet Sixteenth",
          "Triplet Thirty Second",
          "Unknown",
          "Whole"
         ],
         "xaxis": "x",
         "y": [
          10.277864781421988,
          3.378227213745581,
          3.9554342476173434,
          0.3176875922860083,
          29.89842945993109,
          3.3021611705221705,
          8.734171551299834,
          19.87113517383328,
          7.46789565528659,
          0.9978075081659136,
          0.17450445210076515,
          9.033961251062687,
          0.536936775694662,
          0.02237236565394425,
          1.575014542037675,
          0.45639625934046263
         ],
         "yaxis": "y"
        },
        {
         "alignmentgroup": "True",
         "hovertemplate": "Composer=Haydn<br>Note Type=%{x}<br>Note %=%{y}<extra></extra>",
         "legendgroup": "Haydn",
         "marker": {
          "color": "#FF6692",
          "pattern": {
           "shape": ""
          }
         },
         "name": "Haydn",
         "offsetgroup": "Haydn",
         "orientation": "v",
         "showlegend": true,
         "textposition": "auto",
         "type": "bar",
         "x": [
          "Dotted Eighth",
          "Dotted Half",
          "Dotted Quarter",
          "Dotted Sixteenth",
          "Eighth",
          "Half",
          "Quarter",
          "Sixteenth",
          "Sixty Fourth",
          "Thirty Second",
          "Tied Quarter-Sixteenth",
          "Tied Quarter-Thirty Second",
          "Triplet",
          "Triplet Sixteenth",
          "Triplet Sixty Fourth",
          "Triplet Thirty Second",
          "Unknown",
          "Whole"
         ],
         "xaxis": "x",
         "y": [
          3.0197075651621104,
          1.3668150031786395,
          0.810553083280356,
          0.11125238397965671,
          35.69612205975842,
          7.43801652892562,
          30.64208518753973,
          2.9243483788938334,
          0.22250476795931343,
          4.465988556897648,
          0.03178639542275906,
          0.04767959313413859,
          9.758423394787032,
          1.9548633184996822,
          0.34965034965034963,
          0.11125238397965671,
          0.2066115702479339,
          0.8423394787031151
         ],
         "yaxis": "y"
        },
        {
         "alignmentgroup": "True",
         "hovertemplate": "Composer=Mozart<br>Note Type=%{x}<br>Note %=%{y}<extra></extra>",
         "legendgroup": "Mozart",
         "marker": {
          "color": "#B6E880",
          "pattern": {
           "shape": ""
          }
         },
         "name": "Mozart",
         "offsetgroup": "Mozart",
         "orientation": "v",
         "showlegend": true,
         "textposition": "auto",
         "type": "bar",
         "x": [
          "Dotted Eighth",
          "Dotted Half",
          "Dotted Quarter",
          "Dotted Sixteenth",
          "Eighth",
          "Half",
          "Quarter",
          "Sixteenth",
          "Sixty Fourth",
          "Thirty Second",
          "Tied Quarter-Sixteenth",
          "Tied Quarter-Thirty Second",
          "Triplet",
          "Triplet Sixteenth",
          "Triplet Sixty Fourth",
          "Triplet Thirty Second",
          "Unknown",
          "Whole"
         ],
         "xaxis": "x",
         "y": [
          5.635453707362044,
          0.8270775714473858,
          1.5540629527196101,
          7.2817068352429875,
          27.815092848676414,
          3.1594890030291056,
          12.832872382457527,
          17.33833794284209,
          1.3130514947978402,
          7.015672329777427,
          0.37271170815224547,
          0.03555906756222837,
          3.9510075069142636,
          8.419596997234295,
          0.0777031476359805,
          1.82273146318978,
          0.2080863953641512,
          0.3397866455946266
         ],
         "yaxis": "y"
        },
        {
         "alignmentgroup": "True",
         "hovertemplate": "Composer=Ravel<br>Note Type=%{x}<br>Note %=%{y}<extra></extra>",
         "legendgroup": "Ravel",
         "marker": {
          "color": "#FF97FF",
          "pattern": {
           "shape": ""
          }
         },
         "name": "Ravel",
         "offsetgroup": "Ravel",
         "orientation": "v",
         "showlegend": true,
         "textposition": "auto",
         "type": "bar",
         "x": [
          "Dotted Eighth",
          "Dotted Half",
          "Dotted Quarter",
          "Dotted Sixteenth",
          "Eighth",
          "Half",
          "Quarter",
          "Sixteenth",
          "Sixty Fourth",
          "Thirty Second",
          "Tied Quarter-Sixteenth",
          "Tied Quarter-Thirty Second",
          "Triplet",
          "Triplet Sixteenth",
          "Triplet Sixty Fourth",
          "Triplet Thirty Second",
          "Unknown",
          "Whole"
         ],
         "xaxis": "x",
         "y": [
          3.2790763698306047,
          1.0551717611431815,
          0.6719030945396044,
          0.39273209047033214,
          6.454055077126905,
          2.5078073246900727,
          5.74429828712028,
          39.62335573010315,
          3.146588435696035,
          30.193053846881803,
          0.7428787735402669,
          0.08517081480079493,
          3.6765401722343145,
          1.8500993659506009,
          0.037853695467019964,
          0.0047317119333774955,
          0.2271221728021198,
          0.3075612756695372
         ],
         "yaxis": "y"
        },
        {
         "alignmentgroup": "True",
         "hovertemplate": "Composer=Schubert<br>Note Type=%{x}<br>Note %=%{y}<extra></extra>",
         "legendgroup": "Schubert",
         "marker": {
          "color": "#FECB52",
          "pattern": {
           "shape": ""
          }
         },
         "name": "Schubert",
         "offsetgroup": "Schubert",
         "orientation": "v",
         "showlegend": true,
         "textposition": "auto",
         "type": "bar",
         "x": [
          "Dotted Eighth",
          "Dotted Half",
          "Dotted Quarter",
          "Dotted Sixteenth",
          "Eighth",
          "Half",
          "Quarter",
          "Sixteenth",
          "Sixty Fourth",
          "Thirty Second",
          "Tied Quarter-Sixteenth",
          "Tied Quarter-Thirty Second",
          "Triplet",
          "Triplet Sixteenth",
          "Triplet Sixty Fourth",
          "Triplet Thirty Second",
          "Unknown",
          "Whole"
         ],
         "xaxis": "x",
         "y": [
          3.708656260233599,
          1.2573681912454973,
          1.7322071826219845,
          2.3741949568824365,
          20.401020630935488,
          4.876651020630936,
          10.784166575701343,
          19.825892369828622,
          0.9817432594694901,
          4.87937998035149,
          0.23741949568824366,
          0.033429756576792924,
          9.787414037768803,
          7.240612378561292,
          5.3180602554306295,
          5.5602554306298435,
          0.7340901648291671,
          0.2674380526143434
         ],
         "yaxis": "y"
        }
       ],
       "layout": {
        "barmode": "relative",
        "height": 1500,
        "legend": {
         "title": {
          "text": "Composer"
         },
         "tracegroupgap": 0
        },
        "margin": {
         "t": 60
        },
        "template": {
         "data": {
          "bar": [
           {
            "error_x": {
             "color": "#2a3f5f"
            },
            "error_y": {
             "color": "#2a3f5f"
            },
            "marker": {
             "line": {
              "color": "#E5ECF6",
              "width": 0.5
             },
             "pattern": {
              "fillmode": "overlay",
              "size": 10,
              "solidity": 0.2
             }
            },
            "type": "bar"
           }
          ],
          "barpolar": [
           {
            "marker": {
             "line": {
              "color": "#E5ECF6",
              "width": 0.5
             },
             "pattern": {
              "fillmode": "overlay",
              "size": 10,
              "solidity": 0.2
             }
            },
            "type": "barpolar"
           }
          ],
          "carpet": [
           {
            "aaxis": {
             "endlinecolor": "#2a3f5f",
             "gridcolor": "white",
             "linecolor": "white",
             "minorgridcolor": "white",
             "startlinecolor": "#2a3f5f"
            },
            "baxis": {
             "endlinecolor": "#2a3f5f",
             "gridcolor": "white",
             "linecolor": "white",
             "minorgridcolor": "white",
             "startlinecolor": "#2a3f5f"
            },
            "type": "carpet"
           }
          ],
          "choropleth": [
           {
            "colorbar": {
             "outlinewidth": 0,
             "ticks": ""
            },
            "type": "choropleth"
           }
          ],
          "contour": [
           {
            "colorbar": {
             "outlinewidth": 0,
             "ticks": ""
            },
            "colorscale": [
             [
              0,
              "#0d0887"
             ],
             [
              0.1111111111111111,
              "#46039f"
             ],
             [
              0.2222222222222222,
              "#7201a8"
             ],
             [
              0.3333333333333333,
              "#9c179e"
             ],
             [
              0.4444444444444444,
              "#bd3786"
             ],
             [
              0.5555555555555556,
              "#d8576b"
             ],
             [
              0.6666666666666666,
              "#ed7953"
             ],
             [
              0.7777777777777778,
              "#fb9f3a"
             ],
             [
              0.8888888888888888,
              "#fdca26"
             ],
             [
              1,
              "#f0f921"
             ]
            ],
            "type": "contour"
           }
          ],
          "contourcarpet": [
           {
            "colorbar": {
             "outlinewidth": 0,
             "ticks": ""
            },
            "type": "contourcarpet"
           }
          ],
          "heatmap": [
           {
            "colorbar": {
             "outlinewidth": 0,
             "ticks": ""
            },
            "colorscale": [
             [
              0,
              "#0d0887"
             ],
             [
              0.1111111111111111,
              "#46039f"
             ],
             [
              0.2222222222222222,
              "#7201a8"
             ],
             [
              0.3333333333333333,
              "#9c179e"
             ],
             [
              0.4444444444444444,
              "#bd3786"
             ],
             [
              0.5555555555555556,
              "#d8576b"
             ],
             [
              0.6666666666666666,
              "#ed7953"
             ],
             [
              0.7777777777777778,
              "#fb9f3a"
             ],
             [
              0.8888888888888888,
              "#fdca26"
             ],
             [
              1,
              "#f0f921"
             ]
            ],
            "type": "heatmap"
           }
          ],
          "heatmapgl": [
           {
            "colorbar": {
             "outlinewidth": 0,
             "ticks": ""
            },
            "colorscale": [
             [
              0,
              "#0d0887"
             ],
             [
              0.1111111111111111,
              "#46039f"
             ],
             [
              0.2222222222222222,
              "#7201a8"
             ],
             [
              0.3333333333333333,
              "#9c179e"
             ],
             [
              0.4444444444444444,
              "#bd3786"
             ],
             [
              0.5555555555555556,
              "#d8576b"
             ],
             [
              0.6666666666666666,
              "#ed7953"
             ],
             [
              0.7777777777777778,
              "#fb9f3a"
             ],
             [
              0.8888888888888888,
              "#fdca26"
             ],
             [
              1,
              "#f0f921"
             ]
            ],
            "type": "heatmapgl"
           }
          ],
          "histogram": [
           {
            "marker": {
             "pattern": {
              "fillmode": "overlay",
              "size": 10,
              "solidity": 0.2
             }
            },
            "type": "histogram"
           }
          ],
          "histogram2d": [
           {
            "colorbar": {
             "outlinewidth": 0,
             "ticks": ""
            },
            "colorscale": [
             [
              0,
              "#0d0887"
             ],
             [
              0.1111111111111111,
              "#46039f"
             ],
             [
              0.2222222222222222,
              "#7201a8"
             ],
             [
              0.3333333333333333,
              "#9c179e"
             ],
             [
              0.4444444444444444,
              "#bd3786"
             ],
             [
              0.5555555555555556,
              "#d8576b"
             ],
             [
              0.6666666666666666,
              "#ed7953"
             ],
             [
              0.7777777777777778,
              "#fb9f3a"
             ],
             [
              0.8888888888888888,
              "#fdca26"
             ],
             [
              1,
              "#f0f921"
             ]
            ],
            "type": "histogram2d"
           }
          ],
          "histogram2dcontour": [
           {
            "colorbar": {
             "outlinewidth": 0,
             "ticks": ""
            },
            "colorscale": [
             [
              0,
              "#0d0887"
             ],
             [
              0.1111111111111111,
              "#46039f"
             ],
             [
              0.2222222222222222,
              "#7201a8"
             ],
             [
              0.3333333333333333,
              "#9c179e"
             ],
             [
              0.4444444444444444,
              "#bd3786"
             ],
             [
              0.5555555555555556,
              "#d8576b"
             ],
             [
              0.6666666666666666,
              "#ed7953"
             ],
             [
              0.7777777777777778,
              "#fb9f3a"
             ],
             [
              0.8888888888888888,
              "#fdca26"
             ],
             [
              1,
              "#f0f921"
             ]
            ],
            "type": "histogram2dcontour"
           }
          ],
          "mesh3d": [
           {
            "colorbar": {
             "outlinewidth": 0,
             "ticks": ""
            },
            "type": "mesh3d"
           }
          ],
          "parcoords": [
           {
            "line": {
             "colorbar": {
              "outlinewidth": 0,
              "ticks": ""
             }
            },
            "type": "parcoords"
           }
          ],
          "pie": [
           {
            "automargin": true,
            "type": "pie"
           }
          ],
          "scatter": [
           {
            "fillpattern": {
             "fillmode": "overlay",
             "size": 10,
             "solidity": 0.2
            },
            "type": "scatter"
           }
          ],
          "scatter3d": [
           {
            "line": {
             "colorbar": {
              "outlinewidth": 0,
              "ticks": ""
             }
            },
            "marker": {
             "colorbar": {
              "outlinewidth": 0,
              "ticks": ""
             }
            },
            "type": "scatter3d"
           }
          ],
          "scattercarpet": [
           {
            "marker": {
             "colorbar": {
              "outlinewidth": 0,
              "ticks": ""
             }
            },
            "type": "scattercarpet"
           }
          ],
          "scattergeo": [
           {
            "marker": {
             "colorbar": {
              "outlinewidth": 0,
              "ticks": ""
             }
            },
            "type": "scattergeo"
           }
          ],
          "scattergl": [
           {
            "marker": {
             "colorbar": {
              "outlinewidth": 0,
              "ticks": ""
             }
            },
            "type": "scattergl"
           }
          ],
          "scattermapbox": [
           {
            "marker": {
             "colorbar": {
              "outlinewidth": 0,
              "ticks": ""
             }
            },
            "type": "scattermapbox"
           }
          ],
          "scatterpolar": [
           {
            "marker": {
             "colorbar": {
              "outlinewidth": 0,
              "ticks": ""
             }
            },
            "type": "scatterpolar"
           }
          ],
          "scatterpolargl": [
           {
            "marker": {
             "colorbar": {
              "outlinewidth": 0,
              "ticks": ""
             }
            },
            "type": "scatterpolargl"
           }
          ],
          "scatterternary": [
           {
            "marker": {
             "colorbar": {
              "outlinewidth": 0,
              "ticks": ""
             }
            },
            "type": "scatterternary"
           }
          ],
          "surface": [
           {
            "colorbar": {
             "outlinewidth": 0,
             "ticks": ""
            },
            "colorscale": [
             [
              0,
              "#0d0887"
             ],
             [
              0.1111111111111111,
              "#46039f"
             ],
             [
              0.2222222222222222,
              "#7201a8"
             ],
             [
              0.3333333333333333,
              "#9c179e"
             ],
             [
              0.4444444444444444,
              "#bd3786"
             ],
             [
              0.5555555555555556,
              "#d8576b"
             ],
             [
              0.6666666666666666,
              "#ed7953"
             ],
             [
              0.7777777777777778,
              "#fb9f3a"
             ],
             [
              0.8888888888888888,
              "#fdca26"
             ],
             [
              1,
              "#f0f921"
             ]
            ],
            "type": "surface"
           }
          ],
          "table": [
           {
            "cells": {
             "fill": {
              "color": "#EBF0F8"
             },
             "line": {
              "color": "white"
             }
            },
            "header": {
             "fill": {
              "color": "#C8D4E3"
             },
             "line": {
              "color": "white"
             }
            },
            "type": "table"
           }
          ]
         },
         "layout": {
          "annotationdefaults": {
           "arrowcolor": "#2a3f5f",
           "arrowhead": 0,
           "arrowwidth": 1
          },
          "autotypenumbers": "strict",
          "coloraxis": {
           "colorbar": {
            "outlinewidth": 0,
            "ticks": ""
           }
          },
          "colorscale": {
           "diverging": [
            [
             0,
             "#8e0152"
            ],
            [
             0.1,
             "#c51b7d"
            ],
            [
             0.2,
             "#de77ae"
            ],
            [
             0.3,
             "#f1b6da"
            ],
            [
             0.4,
             "#fde0ef"
            ],
            [
             0.5,
             "#f7f7f7"
            ],
            [
             0.6,
             "#e6f5d0"
            ],
            [
             0.7,
             "#b8e186"
            ],
            [
             0.8,
             "#7fbc41"
            ],
            [
             0.9,
             "#4d9221"
            ],
            [
             1,
             "#276419"
            ]
           ],
           "sequential": [
            [
             0,
             "#0d0887"
            ],
            [
             0.1111111111111111,
             "#46039f"
            ],
            [
             0.2222222222222222,
             "#7201a8"
            ],
            [
             0.3333333333333333,
             "#9c179e"
            ],
            [
             0.4444444444444444,
             "#bd3786"
            ],
            [
             0.5555555555555556,
             "#d8576b"
            ],
            [
             0.6666666666666666,
             "#ed7953"
            ],
            [
             0.7777777777777778,
             "#fb9f3a"
            ],
            [
             0.8888888888888888,
             "#fdca26"
            ],
            [
             1,
             "#f0f921"
            ]
           ],
           "sequentialminus": [
            [
             0,
             "#0d0887"
            ],
            [
             0.1111111111111111,
             "#46039f"
            ],
            [
             0.2222222222222222,
             "#7201a8"
            ],
            [
             0.3333333333333333,
             "#9c179e"
            ],
            [
             0.4444444444444444,
             "#bd3786"
            ],
            [
             0.5555555555555556,
             "#d8576b"
            ],
            [
             0.6666666666666666,
             "#ed7953"
            ],
            [
             0.7777777777777778,
             "#fb9f3a"
            ],
            [
             0.8888888888888888,
             "#fdca26"
            ],
            [
             1,
             "#f0f921"
            ]
           ]
          },
          "colorway": [
           "#636efa",
           "#EF553B",
           "#00cc96",
           "#ab63fa",
           "#FFA15A",
           "#19d3f3",
           "#FF6692",
           "#B6E880",
           "#FF97FF",
           "#FECB52"
          ],
          "font": {
           "color": "#2a3f5f"
          },
          "geo": {
           "bgcolor": "white",
           "lakecolor": "white",
           "landcolor": "#E5ECF6",
           "showlakes": true,
           "showland": true,
           "subunitcolor": "white"
          },
          "hoverlabel": {
           "align": "left"
          },
          "hovermode": "closest",
          "mapbox": {
           "style": "light"
          },
          "paper_bgcolor": "white",
          "plot_bgcolor": "#E5ECF6",
          "polar": {
           "angularaxis": {
            "gridcolor": "white",
            "linecolor": "white",
            "ticks": ""
           },
           "bgcolor": "#E5ECF6",
           "radialaxis": {
            "gridcolor": "white",
            "linecolor": "white",
            "ticks": ""
           }
          },
          "scene": {
           "xaxis": {
            "backgroundcolor": "#E5ECF6",
            "gridcolor": "white",
            "gridwidth": 2,
            "linecolor": "white",
            "showbackground": true,
            "ticks": "",
            "zerolinecolor": "white"
           },
           "yaxis": {
            "backgroundcolor": "#E5ECF6",
            "gridcolor": "white",
            "gridwidth": 2,
            "linecolor": "white",
            "showbackground": true,
            "ticks": "",
            "zerolinecolor": "white"
           },
           "zaxis": {
            "backgroundcolor": "#E5ECF6",
            "gridcolor": "white",
            "gridwidth": 2,
            "linecolor": "white",
            "showbackground": true,
            "ticks": "",
            "zerolinecolor": "white"
           }
          },
          "shapedefaults": {
           "line": {
            "color": "#2a3f5f"
           }
          },
          "ternary": {
           "aaxis": {
            "gridcolor": "white",
            "linecolor": "white",
            "ticks": ""
           },
           "baxis": {
            "gridcolor": "white",
            "linecolor": "white",
            "ticks": ""
           },
           "bgcolor": "#E5ECF6",
           "caxis": {
            "gridcolor": "white",
            "linecolor": "white",
            "ticks": ""
           }
          },
          "title": {
           "x": 0.05
          },
          "xaxis": {
           "automargin": true,
           "gridcolor": "white",
           "linecolor": "white",
           "ticks": "",
           "title": {
            "standoff": 15
           },
           "zerolinecolor": "white",
           "zerolinewidth": 2
          },
          "yaxis": {
           "automargin": true,
           "gridcolor": "white",
           "linecolor": "white",
           "ticks": "",
           "title": {
            "standoff": 15
           },
           "zerolinecolor": "white",
           "zerolinewidth": 2
          }
         }
        },
        "width": 1500,
        "xaxis": {
         "anchor": "y",
         "domain": [
          0,
          1
         ],
         "title": {
          "text": "Note Type"
         }
        },
        "yaxis": {
         "anchor": "x",
         "domain": [
          0,
          1
         ],
         "title": {
          "text": "Note %"
         }
        }
       }
      },
      "text/html": [
       "<div>                            <div id=\"3cf6d21d-e573-429c-949f-d4e7665c0daa\" class=\"plotly-graph-div\" style=\"height:1500px; width:1500px;\"></div>            <script type=\"text/javascript\">                require([\"plotly\"], function(Plotly) {                    window.PLOTLYENV=window.PLOTLYENV || {};                                    if (document.getElementById(\"3cf6d21d-e573-429c-949f-d4e7665c0daa\")) {                    Plotly.newPlot(                        \"3cf6d21d-e573-429c-949f-d4e7665c0daa\",                        [{\"alignmentgroup\":\"True\",\"hovertemplate\":\"Composer=Bach<br>Note Type=%{x}<br>Note %=%{y}<extra></extra>\",\"legendgroup\":\"Bach\",\"marker\":{\"color\":\"#636efa\",\"pattern\":{\"shape\":\"\"}},\"name\":\"Bach\",\"offsetgroup\":\"Bach\",\"orientation\":\"v\",\"showlegend\":true,\"textposition\":\"auto\",\"x\":[\"Dotted Eighth\",\"Dotted Half\",\"Dotted Quarter\",\"Dotted Sixteenth\",\"Eighth\",\"Half\",\"Quarter\",\"Sixteenth\",\"Sixty Fourth\",\"Thirty Second\",\"Tied Quarter-Sixteenth\",\"Tied Quarter-Thirty Second\",\"Triplet\",\"Triplet Sixteenth\",\"Triplet Sixty Fourth\",\"Triplet Thirty Second\",\"Unknown\",\"Whole\"],\"xaxis\":\"x\",\"y\":[1.183573340129986,0.5846183254747037,0.8490505925831529,0.1083216515865936,31.6235504014273,2.308206958073149,6.580540333885561,47.98649165286097,0.4109850898432522,4.052504141710208,0.4699248120300752,0.03823117114820951,0.3727539186950427,1.1357843761947242,0.17044730470243405,1.478271951064101,0.2723970944309927,0.3743468841595514],\"yaxis\":\"y\",\"type\":\"bar\"},{\"alignmentgroup\":\"True\",\"hovertemplate\":\"Composer=Beethoven<br>Note Type=%{x}<br>Note %=%{y}<extra></extra>\",\"legendgroup\":\"Beethoven\",\"marker\":{\"color\":\"#EF553B\",\"pattern\":{\"shape\":\"\"}},\"name\":\"Beethoven\",\"offsetgroup\":\"Beethoven\",\"orientation\":\"v\",\"showlegend\":true,\"textposition\":\"auto\",\"x\":[\"Dotted Eighth\",\"Dotted Half\",\"Dotted Quarter\",\"Dotted Sixteenth\",\"Eighth\",\"Half\",\"Quarter\",\"Sixteenth\",\"Sixty Fourth\",\"Thirty Second\",\"Tied Quarter-Sixteenth\",\"Tied Quarter-Thirty Second\",\"Triplet\",\"Triplet Sixteenth\",\"Triplet Sixty Fourth\",\"Triplet Thirty Second\",\"Unknown\",\"Whole\"],\"xaxis\":\"x\",\"y\":[5.129301132720667,1.2222714820394978,1.901939207890363,3.341110889343806,31.045872272630127,2.865272829717447,13.513694916092476,23.12071343915755,0.7706315716962903,4.461997424751704,0.4491671067668269,0.037798568953244585,3.909149196603781,5.6927470904816495,0.19605799784159572,1.2754367589316782,0.37304008237968483,0.6937980320016109],\"yaxis\":\"y\",\"type\":\"bar\"},{\"alignmentgroup\":\"True\",\"hovertemplate\":\"Composer=Brahms<br>Note Type=%{x}<br>Note %=%{y}<extra></extra>\",\"legendgroup\":\"Brahms\",\"marker\":{\"color\":\"#00cc96\",\"pattern\":{\"shape\":\"\"}},\"name\":\"Brahms\",\"offsetgroup\":\"Brahms\",\"orientation\":\"v\",\"showlegend\":true,\"textposition\":\"auto\",\"x\":[\"Dotted Eighth\",\"Dotted Half\",\"Dotted Quarter\",\"Dotted Sixteenth\",\"Eighth\",\"Half\",\"Quarter\",\"Sixteenth\",\"Sixty Fourth\",\"Thirty Second\",\"Tied Quarter-Sixteenth\",\"Tied Quarter-Thirty Second\",\"Triplet\",\"Triplet Sixteenth\",\"Triplet Sixty Fourth\",\"Triplet Thirty Second\",\"Unknown\",\"Whole\"],\"xaxis\":\"x\",\"y\":[10.939430928210221,2.095542801689171,3.3631794024215496,6.986406265400041,26.144246734243627,3.963638844873729,11.179008180501746,16.856079272776896,0.12054678200744508,2.398805146361989,2.0333740210312437,0.49507577767837513,6.119834115497464,6.028097256233936,0.014404961371958848,0.2994715653644076,0.3457190729270123,0.6171388714091843],\"yaxis\":\"y\",\"type\":\"bar\"},{\"alignmentgroup\":\"True\",\"hovertemplate\":\"Composer=Cambini<br>Note Type=%{x}<br>Note %=%{y}<extra></extra>\",\"legendgroup\":\"Cambini\",\"marker\":{\"color\":\"#ab63fa\",\"pattern\":{\"shape\":\"\"}},\"name\":\"Cambini\",\"offsetgroup\":\"Cambini\",\"orientation\":\"v\",\"showlegend\":true,\"textposition\":\"auto\",\"x\":[\"Dotted Eighth\",\"Dotted Half\",\"Dotted Quarter\",\"Dotted Sixteenth\",\"Eighth\",\"Half\",\"Quarter\",\"Sixteenth\",\"Sixty Fourth\",\"Thirty Second\",\"Tied Quarter-Sixteenth\",\"Triplet\",\"Triplet Sixteenth\",\"Triplet Thirty Second\",\"Unknown\",\"Whole\"],\"xaxis\":\"x\",\"y\":[6.69621273166801,1.3577759871071717,1.0273972602739725,0.547945205479452,18.984689766317487,3.4730056406124095,3.6623690572119263,44.31506849315068,1.8694601128122483,10.717163577759871,1.0233682514101532,2.735697018533441,2.3327961321514907,0.298146655922643,0.4431909750201451,0.5157131345688961],\"yaxis\":\"y\",\"type\":\"bar\"},{\"alignmentgroup\":\"True\",\"hovertemplate\":\"Composer=Dvorak<br>Note Type=%{x}<br>Note %=%{y}<extra></extra>\",\"legendgroup\":\"Dvorak\",\"marker\":{\"color\":\"#FFA15A\",\"pattern\":{\"shape\":\"\"}},\"name\":\"Dvorak\",\"offsetgroup\":\"Dvorak\",\"orientation\":\"v\",\"showlegend\":true,\"textposition\":\"auto\",\"x\":[\"Dotted Eighth\",\"Dotted Half\",\"Dotted Quarter\",\"Dotted Sixteenth\",\"Eighth\",\"Half\",\"Quarter\",\"Sixteenth\",\"Sixty Fourth\",\"Thirty Second\",\"Tied Quarter-Sixteenth\",\"Tied Quarter-Thirty Second\",\"Triplet\",\"Triplet Sixteenth\",\"Triplet Sixty Fourth\",\"Triplet Thirty Second\",\"Unknown\",\"Whole\"],\"xaxis\":\"x\",\"y\":[3.838000316405632,0.6138269261192849,1.5693719348204398,15.446922955228604,15.21278278753362,2.600854295206455,8.726467331118494,33.32067710805252,0.31956968834045246,0.9966777408637874,0.45562411010915993,0.006328112640404999,6.578073089700996,7.248853029583927,0.7657016294890049,1.7212466381901597,0.33538996994146497,0.24363233665559247],\"yaxis\":\"y\",\"type\":\"bar\"},{\"alignmentgroup\":\"True\",\"hovertemplate\":\"Composer=Faure<br>Note Type=%{x}<br>Note %=%{y}<extra></extra>\",\"legendgroup\":\"Faure\",\"marker\":{\"color\":\"#19d3f3\",\"pattern\":{\"shape\":\"\"}},\"name\":\"Faure\",\"offsetgroup\":\"Faure\",\"orientation\":\"v\",\"showlegend\":true,\"textposition\":\"auto\",\"x\":[\"Dotted Eighth\",\"Dotted Half\",\"Dotted Quarter\",\"Dotted Sixteenth\",\"Eighth\",\"Half\",\"Quarter\",\"Sixteenth\",\"Thirty Second\",\"Tied Quarter-Sixteenth\",\"Tied Quarter-Thirty Second\",\"Triplet\",\"Triplet Sixteenth\",\"Triplet Thirty Second\",\"Unknown\",\"Whole\"],\"xaxis\":\"x\",\"y\":[10.277864781421988,3.378227213745581,3.9554342476173434,0.3176875922860083,29.89842945993109,3.3021611705221705,8.734171551299834,19.87113517383328,7.46789565528659,0.9978075081659136,0.17450445210076515,9.033961251062687,0.536936775694662,0.02237236565394425,1.575014542037675,0.45639625934046263],\"yaxis\":\"y\",\"type\":\"bar\"},{\"alignmentgroup\":\"True\",\"hovertemplate\":\"Composer=Haydn<br>Note Type=%{x}<br>Note %=%{y}<extra></extra>\",\"legendgroup\":\"Haydn\",\"marker\":{\"color\":\"#FF6692\",\"pattern\":{\"shape\":\"\"}},\"name\":\"Haydn\",\"offsetgroup\":\"Haydn\",\"orientation\":\"v\",\"showlegend\":true,\"textposition\":\"auto\",\"x\":[\"Dotted Eighth\",\"Dotted Half\",\"Dotted Quarter\",\"Dotted Sixteenth\",\"Eighth\",\"Half\",\"Quarter\",\"Sixteenth\",\"Sixty Fourth\",\"Thirty Second\",\"Tied Quarter-Sixteenth\",\"Tied Quarter-Thirty Second\",\"Triplet\",\"Triplet Sixteenth\",\"Triplet Sixty Fourth\",\"Triplet Thirty Second\",\"Unknown\",\"Whole\"],\"xaxis\":\"x\",\"y\":[3.0197075651621104,1.3668150031786395,0.810553083280356,0.11125238397965671,35.69612205975842,7.43801652892562,30.64208518753973,2.9243483788938334,0.22250476795931343,4.465988556897648,0.03178639542275906,0.04767959313413859,9.758423394787032,1.9548633184996822,0.34965034965034963,0.11125238397965671,0.2066115702479339,0.8423394787031151],\"yaxis\":\"y\",\"type\":\"bar\"},{\"alignmentgroup\":\"True\",\"hovertemplate\":\"Composer=Mozart<br>Note Type=%{x}<br>Note %=%{y}<extra></extra>\",\"legendgroup\":\"Mozart\",\"marker\":{\"color\":\"#B6E880\",\"pattern\":{\"shape\":\"\"}},\"name\":\"Mozart\",\"offsetgroup\":\"Mozart\",\"orientation\":\"v\",\"showlegend\":true,\"textposition\":\"auto\",\"x\":[\"Dotted Eighth\",\"Dotted Half\",\"Dotted Quarter\",\"Dotted Sixteenth\",\"Eighth\",\"Half\",\"Quarter\",\"Sixteenth\",\"Sixty Fourth\",\"Thirty Second\",\"Tied Quarter-Sixteenth\",\"Tied Quarter-Thirty Second\",\"Triplet\",\"Triplet Sixteenth\",\"Triplet Sixty Fourth\",\"Triplet Thirty Second\",\"Unknown\",\"Whole\"],\"xaxis\":\"x\",\"y\":[5.635453707362044,0.8270775714473858,1.5540629527196101,7.2817068352429875,27.815092848676414,3.1594890030291056,12.832872382457527,17.33833794284209,1.3130514947978402,7.015672329777427,0.37271170815224547,0.03555906756222837,3.9510075069142636,8.419596997234295,0.0777031476359805,1.82273146318978,0.2080863953641512,0.3397866455946266],\"yaxis\":\"y\",\"type\":\"bar\"},{\"alignmentgroup\":\"True\",\"hovertemplate\":\"Composer=Ravel<br>Note Type=%{x}<br>Note %=%{y}<extra></extra>\",\"legendgroup\":\"Ravel\",\"marker\":{\"color\":\"#FF97FF\",\"pattern\":{\"shape\":\"\"}},\"name\":\"Ravel\",\"offsetgroup\":\"Ravel\",\"orientation\":\"v\",\"showlegend\":true,\"textposition\":\"auto\",\"x\":[\"Dotted Eighth\",\"Dotted Half\",\"Dotted Quarter\",\"Dotted Sixteenth\",\"Eighth\",\"Half\",\"Quarter\",\"Sixteenth\",\"Sixty Fourth\",\"Thirty Second\",\"Tied Quarter-Sixteenth\",\"Tied Quarter-Thirty Second\",\"Triplet\",\"Triplet Sixteenth\",\"Triplet Sixty Fourth\",\"Triplet Thirty Second\",\"Unknown\",\"Whole\"],\"xaxis\":\"x\",\"y\":[3.2790763698306047,1.0551717611431815,0.6719030945396044,0.39273209047033214,6.454055077126905,2.5078073246900727,5.74429828712028,39.62335573010315,3.146588435696035,30.193053846881803,0.7428787735402669,0.08517081480079493,3.6765401722343145,1.8500993659506009,0.037853695467019964,0.0047317119333774955,0.2271221728021198,0.3075612756695372],\"yaxis\":\"y\",\"type\":\"bar\"},{\"alignmentgroup\":\"True\",\"hovertemplate\":\"Composer=Schubert<br>Note Type=%{x}<br>Note %=%{y}<extra></extra>\",\"legendgroup\":\"Schubert\",\"marker\":{\"color\":\"#FECB52\",\"pattern\":{\"shape\":\"\"}},\"name\":\"Schubert\",\"offsetgroup\":\"Schubert\",\"orientation\":\"v\",\"showlegend\":true,\"textposition\":\"auto\",\"x\":[\"Dotted Eighth\",\"Dotted Half\",\"Dotted Quarter\",\"Dotted Sixteenth\",\"Eighth\",\"Half\",\"Quarter\",\"Sixteenth\",\"Sixty Fourth\",\"Thirty Second\",\"Tied Quarter-Sixteenth\",\"Tied Quarter-Thirty Second\",\"Triplet\",\"Triplet Sixteenth\",\"Triplet Sixty Fourth\",\"Triplet Thirty Second\",\"Unknown\",\"Whole\"],\"xaxis\":\"x\",\"y\":[3.708656260233599,1.2573681912454973,1.7322071826219845,2.3741949568824365,20.401020630935488,4.876651020630936,10.784166575701343,19.825892369828622,0.9817432594694901,4.87937998035149,0.23741949568824366,0.033429756576792924,9.787414037768803,7.240612378561292,5.3180602554306295,5.5602554306298435,0.7340901648291671,0.2674380526143434],\"yaxis\":\"y\",\"type\":\"bar\"}],                        {\"template\":{\"data\":{\"histogram2dcontour\":[{\"type\":\"histogram2dcontour\",\"colorbar\":{\"outlinewidth\":0,\"ticks\":\"\"},\"colorscale\":[[0.0,\"#0d0887\"],[0.1111111111111111,\"#46039f\"],[0.2222222222222222,\"#7201a8\"],[0.3333333333333333,\"#9c179e\"],[0.4444444444444444,\"#bd3786\"],[0.5555555555555556,\"#d8576b\"],[0.6666666666666666,\"#ed7953\"],[0.7777777777777778,\"#fb9f3a\"],[0.8888888888888888,\"#fdca26\"],[1.0,\"#f0f921\"]]}],\"choropleth\":[{\"type\":\"choropleth\",\"colorbar\":{\"outlinewidth\":0,\"ticks\":\"\"}}],\"histogram2d\":[{\"type\":\"histogram2d\",\"colorbar\":{\"outlinewidth\":0,\"ticks\":\"\"},\"colorscale\":[[0.0,\"#0d0887\"],[0.1111111111111111,\"#46039f\"],[0.2222222222222222,\"#7201a8\"],[0.3333333333333333,\"#9c179e\"],[0.4444444444444444,\"#bd3786\"],[0.5555555555555556,\"#d8576b\"],[0.6666666666666666,\"#ed7953\"],[0.7777777777777778,\"#fb9f3a\"],[0.8888888888888888,\"#fdca26\"],[1.0,\"#f0f921\"]]}],\"heatmap\":[{\"type\":\"heatmap\",\"colorbar\":{\"outlinewidth\":0,\"ticks\":\"\"},\"colorscale\":[[0.0,\"#0d0887\"],[0.1111111111111111,\"#46039f\"],[0.2222222222222222,\"#7201a8\"],[0.3333333333333333,\"#9c179e\"],[0.4444444444444444,\"#bd3786\"],[0.5555555555555556,\"#d8576b\"],[0.6666666666666666,\"#ed7953\"],[0.7777777777777778,\"#fb9f3a\"],[0.8888888888888888,\"#fdca26\"],[1.0,\"#f0f921\"]]}],\"heatmapgl\":[{\"type\":\"heatmapgl\",\"colorbar\":{\"outlinewidth\":0,\"ticks\":\"\"},\"colorscale\":[[0.0,\"#0d0887\"],[0.1111111111111111,\"#46039f\"],[0.2222222222222222,\"#7201a8\"],[0.3333333333333333,\"#9c179e\"],[0.4444444444444444,\"#bd3786\"],[0.5555555555555556,\"#d8576b\"],[0.6666666666666666,\"#ed7953\"],[0.7777777777777778,\"#fb9f3a\"],[0.8888888888888888,\"#fdca26\"],[1.0,\"#f0f921\"]]}],\"contourcarpet\":[{\"type\":\"contourcarpet\",\"colorbar\":{\"outlinewidth\":0,\"ticks\":\"\"}}],\"contour\":[{\"type\":\"contour\",\"colorbar\":{\"outlinewidth\":0,\"ticks\":\"\"},\"colorscale\":[[0.0,\"#0d0887\"],[0.1111111111111111,\"#46039f\"],[0.2222222222222222,\"#7201a8\"],[0.3333333333333333,\"#9c179e\"],[0.4444444444444444,\"#bd3786\"],[0.5555555555555556,\"#d8576b\"],[0.6666666666666666,\"#ed7953\"],[0.7777777777777778,\"#fb9f3a\"],[0.8888888888888888,\"#fdca26\"],[1.0,\"#f0f921\"]]}],\"surface\":[{\"type\":\"surface\",\"colorbar\":{\"outlinewidth\":0,\"ticks\":\"\"},\"colorscale\":[[0.0,\"#0d0887\"],[0.1111111111111111,\"#46039f\"],[0.2222222222222222,\"#7201a8\"],[0.3333333333333333,\"#9c179e\"],[0.4444444444444444,\"#bd3786\"],[0.5555555555555556,\"#d8576b\"],[0.6666666666666666,\"#ed7953\"],[0.7777777777777778,\"#fb9f3a\"],[0.8888888888888888,\"#fdca26\"],[1.0,\"#f0f921\"]]}],\"mesh3d\":[{\"type\":\"mesh3d\",\"colorbar\":{\"outlinewidth\":0,\"ticks\":\"\"}}],\"scatter\":[{\"fillpattern\":{\"fillmode\":\"overlay\",\"size\":10,\"solidity\":0.2},\"type\":\"scatter\"}],\"parcoords\":[{\"type\":\"parcoords\",\"line\":{\"colorbar\":{\"outlinewidth\":0,\"ticks\":\"\"}}}],\"scatterpolargl\":[{\"type\":\"scatterpolargl\",\"marker\":{\"colorbar\":{\"outlinewidth\":0,\"ticks\":\"\"}}}],\"bar\":[{\"error_x\":{\"color\":\"#2a3f5f\"},\"error_y\":{\"color\":\"#2a3f5f\"},\"marker\":{\"line\":{\"color\":\"#E5ECF6\",\"width\":0.5},\"pattern\":{\"fillmode\":\"overlay\",\"size\":10,\"solidity\":0.2}},\"type\":\"bar\"}],\"scattergeo\":[{\"type\":\"scattergeo\",\"marker\":{\"colorbar\":{\"outlinewidth\":0,\"ticks\":\"\"}}}],\"scatterpolar\":[{\"type\":\"scatterpolar\",\"marker\":{\"colorbar\":{\"outlinewidth\":0,\"ticks\":\"\"}}}],\"histogram\":[{\"marker\":{\"pattern\":{\"fillmode\":\"overlay\",\"size\":10,\"solidity\":0.2}},\"type\":\"histogram\"}],\"scattergl\":[{\"type\":\"scattergl\",\"marker\":{\"colorbar\":{\"outlinewidth\":0,\"ticks\":\"\"}}}],\"scatter3d\":[{\"type\":\"scatter3d\",\"line\":{\"colorbar\":{\"outlinewidth\":0,\"ticks\":\"\"}},\"marker\":{\"colorbar\":{\"outlinewidth\":0,\"ticks\":\"\"}}}],\"scattermapbox\":[{\"type\":\"scattermapbox\",\"marker\":{\"colorbar\":{\"outlinewidth\":0,\"ticks\":\"\"}}}],\"scatterternary\":[{\"type\":\"scatterternary\",\"marker\":{\"colorbar\":{\"outlinewidth\":0,\"ticks\":\"\"}}}],\"scattercarpet\":[{\"type\":\"scattercarpet\",\"marker\":{\"colorbar\":{\"outlinewidth\":0,\"ticks\":\"\"}}}],\"carpet\":[{\"aaxis\":{\"endlinecolor\":\"#2a3f5f\",\"gridcolor\":\"white\",\"linecolor\":\"white\",\"minorgridcolor\":\"white\",\"startlinecolor\":\"#2a3f5f\"},\"baxis\":{\"endlinecolor\":\"#2a3f5f\",\"gridcolor\":\"white\",\"linecolor\":\"white\",\"minorgridcolor\":\"white\",\"startlinecolor\":\"#2a3f5f\"},\"type\":\"carpet\"}],\"table\":[{\"cells\":{\"fill\":{\"color\":\"#EBF0F8\"},\"line\":{\"color\":\"white\"}},\"header\":{\"fill\":{\"color\":\"#C8D4E3\"},\"line\":{\"color\":\"white\"}},\"type\":\"table\"}],\"barpolar\":[{\"marker\":{\"line\":{\"color\":\"#E5ECF6\",\"width\":0.5},\"pattern\":{\"fillmode\":\"overlay\",\"size\":10,\"solidity\":0.2}},\"type\":\"barpolar\"}],\"pie\":[{\"automargin\":true,\"type\":\"pie\"}]},\"layout\":{\"autotypenumbers\":\"strict\",\"colorway\":[\"#636efa\",\"#EF553B\",\"#00cc96\",\"#ab63fa\",\"#FFA15A\",\"#19d3f3\",\"#FF6692\",\"#B6E880\",\"#FF97FF\",\"#FECB52\"],\"font\":{\"color\":\"#2a3f5f\"},\"hovermode\":\"closest\",\"hoverlabel\":{\"align\":\"left\"},\"paper_bgcolor\":\"white\",\"plot_bgcolor\":\"#E5ECF6\",\"polar\":{\"bgcolor\":\"#E5ECF6\",\"angularaxis\":{\"gridcolor\":\"white\",\"linecolor\":\"white\",\"ticks\":\"\"},\"radialaxis\":{\"gridcolor\":\"white\",\"linecolor\":\"white\",\"ticks\":\"\"}},\"ternary\":{\"bgcolor\":\"#E5ECF6\",\"aaxis\":{\"gridcolor\":\"white\",\"linecolor\":\"white\",\"ticks\":\"\"},\"baxis\":{\"gridcolor\":\"white\",\"linecolor\":\"white\",\"ticks\":\"\"},\"caxis\":{\"gridcolor\":\"white\",\"linecolor\":\"white\",\"ticks\":\"\"}},\"coloraxis\":{\"colorbar\":{\"outlinewidth\":0,\"ticks\":\"\"}},\"colorscale\":{\"sequential\":[[0.0,\"#0d0887\"],[0.1111111111111111,\"#46039f\"],[0.2222222222222222,\"#7201a8\"],[0.3333333333333333,\"#9c179e\"],[0.4444444444444444,\"#bd3786\"],[0.5555555555555556,\"#d8576b\"],[0.6666666666666666,\"#ed7953\"],[0.7777777777777778,\"#fb9f3a\"],[0.8888888888888888,\"#fdca26\"],[1.0,\"#f0f921\"]],\"sequentialminus\":[[0.0,\"#0d0887\"],[0.1111111111111111,\"#46039f\"],[0.2222222222222222,\"#7201a8\"],[0.3333333333333333,\"#9c179e\"],[0.4444444444444444,\"#bd3786\"],[0.5555555555555556,\"#d8576b\"],[0.6666666666666666,\"#ed7953\"],[0.7777777777777778,\"#fb9f3a\"],[0.8888888888888888,\"#fdca26\"],[1.0,\"#f0f921\"]],\"diverging\":[[0,\"#8e0152\"],[0.1,\"#c51b7d\"],[0.2,\"#de77ae\"],[0.3,\"#f1b6da\"],[0.4,\"#fde0ef\"],[0.5,\"#f7f7f7\"],[0.6,\"#e6f5d0\"],[0.7,\"#b8e186\"],[0.8,\"#7fbc41\"],[0.9,\"#4d9221\"],[1,\"#276419\"]]},\"xaxis\":{\"gridcolor\":\"white\",\"linecolor\":\"white\",\"ticks\":\"\",\"title\":{\"standoff\":15},\"zerolinecolor\":\"white\",\"automargin\":true,\"zerolinewidth\":2},\"yaxis\":{\"gridcolor\":\"white\",\"linecolor\":\"white\",\"ticks\":\"\",\"title\":{\"standoff\":15},\"zerolinecolor\":\"white\",\"automargin\":true,\"zerolinewidth\":2},\"scene\":{\"xaxis\":{\"backgroundcolor\":\"#E5ECF6\",\"gridcolor\":\"white\",\"linecolor\":\"white\",\"showbackground\":true,\"ticks\":\"\",\"zerolinecolor\":\"white\",\"gridwidth\":2},\"yaxis\":{\"backgroundcolor\":\"#E5ECF6\",\"gridcolor\":\"white\",\"linecolor\":\"white\",\"showbackground\":true,\"ticks\":\"\",\"zerolinecolor\":\"white\",\"gridwidth\":2},\"zaxis\":{\"backgroundcolor\":\"#E5ECF6\",\"gridcolor\":\"white\",\"linecolor\":\"white\",\"showbackground\":true,\"ticks\":\"\",\"zerolinecolor\":\"white\",\"gridwidth\":2}},\"shapedefaults\":{\"line\":{\"color\":\"#2a3f5f\"}},\"annotationdefaults\":{\"arrowcolor\":\"#2a3f5f\",\"arrowhead\":0,\"arrowwidth\":1},\"geo\":{\"bgcolor\":\"white\",\"landcolor\":\"#E5ECF6\",\"subunitcolor\":\"white\",\"showland\":true,\"showlakes\":true,\"lakecolor\":\"white\"},\"title\":{\"x\":0.05},\"mapbox\":{\"style\":\"light\"}}},\"xaxis\":{\"anchor\":\"y\",\"domain\":[0.0,1.0],\"title\":{\"text\":\"Note Type\"}},\"yaxis\":{\"anchor\":\"x\",\"domain\":[0.0,1.0],\"title\":{\"text\":\"Note %\"}},\"legend\":{\"title\":{\"text\":\"Composer\"},\"tracegroupgap\":0},\"margin\":{\"t\":60},\"barmode\":\"relative\",\"height\":1500,\"width\":1500},                        {\"responsive\": true}                    ).then(function(){\n",
       "                            \n",
       "var gd = document.getElementById('3cf6d21d-e573-429c-949f-d4e7665c0daa');\n",
       "var x = new MutationObserver(function (mutations, observer) {{\n",
       "        var display = window.getComputedStyle(gd).display;\n",
       "        if (!display || display === 'none') {{\n",
       "            console.log([gd, 'removed!']);\n",
       "            Plotly.purge(gd);\n",
       "            observer.disconnect();\n",
       "        }}\n",
       "}});\n",
       "\n",
       "// Listen for the removal of the full notebook cells\n",
       "var notebookContainer = gd.closest('#notebook-container');\n",
       "if (notebookContainer) {{\n",
       "    x.observe(notebookContainer, {childList: true});\n",
       "}}\n",
       "\n",
       "// Listen for the clearing of the current output cell\n",
       "var outputEl = gd.closest('.output');\n",
       "if (outputEl) {{\n",
       "    x.observe(outputEl, {childList: true});\n",
       "}}\n",
       "\n",
       "                        })                };                });            </script>        </div>"
      ]
     },
     "metadata": {},
     "output_type": "display_data"
    }
   ],
   "source": [
    "fig = px.bar(note_types_df, x='Note Type', y='Note %', color='Composer')\n",
    "fig.update_layout(height=1500, width=1500)\n",
    "fig.show()"
   ]
  },
  {
   "cell_type": "code",
   "execution_count": null,
   "metadata": {},
   "outputs": [],
   "source": []
  }
 ],
 "metadata": {
  "kernelspec": {
   "display_name": "Python 3",
   "language": "python",
   "name": "python3"
  },
  "language_info": {
   "codemirror_mode": {
    "name": "ipython",
    "version": 3
   },
   "file_extension": ".py",
   "mimetype": "text/x-python",
   "name": "python",
   "nbconvert_exporter": "python",
   "pygments_lexer": "ipython3",
   "version": "3.9.5"
  }
 },
 "nbformat": 4,
 "nbformat_minor": 4
}
