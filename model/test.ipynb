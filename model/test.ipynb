{
 "cells": [
  {
   "cell_type": "code",
   "execution_count": 1,
   "metadata": {},
   "outputs": [],
   "source": [
    "from preprocess import load_data"
   ]
  },
  {
   "cell_type": "code",
   "execution_count": 2,
   "metadata": {},
   "outputs": [],
   "source": [
    "x_train, y_train = load_data([1], True)\n",
    "x_test, y_test = load_data([1])"
   ]
  },
  {
   "cell_type": "code",
   "execution_count": 3,
   "metadata": {},
   "outputs": [
    {
     "name": "stdout",
     "output_type": "stream",
     "text": [
      "(88, 274944) (128, 274944)\n",
      "(88, 127808) (128, 127808)\n"
     ]
    }
   ],
   "source": [
    "print(x_train.shape, y_train.shape)\n",
    "print(x_test.shape, y_test.shape)"
   ]
  },
  {
   "cell_type": "code",
   "execution_count": 4,
   "metadata": {},
   "outputs": [],
   "source": [
    "import numpy as np\n",
    "\n",
    "x_train = np.reshape(x_train.T, (x_train.shape[1] // 64, 64, 88))\n",
    "y_train = np.reshape(y_train.T, (y_train.shape[1] // 64, 64, 128))\n",
    "x_test = np.reshape(x_test.T, (x_test.shape[1] // 64, 64, 88))\n",
    "y_test = np.reshape(y_test.T, (y_test.shape[1] // 64, 64, 128))"
   ]
  },
  {
   "cell_type": "code",
   "execution_count": 5,
   "metadata": {},
   "outputs": [
    {
     "name": "stderr",
     "output_type": "stream",
     "text": [
      "2022-12-01 11:13:50.019266: I tensorflow/core/platform/cpu_feature_guard.cc:151] This TensorFlow binary is optimized with oneAPI Deep Neural Network Library (oneDNN) to use the following CPU instructions in performance-critical operations:  AVX2 FMA\n",
      "To enable them in other operations, rebuild TensorFlow with the appropriate compiler flags.\n"
     ]
    },
    {
     "name": "stdout",
     "output_type": "stream",
     "text": [
      "Epoch 1/5\n",
      "43/43 [==============================] - 6s 104ms/step - loss: 0.3061 - binary_accuracy: 0.9217 - val_loss: 0.0922 - val_binary_accuracy: 0.9808\n",
      "Epoch 2/5\n",
      "43/43 [==============================] - 4s 94ms/step - loss: 0.1047 - binary_accuracy: 0.9745 - val_loss: 0.0852 - val_binary_accuracy: 0.9808\n",
      "Epoch 3/5\n",
      "43/43 [==============================] - 4s 88ms/step - loss: 0.1011 - binary_accuracy: 0.9745 - val_loss: 0.0832 - val_binary_accuracy: 0.9808\n",
      "Epoch 4/5\n",
      "43/43 [==============================] - 4s 86ms/step - loss: 0.0995 - binary_accuracy: 0.9745 - val_loss: 0.0821 - val_binary_accuracy: 0.9808\n",
      "Epoch 5/5\n",
      "43/43 [==============================] - 4s 95ms/step - loss: 0.0982 - binary_accuracy: 0.9745 - val_loss: 0.0813 - val_binary_accuracy: 0.9808\n"
     ]
    },
    {
     "data": {
      "text/plain": [
       "<keras.callbacks.History at 0x171526a90>"
      ]
     },
     "execution_count": 5,
     "metadata": {},
     "output_type": "execute_result"
    }
   ],
   "source": [
    "from lstm import get_text_model\n",
    "\n",
    "args = get_text_model()\n",
    "args.model.fit(\n",
    "    x_train, y_train,\n",
    "    epochs=args.epochs, \n",
    "    batch_size=args.batch_size,\n",
    "    validation_data=(x_test, y_test)\n",
    ")"
   ]
  }
 ],
 "metadata": {
  "kernelspec": {
   "display_name": "Python 3.9.13 ('dl3')",
   "language": "python",
   "name": "python3"
  },
  "language_info": {
   "codemirror_mode": {
    "name": "ipython",
    "version": 3
   },
   "file_extension": ".py",
   "mimetype": "text/x-python",
   "name": "python",
   "nbconvert_exporter": "python",
   "pygments_lexer": "ipython3",
   "version": "3.9.13"
  },
  "orig_nbformat": 4,
  "vscode": {
   "interpreter": {
    "hash": "a2e6aabd5c0c813c3948dc424b0491290cd6324f164f85c5718a3aaa5a985a3c"
   }
  }
 },
 "nbformat": 4,
 "nbformat_minor": 2
}
