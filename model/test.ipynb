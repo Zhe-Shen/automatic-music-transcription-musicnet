{
 "cells": [
  {
   "cell_type": "code",
   "execution_count": 1,
   "metadata": {},
   "outputs": [],
   "source": [
    "from preprocess import load_data"
   ]
  },
  {
   "cell_type": "code",
   "execution_count": 2,
   "metadata": {},
   "outputs": [],
   "source": [
    "x_train, y_train = load_data([i for i in range(1, 16)], True)\n",
    "x_test, y_test = load_data([1])"
   ]
  },
  {
   "cell_type": "code",
   "execution_count": 3,
   "metadata": {},
   "outputs": [
    {
     "name": "stdout",
     "output_type": "stream",
     "text": [
      "(88, 4931392) (128, 4931392)\n",
      "(88, 127808) (128, 127808)\n"
     ]
    }
   ],
   "source": [
    "print(x_train.shape, y_train.shape)\n",
    "print(x_test.shape, y_test.shape)"
   ]
  },
  {
   "cell_type": "code",
   "execution_count": 4,
   "metadata": {},
   "outputs": [],
   "source": [
    "import numpy as np\n",
    "\n",
    "x_train = np.reshape(x_train.T, (x_train.shape[1] // 64, 64, 88))\n",
    "y_train = np.reshape(y_train.T, (y_train.shape[1] // 64, 64, 128))\n",
    "x_test = np.reshape(x_test.T, (x_test.shape[1] // 64, 64, 88))\n",
    "y_test = np.reshape(y_test.T, (y_test.shape[1] // 64, 64, 128))"
   ]
  },
  {
   "cell_type": "code",
   "execution_count": 5,
   "metadata": {},
   "outputs": [
    {
     "name": "stderr",
     "output_type": "stream",
     "text": [
      "2022-12-05 23:05:55.093836: I tensorflow/core/platform/cpu_feature_guard.cc:151] This TensorFlow binary is optimized with oneAPI Deep Neural Network Library (oneDNN) to use the following CPU instructions in performance-critical operations:  AVX2 FMA\n",
      "To enable them in other operations, rebuild TensorFlow with the appropriate compiler flags.\n"
     ]
    },
    {
     "name": "stdout",
     "output_type": "stream",
     "text": [
      "Epoch 1/10\n",
      "771/771 [==============================] - 115s 146ms/step - loss: 0.0267 - binary_accuracy: 0.9734 - precision: 0.0290 - recall: 0.0020 - val_loss: 0.0182 - val_binary_accuracy: 0.9808 - val_precision: 0.0000e+00 - val_recall: 0.0000e+00\n",
      "Epoch 2/10\n",
      "771/771 [==============================] - 109s 141ms/step - loss: 0.0225 - binary_accuracy: 0.9751 - precision: 0.5803 - recall: 0.0073 - val_loss: 0.0172 - val_binary_accuracy: 0.9809 - val_precision: 0.5086 - val_recall: 0.0188\n",
      "Epoch 3/10\n",
      "771/771 [==============================] - 108s 140ms/step - loss: 0.0215 - binary_accuracy: 0.9753 - precision: 0.5759 - recall: 0.0378 - val_loss: 0.0167 - val_binary_accuracy: 0.9810 - val_precision: 0.5299 - val_recall: 0.0633\n",
      "Epoch 4/10\n",
      "771/771 [==============================] - 111s 144ms/step - loss: 0.0208 - binary_accuracy: 0.9755 - precision: 0.5784 - recall: 0.0668 - val_loss: 0.0163 - val_binary_accuracy: 0.9810 - val_precision: 0.5267 - val_recall: 0.0853\n",
      "Epoch 5/10\n",
      "771/771 [==============================] - 108s 140ms/step - loss: 0.0204 - binary_accuracy: 0.9757 - precision: 0.5819 - recall: 0.0884 - val_loss: 0.0160 - val_binary_accuracy: 0.9810 - val_precision: 0.5153 - val_recall: 0.1001\n",
      "Epoch 6/10\n",
      "771/771 [==============================] - 107s 138ms/step - loss: 0.0199 - binary_accuracy: 0.9759 - precision: 0.5850 - recall: 0.1074 - val_loss: 0.0158 - val_binary_accuracy: 0.9810 - val_precision: 0.5137 - val_recall: 0.1256\n",
      "Epoch 7/10\n",
      "771/771 [==============================] - 103s 134ms/step - loss: 0.0196 - binary_accuracy: 0.9760 - precision: 0.5858 - recall: 0.1241 - val_loss: 0.0155 - val_binary_accuracy: 0.9812 - val_precision: 0.5407 - val_recall: 0.1283\n",
      "Epoch 8/10\n",
      "771/771 [==============================] - 106s 137ms/step - loss: 0.0192 - binary_accuracy: 0.9762 - precision: 0.5879 - recall: 0.1432 - val_loss: 0.0153 - val_binary_accuracy: 0.9812 - val_precision: 0.5406 - val_recall: 0.1320\n",
      "Epoch 9/10\n",
      "771/771 [==============================] - 105s 137ms/step - loss: 0.0189 - binary_accuracy: 0.9763 - precision: 0.5921 - recall: 0.1577 - val_loss: 0.0152 - val_binary_accuracy: 0.9813 - val_precision: 0.5402 - val_recall: 0.1444\n",
      "Epoch 10/10\n",
      "771/771 [==============================] - 106s 138ms/step - loss: 0.0187 - binary_accuracy: 0.9765 - precision: 0.5974 - recall: 0.1709 - val_loss: 0.0152 - val_binary_accuracy: 0.9812 - val_precision: 0.5307 - val_recall: 0.1541\n"
     ]
    },
    {
     "data": {
      "text/plain": [
       "<keras.callbacks.History at 0x16e4ebf70>"
      ]
     },
     "execution_count": 5,
     "metadata": {},
     "output_type": "execute_result"
    }
   ],
   "source": [
    "from lstm import get_text_model\n",
    "\n",
    "args = get_text_model()\n",
    "args.model.fit(\n",
    "    x_train, y_train,\n",
    "    epochs=args.epochs, \n",
    "    batch_size=args.batch_size,\n",
    "    validation_data=(x_test, y_test)\n",
    ")"
   ]
  }
 ],
 "metadata": {
  "kernelspec": {
   "display_name": "Python 3.9.13 ('dl3')",
   "language": "python",
   "name": "python3"
  },
  "language_info": {
   "codemirror_mode": {
    "name": "ipython",
    "version": 3
   },
   "file_extension": ".py",
   "mimetype": "text/x-python",
   "name": "python",
   "nbconvert_exporter": "python",
   "pygments_lexer": "ipython3",
   "version": "3.9.13"
  },
  "orig_nbformat": 4,
  "vscode": {
   "interpreter": {
    "hash": "a2e6aabd5c0c813c3948dc424b0491290cd6324f164f85c5718a3aaa5a985a3c"
   }
  }
 },
 "nbformat": 4,
 "nbformat_minor": 2
}
